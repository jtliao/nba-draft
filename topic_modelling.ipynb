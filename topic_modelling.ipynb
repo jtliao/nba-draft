{
 "cells": [
  {
   "cell_type": "code",
   "execution_count": 11,
   "metadata": {
    "collapsed": true
   },
   "outputs": [],
   "source": [
    "from sklearn.feature_extraction.text import TfidfVectorizer\n",
    "from sklearn.decomposition import LatentDirichletAllocation\n",
    "import nltk\n",
    "import json"
   ]
  },
  {
   "cell_type": "code",
   "execution_count": null,
   "metadata": {
    "collapsed": false
   },
   "outputs": [],
   "source": []
  },
  {
   "cell_type": "code",
   "execution_count": 14,
   "metadata": {
    "collapsed": true
   },
   "outputs": [],
   "source": [
    "with open(\"prospect_to_docs.json\", \"r\") as f:\n",
    "    prospects = json.load(f)"
   ]
  },
  {
   "cell_type": "code",
   "execution_count": 15,
   "metadata": {
    "collapsed": true
   },
   "outputs": [],
   "source": [
    "with open(\"curr_player_to_docs.json\", \"r\") as f:\n",
    "    curr_players = json.load(f)"
   ]
  },
  {
   "cell_type": "code",
   "execution_count": null,
   "metadata": {
    "collapsed": true
   },
   "outputs": [],
   "source": []
  },
  {
   "cell_type": "code",
   "execution_count": 7,
   "metadata": {
    "collapsed": true
   },
   "outputs": [],
   "source": [
    "def get_tfidf_matrix(player_dict):\n",
    "    text_list = []\n",
    "    playername_list = []\n",
    "    for player, text in player_dict.items():\n",
    "        text_list.append(text)\n",
    "        playername_list.append(player)\n",
    "\n",
    "    tfidf_vectorizer = TfidfVectorizer(input=text_list, lowercase=True, stop_words=\"english\", max_df=0.8)\n",
    "    tfidf_text = tfidf_vectorizer.fit_transform(text_list)\n",
    "    tfidf_feature_names = tfidf_vectorizer.get_feature_names()\n",
    "    return tfidf_text, tfidf_feature_names"
   ]
  },
  {
   "cell_type": "code",
   "execution_count": 16,
   "metadata": {
    "collapsed": false
   },
   "outputs": [
    {
     "name": "stdout",
     "output_type": "stream",
     "text": [
      "(100, 5584)\n",
      "(719, 19866)\n"
     ]
    }
   ],
   "source": [
    "tfidf_prospects_matrix, tfidf_prospects_feature_names = get_tfidf_matrix(prospects)\n",
    "print(tfidf_prospects_matrix.shape)\n",
    "\n",
    "tfidf_curr_players_matrix, tfidf_curr_players_feature_names = get_tfidf_matrix(curr_players)\n",
    "print(tfidf_curr_players_matrix.shape)\n"
   ]
  },
  {
   "cell_type": "code",
   "execution_count": null,
   "metadata": {
    "collapsed": true
   },
   "outputs": [],
   "source": []
  },
  {
   "cell_type": "code",
   "execution_count": 12,
   "metadata": {
    "collapsed": true
   },
   "outputs": [],
   "source": [
    "def display_topics(model, feature_names, no_top_words):\n",
    "    for topic_idx, topic in enumerate(model.components_):\n",
    "        print \"Topic %d:\" % (topic_idx)\n",
    "        print \" \".join([feature_names[i]\n",
    "                        for i in topic.argsort()[:-no_top_words - 1:-1]])\n",
    "\n",
    "def topic_model(tfidf_matrix, tfidf_feature_names):\n",
    "    lda_model = LatentDirichletAllocation(n_topics=10).fit(tfidf_matrix)\n",
    "    display_topics(lda_model, tfidf_feature_names, no_top_words=15)\n",
    "    \n",
    "#     lda_text = lda_model.transform(tfidf_matrix)\n",
    "    "
   ]
  },
  {
   "cell_type": "code",
   "execution_count": 17,
   "metadata": {
    "collapsed": false
   },
   "outputs": [
    {
     "name": "stderr",
     "output_type": "stream",
     "text": [
      "C:\\Users\\Eric\\Anaconda2\\envs\\cs4300\\lib\\site-packages\\sklearn\\decomposition\\online_lda.py:508: DeprecationWarning: The default value for 'learning_method' will be changed from 'online' to 'batch' in the release 0.20. This warning was introduced in 0.18.\n",
      "  DeprecationWarning)\n"
     ]
    },
    {
     "name": "stdout",
     "output_type": "stream",
     "text": [
      "Topic 0:\n",
      "varnado patterson horford bradley felton ager ennis amir majok wright video vs trying analysis uconn\n",
      "Topic 1:\n",
      "johnson video interview workout booker post vs motiejunas carney bairstow gallon guard allen payne paul\n",
      "Topic 2:\n",
      "thornton wright burks mack love crittenton hanlan guard strawberry thompkins gist macklin connaughton radicevic singletary\n",
      "Topic 3:\n",
      "thabeet lee summers martin workout preview ooze robinson 0wingspan inspiration masking hammer semblances sandwiched unlucky\n",
      "Topic 4:\n",
      "hobson lowry karasev ulis cousins oden mayo ilyasova jenkins report video scouting grant tavares breakdown\n",
      "Topic 5:\n",
      "hamilton almond hilliard barac papanikolaou daye barton video green price liggins lalanne scouting randle daniels\n",
      "Topic 6:\n",
      "withey sharpe kanter rivers bryant griffin hanga ewing millsap lawson norel caldwell zeller noel johnson\n",
      "Topic 7:\n",
      "foye yi wall douby dozier vaden lucas brown harrison nogueira uconn video lot going ll\n",
      "Topic 8:\n",
      "interview noah rush workout richard video rozier wallace green gasol osby diebler richardson romero dekker\n",
      "Topic 9:\n",
      "video post guard scouting college interview report forward dribble going workout basketball right williams vs\n"
     ]
    }
   ],
   "source": [
    "topic_model(tfidf_curr_players_matrix, tfidf_curr_players_feature_names)"
   ]
  },
  {
   "cell_type": "code",
   "execution_count": null,
   "metadata": {
    "collapsed": true
   },
   "outputs": [],
   "source": []
  }
 ],
 "metadata": {
  "anaconda-cloud": {},
  "kernelspec": {
   "display_name": "Python [conda env:cs4300]",
   "language": "python",
   "name": "conda-env-cs4300-py"
  },
  "language_info": {
   "codemirror_mode": {
    "name": "ipython",
    "version": 2
   },
   "file_extension": ".py",
   "mimetype": "text/x-python",
   "name": "python",
   "nbconvert_exporter": "python",
   "pygments_lexer": "ipython2",
   "version": "2.7.13"
  }
 },
 "nbformat": 4,
 "nbformat_minor": 1
}
