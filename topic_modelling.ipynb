{
 "cells": [
  {
   "cell_type": "code",
   "execution_count": 2,
   "metadata": {
    "collapsed": false,
    "scrolled": true
   },
   "outputs": [],
   "source": [
    "from sklearn.feature_extraction.text import TfidfVectorizer, CountVectorizer\n",
    "from sklearn.decomposition import LatentDirichletAllocation, NMF\n",
    "import nltk\n",
    "import json\n",
    "import re \n",
    "import string\n",
    "\n",
    "from nltk.tag.stanford import StanfordNERTagger\n",
    "ner_tagger = StanfordNERTagger(\"C:/Users/Eric/stanford-ner-2014-06-16/classifiers/english.all.3class.distsim.crf.ser.gz\",\n",
    "                               \"C:/Users/Eric/stanford-ner-2014-06-16/stanford-ner-3.4.jar\",\n",
    "                                encoding=\"utf\")\n",
    "\n"
   ]
  },
  {
   "cell_type": "code",
   "execution_count": null,
   "metadata": {
    "collapsed": true
   },
   "outputs": [],
   "source": [
    "text = 'While in France, Christine Lagarde discussed short-term stimulus efforts in a recent interview with the Wall Street Journal.'\n",
    "\n",
    "tokenized_text = nltk.word_tokenize(text)\n",
    "classified_text = ner_tagger.tag(tokenized_text)\n"
   ]
  },
  {
   "cell_type": "code",
   "execution_count": null,
   "metadata": {
    "collapsed": false
   },
   "outputs": [],
   "source": [
    "classified_text"
   ]
  },
  {
   "cell_type": "code",
   "execution_count": null,
   "metadata": {
    "collapsed": false
   },
   "outputs": [],
   "source": []
  },
  {
   "cell_type": "code",
   "execution_count": null,
   "metadata": {
    "collapsed": true
   },
   "outputs": [],
   "source": []
  },
  {
   "cell_type": "code",
   "execution_count": null,
   "metadata": {
    "collapsed": false
   },
   "outputs": [],
   "source": [
    "print((\"\\xc2\"))"
   ]
  },
  {
   "cell_type": "code",
   "execution_count": null,
   "metadata": {
    "collapsed": false
   },
   "outputs": [],
   "source": [
    "text = \"\\nPlease enable Javascript to watch this video (Video may not load with Internet Explorer. Use Chrome or Firefox)\\n \\n\\t\\t\\t\\t\\t\\t\\t\\tGeorgia native Kobi Simmons is the highest ranked high school player on the US Select Team, and while he flashes tremendous potential, he has not been particularly dominant here in Treviso.  Making poor decisions with the ball trying to be too flashy, settling for floaters while avoiding contact, and not making the simple play at times this week, Simmons was better on day three, scoring 13 points while dishing out 4 assists.  His lack of strength has limited him a bit against the more mature, organized defenses he's faced.  His quickness is an obvious asset, especially when he asserts himself defending on the ball, as is his ability to play above the rim and knock down shots off the bounce, but it appears that he's still learning how to consistently exploit those tools against quality competition.  This isn't the easiest setting for a player like Simmons to excel in, as his best days are clearly ahead of him, so it was nice to see him find a rhythm in his last game in Italy.\\n\\t\\t\\t\\t\\t\\t\\t \\nJonathan GivonyRecruiting Rankings: Scout #7, 24/7 #25, Rivals #15, ESPN #29Strengths:-Great size for his position-Smooth, fluid athlete-Quick in transition -Very good first step driving left -Puts pressure on the defense with his probing, aggressive style of ball-handling -Can make an outside shot-Shot 81% from the free throw line at the adidas Gauntlet (87 attempts)-Quick hands for steals -Anticipates in passing lanes -Very good potential defensively thanks to his sizeWeaknesses:-Still learning the nuances of how to run a team efficiently-Somewhat wild in his approach to the game-More of a scorer than a facilitator at this stage (-1.7 PPR in Gauntlet)-Shows average vision in the half-court-Lack of strength makes it difficult to finish around the rim effectively in half-court settings-Not a consistent 3-point shooter-Very low release point on his jumper-Has an average wingspan relative to his heightOutlook: Talented guard who's reputation revolves more around his potential as a big point than it does around his actual production. Still learning how to maximize his tools on both ends of the floor and play efficient basketball. Only 17 so still has plenty of time.\\n\\t\\t\\t\\t\\t\\t\\t \\nComplexEmbed.Application.initialize({cId: \\\"xxZ29pbzqoqlrnVxQb4kZvfiRx-B7tTx\\\",adSetCode: \\\"d4063ffb5eea4665ac55cd9182bbb23e\\\",site: \\\"draftexpress\\\",kw: \\\"\\\"});Please enable Javascript to watch this video\\n\"\n",
    "sents = nltk.sent_tokenize(text)\n",
    "for sent in sents:\n",
    "    tokens = nltk.word_tokenize(sent)\n",
    "    classified = ner_tagger.tag(tokens)\n",
    "    print(classified)"
   ]
  },
  {
   "cell_type": "code",
   "execution_count": null,
   "metadata": {
    "collapsed": true
   },
   "outputs": [],
   "source": []
  },
  {
   "cell_type": "code",
   "execution_count": null,
   "metadata": {
    "collapsed": true
   },
   "outputs": [],
   "source": []
  },
  {
   "cell_type": "code",
   "execution_count": null,
   "metadata": {
    "collapsed": false
   },
   "outputs": [],
   "source": [
    "printable = set(string.printable)\n",
    "def clean_player_jsons(player_dict, output_filename):\n",
    "    new_player_dict = {}\n",
    "    for k, v in player_dict.items():\n",
    "#         v = unicode(v, errors=\"ignore\")\n",
    "        sents = nltk.sent_tokenize(v)\n",
    "        new_text = []\n",
    "        for sent in sents:\n",
    "            if \"Javascript\" not in sent and \"Chrome\" not in sent and \"Firefox\" not in sent:\n",
    "#             if \"Weaknesses-Only\" in sent and \"Javascript\" not in sent and \"Chrome\" not in sent and \"Firefox\" not in sent:\n",
    "#                 sent = sent.encode('utf-8').strip()\n",
    "#                 print(sent)\n",
    "    \n",
    "                filtered_sent = filter(lambda x: x in printable, sent)\n",
    "#                 print(filtered_sent)\n",
    "        \n",
    "                tokens = nltk.word_tokenize(filtered_sent)\n",
    "#                 tokens = sent.split(r\"[\\s|-]\")\n",
    "#                 tokens = [token for token in tokens if \"\\\\\" not in token]\n",
    "                print(tokens)\n",
    "                classified_text = ner_tagger.tag(tokens)\n",
    "                new_text.append(\" \".join([word for (word, classification) in classified_text if classification != u\"PERSON\"]))\n",
    "        new_player_dict[k] = \" \".join(new_text)\n",
    "    with open(output_filename, \"w\") as f:\n",
    "        json.dump(new_player_dict, f)\n",
    "    "
   ]
  },
  {
   "cell_type": "code",
   "execution_count": null,
   "metadata": {
    "collapsed": true
   },
   "outputs": [],
   "source": []
  },
  {
   "cell_type": "code",
   "execution_count": null,
   "metadata": {
    "collapsed": true
   },
   "outputs": [],
   "source": []
  },
  {
   "cell_type": "code",
   "execution_count": 7,
   "metadata": {
    "collapsed": false
   },
   "outputs": [],
   "source": [
    "with open(\"cleaned_prospects_to_docs.json\", \"r\") as f:\n",
    "    prospects = json.load(f)"
   ]
  },
  {
   "cell_type": "code",
   "execution_count": 8,
   "metadata": {
    "collapsed": false
   },
   "outputs": [],
   "source": [
    "with open(\"cleaned_curr_players_to_docs.json\", \"r\") as f:\n",
    "    curr_players = json.load(f)"
   ]
  },
  {
   "cell_type": "code",
   "execution_count": 12,
   "metadata": {
    "collapsed": false
   },
   "outputs": [],
   "source": [
    "with open(\"nbadraftnet_prospect_to_strengths.json\", \"r\") as f:\n",
    "    nbadraftnet_prospects_strengths = json.load(f)"
   ]
  },
  {
   "cell_type": "code",
   "execution_count": 13,
   "metadata": {
    "collapsed": true
   },
   "outputs": [],
   "source": [
    "with open(\"nbadraftnet_prospect_to_weaknesses.json\", \"r\") as f:\n",
    "    nbadraftnet_prospects_weaknesses = json.load(f)"
   ]
  },
  {
   "cell_type": "code",
   "execution_count": 24,
   "metadata": {
    "collapsed": false
   },
   "outputs": [
    {
     "data": {
      "text/plain": [
       "{u'alpha kaba': u' As a 6-10 PF, Kaba has perfect size for the role, with solid frame, broad shoulders and a huge wingspan (7-5)  He shows impressive mobility and a blue collar attitude, an encouraging signal he could be a good role player overseas. He\\u2019s a solid leaper and developed from a physical standpoint  He\\u2019s developing his midrange game  He\\u2019s a reliable shooter in catch and shoot situations, showing quick and smooth release  Nice handle, with improving first step, a weapon he can use when guarded by traditional big men  An above average passer for his size, he shows solid off the ball game, being effective also in P&R situations on both sides of the court  With his leaping ability and wingspan he\\u2019s a solid intimidator and shot blocker, he grants defensive flexibility thanks to his mobility and lateral speed, able to guard the backcourt player after the switch in P&R   Not the most fluid player, legs are a bit stiff  Seems to prefer to drift out on the perimeter instead of using his size and strength around the basket  He improved his shape over this year, but he absolutely needs to work on his consistency and intensity. .. He\\u2019s a decent leaper, but lacks explosiveness and the \\u201csecond jump\\u201d on defensive end  He has to improve his positioning, seems to lack game comprehension, probably due to the lack of experience at a high level  Lacks solid post moves, in order to properly utilize his physical and muscular advantage, he prefers to play facing the basket exploiting only his mobility  Overall impression is of a player currently relying on his physical attributes and instincts, raw potential still to be developed and nurtured in the proper environment  He has to show more competitive fire and aggressiveness to improve and compete at a higher level  ',\n",
       " u'cam oliver': u\" An extremely explosive athlete who unleashes ferocious dunks on the rim  Oliver plays with ferocity, intensity and aggressiveness  He is a terrific rim protector, having EIGHT games this season with four or more blocks  He gets after it under the boards too, having 11 double-doubles in points and rebounds and 13 games with double digit rebounds  His scoring went up this year and he was always confident banging down low and getting to the rim  His field goal percentage at the rim was a superb 75 percent  For as good as his paint presence was, he shot just as effectively from mid-range and three  In fact, he had just about an even split between his field goal locations (mid-range and three-point shots each were about 1/3 and shots at the rim were close to 25 percent)  If there is one thing to compliment Oliver on, it\\u2019s the fact that he came back to school this year and did what so many have failed to do: improve his skills and increase his draft stock  It\\u2019s always a huge risk but he did it  His scoring went up, his shot blocking got better, he established himself as a rim protector and glass eater and he elevated his team as a leader and led them into the Big Dance (where he played very well)  Versatility is one of the most heavily valued traits by NBA teams and execs and Oliver has it  He can score in a multitude of ways, has speed to blow by defenders off the dribble and he outworks bigger players down low in the trenches  He plays above the rim with his great physical tool set and we can\\u2019t talk about Oliver without talking about the explosiveness he has at the rim  He is so aggressive and thunderous when he dunks, he is essentially assaulting the rim with bad intentions   For all those positives to look at, there should be caution moving forward on him  For one, he never played elite talent  He played in the Mountain West, a mid major conference and rarely against power conference schools  He made one NCAA Tournament game and was bounced in the first round (even though he played very well)  His scoring was far too inconsistent and some scouts question his motor and desire to dominate  Some games he would go off in the high 20\\u2019s of points, and some he went cold and never cracked double digits in points  He also only shot 24 percent of his shots at the rim this past season, which isn\\u2019t bad since he was diversifying his shot selections but it wasn\\u2019t\\u2019 ideal  For a player with his size and speed attributes, one would expect him to be driving and dominating around the basket more  Instead, he settled too often for outside jumpers and his offensive game has not become diversified  His ability to knock down 3s adds intrigue, but he hasn't developed much of a post game  His vision has not improved in college  Too frequently he displayed tunnel vision and put his head down, failing to spot open players when he was double teamed or drove to the basket  He must improve this if he wants to be a stretch forward in the NBA  Speaking of stretch forward, what position will Oliver play? He lacks great height and bulk to be a power forward and isn;t skilled enough for small forward  Scouts have also knocked Oliver for his low basketball I.Q  Too often this was displayed on defense when he left his assignments or broke away from schemes. And even though he was a very good shot blokcer, as a small power forward, that skill doesn;t always translate  Scouts also questioned his heart and consistency, since his senior season was marred by multiple games of very high numbers and games of very low numbers  If your passion or effort level are in question, that\\u2019s not a good sign to execs \",\n",
       " u'deaaron fox': u'6\\u20193 shifty left handed point guard \\u2026 Good size and length for the position \\u2026 Explosive athleticism and high skill level. Changes speeds very well. Great lead guard in transition. Pushes the ball at every opportunity and is a blur in the open floor. Elite quickness: quick hands, feet, and great reaction time \\u2026 Good court vision and passing ability. Great touch on lob passes and floaters. Handles the ball very well  Has the ability to avoid traps and break a press by himself  Has good body control; plays with a lot of creativity and craftiness  Gets where he wants off the dribble and breaks down the defense efficiently  Uses hop steps to get to the middle of the floor and avoids contact. Swift footwork in traffic \\u2026 Can score from multiple spots on the floor. Very good midrange scorer where he can get to at will. Good pull up jumper  Has range out to three \\u2026 Rebounds well for a guard \\u2026 Top notch defender especially on the ball, can rip good ball handlers in one on one situations  Great anticipation in the passing lanes. Great defensive tools moving forward with his length, quickness, and instincts \\u2026 Can be a streaky shooter. More of a scorer than consistent shooter right now \\u2026 Has a slight frame. Very light at 175 pounds  Lacks ideal strength in both upper and lower body, although he has added some muscle tone over the past year  Can score in traffic but playing through contact will be an obstacle at the college level and beyond \\u2026 Definitely shows good passing ability but can put too much heat on passes at unnecessary times. Can try to do too much at times, can play a bit more under control and limit turnovers. Can improve overall as a decision maker and could benefit by keeping the game simple \\u2026 Can improve as a leader and floor general. Also, setting the pace of the game  Has room to improve in the half court \\u2026',\n",
       " u'dennis smith': u'Explosive point guard with size and great intangibles for the position \\u2026 Elite level athlete and plays well above the rim. Incredibly explolsive and has a lightning first step  Attacks the rim with aggression. Very good finisher \\u2026 Far from a one dimensional athlete Charasmatic personality. Great leadership  Has a team first mentality  Highly unselfish, very willing passer  Has an advanced feel for the game  Controls the tempo of the game well  Sees the floor and passes the ball well  Led the adidas Gauntlet in assists with 6.9 per game  Plays with patience and doesn\\u2019t force his offense  Quick decision maker, reads and reacts well \\u2026 Plays well in isolation and thrives in transition  Handles the ball well and gets where he wants with his dribble \\u2026 Good defensive ability. Blocks shots well for a guard, almost averaged a block per game over the adidas Gauntlet  Can be a good perimeter defender when committed  Has the ability to harass and rip opposing ball handler \\u2026 Strong body, can finish in traffic and stay on his driving path with some contact  Draws fouls and gets to the free throw line at a high rate \\u2026  Has room to improve as an outside shooter. Tends to hesitate when shooting off the catch  Only shot 22.5% from three over the adidas Gauntlet  Has shooting range out to the three, though still needs consistency  Can become more dedicated on the defensive end  Doesn\\u2019t always get in a low stance. Tends to gamble a bit \\u2026 Shows a floater when he beats the first line of defense but overall can improve his overall midrange game \\u2026 Tends to go through the motions at times, can be too nonchalant \\u2026 Doesn\\u2019t move much off the ball. Can improve in the half court \\u2026 Knee injury raises questions where his immense athleticism makes him injury prone. To his credit he has relentlessly attacked his rehab and strengthening his legs and body ',\n",
       " u'dwayne bacon': u\" Bacon is a wiry and long guard that can get off the ground explosively  Explosive leaper  Is lightening quick in the open floor  Active in all areas and can have an impact from anywhere on the court  Excels when going through the lane  Terrific at finishing at the rim  Will find creative ways to get contested shots to drop  Plays well above the rim  Improved his jump shot over his high school career  Can now effectively score the ball from many spots on the court  Has deep range  Has the traits to develop into a high-level defender  At his best and most comfortable on offense with the ball in his hand  Dribbles the ball like a point guard  Has the ball on a string at all times  Able to both start and finish any fast break  Uses his size to look over the defense and spot open players in traffic  Capable of getting into the lane whenever he wants too  Uses his length to wreak havoc in passing lanes  Athletic enough to stick with just about any player on the perimeter    Needs to develop a greater understanding of the game  Can score at will, but seems to be naive to some of the subtle nuances of basketball  Has to become better at playing off the ball  Also will need to develop a midrange game as he continues to move up in levels of play  Capable of making deep threes, yet isn't as consistent of a shooter as one would expect  Has a tendency to let his demeanor and attitude change depending on whether he is having a good game or not  Often interacts too much with referees and opposing players  Teeters the line between cocky and confident  Needs to show front offices that he has the desire and love of the game to put in the necessary work to become a great player  \",\n",
       " u'frank mason': u' One of the most prolific players in all of college basketball, despite his size, brings many NBA translatable skills to the table  First of all, he\\u2019s immensely improved as a long range shooter in four seasons with the Jayhawks  He shot .471% his senior season, on a healthy 4.8 attempts per game  Frank can pull up off the dribble, as well as spot up from beyond the arc, and expect to hit a high percentage  His release is high and quick, which is beneficial when looking to the NBA  Mason is also very adept in using screens, and operating in the pick and roll  This will directly aid in his transition as well  While not a classic, pass first, point guard, Frank is excellent at running a team, and has a respectable 2+ assist to TO ratio, on 5.2 assists per game .. Mason\\u2019s drive and kick game is one of his strongest areas of being a set up man  His ability as a scorer is well rounded  He\\u2019s averaged 20.9 points per game, and he can get them at the rim, in the mid range, in transition, and beyond the arc  Mason is a bulldog and can use his high level athletic ability to get tough buckets, and get to the line, where he shoots .784%  Speaking of his athletic ability, he has elite quickness, and end to end speed, both with and without the ball in his hands  KU trainer Andrea Hudy has regarded him as the strongest player on the team, and this greatly aids him on the court  His body control and leaping ability are also very impressive  Despite being under 6\\u2019, Frank has converted alley-oop dunks and countless plays that require high levels of athleticism  Mason is a tough defender, who is great at getting under larger guards  His lateral quickness makes him tough to get past, and his effort is always there  It\\u2019d be easy for a player with his offensive burden to dial it back on D, but Frank\\u2019s toughness and leadership qualities shine through where he gives maximum effort at all times    Undersized at the point guard position, Frank Mason III is just 5\\u201911\\u2019\\u2019 tall, and looks to have a wingspan just slightly longer than his height  He can do plenty of things to make up for this, but this will directly affect how he finishes around the rim in the NBA  Mason converted at about a 56% clip (hoop-math.com) at the NCAA level, but despite his body control, he\\u2019ll find it more difficult to convert at the next level  Frank can also get caught in the air without a plan  He\\u2019s much better than he was when he first hit the NCAA scene, but he still can be a tad reckless at times  He will also be easy to shoot over in the NBA  While pesky, and tough, his defensive outlook will still be affected by his stature  There\\u2019s little doubt Frank will continue to improve as a player, but at nearly 23 years old, you wonder how much upside he has left. ',\n",
       " u'frank ntilikina': u'Elite size for a point guard with very good athleticism and quickness \\u2026 Impressive wingspan (close to 7 ft)\\u2026 Very mature for his age with a good basketball IQ \\u2026 He has a thin frame, but his body structure suggests that he can add weight and increase his muscle tone nicely \\u2026 A true point guard with a \\u201cpass first\\u201d mentality \\u2026 He can control the pace of the game nicely \\u2026 Excellent passer with great court vision \\u2026 He is always looking to find the open teammate \\u2026 He can pass on the move and also while penetrating \\u2026 Excels on the open court and loves to run the break \\u2026 Great ball handler \\u2026 He has a nice hesitation dribble and he has also an improving crossover dribble on his repertoire \\u2026 Possesses an explosive first step \\u2026 Really good on ISO situations thanks to his athleticism, length and excellent ball handling \\u2026 He can create his own shoot and score off the dribble from mid-range and has also a floater as a counter move \\u2026 When he has time to gather he can finish strong at the rim\\u2026 Improving 3-point shooter\\u2026 He is already very good on Pick and Roll situations as the ball handler, because he shows patience and is always looking for the right choice \\u2026 His body and physical tools are his biggest weapons on Defense \\u2026 He has great lateral quickness which helps him stay in front of his man \\u2026 When he is motivated on Defense he can be a lockdown defender \\u2026 His length and athleticism help him make a lot of steals \\u2026 Versatile defender with the potential to guard multiple positions in the future \\u2026 He has a high upside\\u2026   He really needs to add some muscle to his body or else he could have problems at the next level \\u2026 He hasn\\u2019t been tested at a senior level yet \\u2026 His shooting release looks a little odd at times and that\\u2019s the main reason he isn\\u2019t a consistent shooter from long range yet \\u2026 He needs to become more vocal and learn when he has to take over a game \\u2026 At times he is too unselfish and too keen to pass the ball and as a result he looks passive \\u2026 He must add some aggressiveness to his game \\u2026 He has problems finishing through contact at the rim due to his thin body and at times he looks like he is even avoiding contact, settling for a mid-range shot \\u2026 He has problems against physical game \\u2026 He isn\\u2019t always focused on defense \\u2026 At times he forgets to keep a low stance when he is guarding his opponent and as a result he can be crossed easily \\u2026 He relies too much on his length to make steals when he gets crossed, which leads to bad fouls \\u2026 He has problems defending the Pick and Roll, looking lost at times \\u2026 Stronger players can post him up',\n",
       " u'grayson allen': u'Allen came to Durham with the reputation of being a knockdown shooter and after an okay freshmen campaign (35 percent from three) is now looking the part as a sophomore (44 percent from three on high volume)  For his career, he holds a 62.4 percent true shooting percentage  Since his breakout game in last year\\'s NCAA Championship Game, Allen has continued to be an offensive force for Duke  Capable of shooting efficiently in both catch and shoot and off the dribble situations  Given any room to get off a shot it\\'s likely to find the bottom of the net  Accepted the challenge early in the year of being the Blue Devils go-to guy and has flourished in the role  A leader who plays with both passion and confidence  Plays with great energy and always seems mentally prepared and a step ahead  Creative when driving to the basket, utilizing his big hands to palm the ball  Has put a few unsuspecting defenders on posters  Straight line speed is above average and helps him flourish in transition  Uses his jumping ability to snag rebounds that you would think were out of his range  Positions himself well to be in the right place for rebounds  Excellent free throw shooter (85.8 percent for his career)  Willing defender  Understands team defensive concepts  Body shows that he works hard in the weight room to maximize his natural strength   Lacks ideal size and athleticism for a shooting guard. While he gets a lot of dunks on drives, he doesn\\'t possess the first step to get past elite defenders nor the athleticism to stand out at the position in the NBA  Need to work on his in-between game  At this point he generally does all of his damage shooting the three or taking the ball right to the basket  Avoids contact when attacking the hoop  Tries too often to jump around defenders instead of through the impending contact  Despite an up tick in play is averaging less than one additional free throw attempt per 40 minutes this year (6.6 free throw attempts as a freshman and 7.2 FTA this year)  Needs to become more comfortable with the ball in his hands  If you take away his first two options he often struggles to improvise  Not much of a creator with the ball  Doesn\\'t have the handle to make plays for others  Lacks a certain feel for the game in terms of making those around him better  At just 6\\'5\", and with a small wingspan, he\\'s on the shorter side for a two guard  Hasn\\'t shown the ability to be a consistent defender  Can be caught fighting for rebounds unsuccessfully instead of rotating back for transition defense  Not very agile, lacking lateral speed  ',\n",
       " u'hamidou diallo': u' A 6\\u20195 incredibly explosive scoring guard loaded with natural talent \\u2026 Possesses great length with a 6\\u201910 wingspan \\u2026 Great speed and vertical leap. Quick off the ground \\u2026 Good offensive player in transition as well as the half court. Handles the ball pretty well, an area of his game that is improving  Can create space and offense for himself. Gets to the rim with a quick first step  Reacts well to the defense as well as help defenders, drives to the basket are not predetermined. Good ambidexterity \\u2026 Good body control. Crashes offensive boards and can tip-slam rebounds out of his area \\u2026 Great competitor. Plays with high energy, aggression, and confidence  Attacks the defense fearlessly. Isn\\u2019t afraid of contact and draws a lot of fouls \\u2026 Defends well. Has the tools, athleticism, and tenacity to be a lockdown on ball defender. Great lateral quickness  Harasses opposing ball handlers  Plays passing lanes. Quick to the ball. Blocks shots well for a guard \\u2026 Also rebounds very well for a guard \\u2026 Can create jump shots but struggles to connect with consistency  Needs to improve in all areas as a shooter; free throws, midrange, and three point. Shot 16.7% from three over the Nike EYBL  Still has room to tighten up his ball handling ability  Can be reckless taking the ball to the basket  Relies upon outjumping defenders at the rim \\u2026 Can improve his post-game when matched up with smaller guards but does show confidence and willingness to take defenders into the post \\u2026 Although he can find opportunities to find alley-oops and gaps when cutting backdoor, he can improve moving without the ball especially on the perimeter. Relies on his first step to beat his man after he has the ball \\u2026 Has room to add upper body strength \\u2026 Shows some playmaking ability but is strictly a scoring guard at this stage, doesn\\u2019t have the combo guard skills yet. Finished with 33 assists to 41 turnovers over the Nike EYBL \\u2026',\n",
       " u'isaiah hartenstein': u\" Versatile left handed player, who can play either as a power forward or as a center  Possesses nice size for a power forward  Has a solid wingspan (measured at 7-feet-2)  Has a good physique, with a really strong frame and solid length  He looks in great shape, which is a sign of someone who takes care of his body  He is a fluid athlete, who can play above the rim off two feet  Runs the floor well  Has a great first step that helps him blow by his defender  Amazing body control for a player his size and age  Great inside-out potential Has the ability to mix it up on offense  Has nice footwork with his back to the basket, with enough counter moves  Can turn from either shoulder with ease and also finish around the tim with his off hand with no problem  Not afraid to bang bodies in the post Has NBA range in his shoot  Can become a very good stretch-big and is improving in Catch and Shoot situations  His Face Up game is also at a good level Plays very good the Pick-n-Roll as a screener, going deep to the basket after he sets a pick Can also play the Pick-n-Pop at a very good level  Attacks close outs thanks to his great first step  His ball handling is very good for a guy his size, with some crossovers and behind the back dribbles and can even start the fast break as the ball handler  He can change speed and pace like a wing when he has the ball in his hands  He has even been used as the ball handler in Pick-n-Roll situations due to his great ball handling and passing ability  Probaly the best frontcourt passer of his generation  Has great court vision and can see angles that a few players can when he is double teamed  Can pass either on the move or while standing  Very good passer on high-low situations  Can start the break after he takes the defensive rebound with great outlet passes, which can make with either hand  Goes to the line a lot, since he has the ability to draw a lot of fouls  He is a very good rebounder at youth level, with great rebounding instincts Like on offense, he is not afraid to bang bodies in the post on Defense too Solid shot blocker  Fills the lanes on Defense at a good rate when he is concentrated  His lateral quickness isn't bad and has the potential to become good defender on Pick-n-Roll situations    Very emotional player, who at time lets his emotions distract him  His attitude and body language on the court make him look a little cocky, or immature  He is just an above average athlete  He could add some more weight to his body  Jumps almost exclusively off two feet and needs some time to gather before he does, which will probably be a problem at the next level  Has incisostent shooting mechanics, since he changes his release point when he is closely guarded  Seems to have problems finishing in the paint against physical opponents, with the main problem being that he doesn't always go strong to the basket and settles for floaters and finesse moves  Misses a lot of easy lay ups, which is something you don't expect from someone with his talent  He may have the ability to become a great stretch-big in the future, but he can't do this at a consistent level yet due to his incosistent shooting  Has to improve his free throw percentage, which for now is in the 65-72% rate  He is out of control with the ball in his hand at times, trying to do too much  Turnover prone, mainly because he either looks for the flashy move rather than just making the right play, or because he has the tendency to telegraph his passes He loses his concentration on Defense and forgets assignments  Has problems defending the Pick-n-Roll, because he often either over commits to the ball handler or leaves after the player he is guarding sets the pick  Gets in foul trouble too often  He doesn't have the length or the athletic ability to be considered an elite rim protector  He doesn't know the law of verticality on defense just yet, which is something that could help him  Has a tendency to put his hands down when he tries to block a shot and he is whisted for a lot of fouls because of it  It's questionable whether he will be able to guard athletic stretch power forwards at the next level \",\n",
       " u'ivan rabb': u'With a slight frame, for now, Rabb is very good at gaining position against defenders in the low post  At 6\\'10 once Rabb got near the hoop he was virtually automatic against high school competition at the rim  He has developed a consistent baby left hook shot that is his go-to move  Rabb is also very explosive laterally  Even when caught in tight spaces or too deep in the paint he possesses the athleticism to still get a good shot attempt or dunk attempt off  Doesn\\'t sit idle often or slough off when posting up  Mostly catches the ball and explodes right into a move  Very active on the break for a big man  Whether off a block or a rebound he will run up and down the floor until he\\'s blue in the face  Finishes well as a trailer and often created second chance opportunities for himself or others off a miss  Very effective rim protector  Quick to help, but doesn\\'t leave his feet early  Let\\'s the offensive player come to him before trying for a block  Uses his feet well to reposition himself for blocks  His large wingspan (7\\'1\") is also a big help on defense  Can pass well out of double teams and is a good overall passer  Very aware of floor spacing and where teammates and even defenders are positioned   Besides his baby hook, doesn\\'t have an array of post moves in his repertoire  Has mostly relied on being taller and more athletic than most of his competition  Must get stronger and fill out his frame as much as possible  Can easily be knocked off his spot in the paint  Besides rim protection he\\'s not really a great overall defender  Not quick laterally and often doesn\\'t seem to be moving fluidly when defending on the ball  Strictly a post player at this point, Rabb hasn\\'t adapted to the new \"position less basketball\" movement  If he\\'s not able to score in the post he will drift out to the perimeter, which isn\\'t the strongest part of his game at the moment  Really left-hand dominant, needs to put more work in on his off hand  Needs to continue to improve at the free throw line as well  ',\n",
       " u'jaron blossomgame': u\" Has NBA athleticism with a strong, muscular frame and explosive leaping ability  Defense is the greatest strength to his game  An excellent defender with shut down potential  Possesses good size at the wing position with a 6-foot-8 frame and solid length  4 years of college experience  A mature, focused player who competes hard  Uses his strength well to muscle opponents and create scoring opportunities  Explosive athlete capable of highlight finishes over defenders  Aggressive offensive rebounder  Hits the boards hard and scores a lot of garbage buckets through desire  Very good in the open floor as he utilizes his above average athleticism and body control well on the break  Shot 45% from 3 as a junior (on over 3 attempts per game), but really struggled to get on track in Senior year shooting just over 25%  Free throw shooting and overall shooting showed steady and significant improvement up until senior year  Lacks a great offensive repertoire  Struggles to create offense in the half court  Not a very good ISO player as he lacks great ball handling and ability to pull up off the dribble  Not much of a playmaker for others as he lacks vision and passing skills  Jump shooting remains a real weakness to his game  His inability to make outside shots consistently allows opponents to sag off him and play him for the drive, making it difficult for him to get by defenders  Mechanics on his jumpshot are not fluid and lack consistency  His shot lacks great arch, the release point is too low and he doesn't get enough elevation  His shooting form breaks down against quality defenders or when he attempts shots out beyond 3 point range  After a very strong junior year shooting from behind the arch, he has struggled mightily as a Senior  After a redshirt year, lack of upside at 22 years of age decreases his appeal \",\n",
       " u'jarrett allen': u' When looking towards the next level, Jarrett Allen\\u2019s size and length are some of the first things you notice when he\\u2019s on the court. Standing 6\\u201910.5\\u2019\\u2019 in shoes, possessing an elite 7\\u20195.5\\u2019\\u2019 wingspan, and a 9\\u20192.5\\u2019\\u2019 standing reach, Allen\\u2019s ability to haul in rebounds will be one of his calling cards in the NBA  Through 22 games into his college career, Allen is pulling in a very respectable 8.4 rebounds per game, which includes a 2.9 split for offensive boards  His length, really allows him to get well above the rim with minimal effort  He\\u2019s also turned up his productivity during conference play, as he adjusts further to the NCAA game  Through 8 Big 12 games, Jarrett is pulling down 11 rebounds per game, which also included 3 straight double doubles in early Jan. Allen\\u2019s length will also allow him to protect the rim at the next level  He\\u2019s not an elite shot blocker, although good (1.6 bpg), but as he adds weight and experience, he has the ability to become a deterrent in the paint in the NBA  His immense length makes up for some deficiencies moving laterally, and he\\u2019s shown the ability to hedge successfully while defending pick and roll situations  Due to Shaquille Cleare playing the center for the Longhorns, Allen has actually played this season at the 4 spot for Shaka Smart  Allen\\u2019s ability to shoot in the mid range allows this, and it\\u2019s a nice piece of his offensive game when looking towards the NBA  Jarrett has a nice touch out to 12 feet, and good hands that allow him to catch passes around the rim, and finish at a good clip (68% at the rim according to hoop-math.com)  This foundation at such a young age make it reasonable to project him as being a player in the pick and pop game, as well as a solid roll man  His FT percentage is just 60%, but again, as he\\u2019s gained confidence throughout the season, he\\u2019s seen this element of his game improve. During Big 12 play, Allen is shooting 75% on a pretty decent 4.5 attempts per game. I wouldn\\u2019t go as far to say Jarrett projects as a high level offensive talent in the NBA, but his shooting touch gives him far more potential than many bigs his size who rely on athleticism alone to get buckets  Allen is a pretty good athlete as well  He\\u2019s a fast player for being near 7 feet tall, and is already 235 pounds. He appears to have the frame to add muscle, which he will need to do going forward.   Jarrett Allen has good end to end speed, but he\\u2019s not particularly quick laterally, and possesses a bit of an awkward gate, as he hunches over when he runs  This is not particularly a huge issue, as I feel it could be corrected and improved as he gains strength and improves his conditioning  Allen still brings the ball down too much in the lane, which can lead to being stripped, and when he executes offense in the post it is often very slow and robotic  He\\u2019s very much a work in progress on offense, and despite his size and length advantage at the NCAA level, the game still appears to be pretty fast for him, and he doesn\\u2019t handle double teams well, nor instances in which he is heavily pressured  He is a solid passer in terms of knowing where to put the ball, but he often turns the ball over when defenders dial it up a notch  He\\u2019s also not the greatest in terms of boxing out, he\\u2019s good at picking the right spot, but is often muscled out by stronger players  ',\n",
       " u'jayson tatum': u\"6\\u20198 smooth and versatile wing prospect \\u2026 Good size, length, and fluidity for a wing. Uses size and length to shoot over defenders. Good half-court offensive game  Can score and distribute out of the high post  Transitions well from set shooting position into a low driving position and vice versa \\u2026 Advanced footwork. Uses pivots, step backs, and fade aways \\u2026 Very good midrange scorer and has begun to extend his shooting range  Can score from multiple spots on the floor \\u2026 Handles the ball well and has solid court vision. Can create for himself off the dribble \\u2026 Has shown the ability to facilitate with the ball in his hands over his high school career  Does an excellent job of forcing contact and getting to the foul line  Understands how to play around the rim, can be a mismatch for smaller defenders as well as challenge bigger defenders \\u2026 High level rebounder for a wing \\u2026 Strong competitor. Seems to have self awareness and plays for the team \\u2026 Solid defender, has the tools and ability to guard multiple positions \\u2026 Shows surprising leadership for a player his age  Doesn't have any major weaknesses to his game   A high level athlete, but not a jump out of the gym freak  Lacks strength for physical play at higher levels but should add strength in time \\u2026 Has the ability to make difficult shots but tends to settle for deep contested shots. Fades away at times when it's unnecessary \\u2026 Shooting is decent, but in need of improvement. Form doesn't show any major issues, but is more of a solid shooter than knockdown at this point  Can improve range and consistency as a three point shooter \\u2026 Can improve finishing in traffic by adding strength \\u2026 Very long and smooth, but lacks a great burst off the dribble. First step is just average  Tends to over-dribble at times \\u2026 Likely a 3 as his lack of great foot speed limits his effectiveness off the dribble, and his size and shooting fits the 3 position  \",\n",
       " u'john collins': u' 6\\u201910\\u201d interior presence that is very active for a big man \\u2026 Has the length and skill to be highly effective around the basket \\u2026 Plays with good energy, effort and consistency  Doesn\\u2019t shy away from opponents, can play through contact at the rim \\u2026 Rebounds at a very high level \\u2026 Attacks the ball when it is in the air \\u2026 Very quick second jumper. Explosive leaper \\u2026 Keeps plays alive with effort on the offensive glass \\u2026 Positions himself well, always around the ball when it comes off the rim \\u2026 Uses body to get to the places he wants on the floor \\u2026 Good enough footwork to do some damage in the post, especially against smaller players \\u2026 Scores easily down low (62.1 FG% on the year to date) \\u2026 Great in transition, constantly beating opposing players up and down the floor \\u2026 Has a smooth stroke and has the ability to knock down jumpers in the mid-range \\u2026 Not much of a perimeter threat, but can put the ball on the floor for a few dribbles effectively \\u2026 Has very soft hands and makes contested catches  Works well as a lob man out of the pick-and-roll \\u2026 Wingspan and frame allow him to finish at a high-rate around the basket \\u2026 Slams home anything that comes within his catch radius \\u2026 Mobile enough for a big man (if strength comes will see most time as a center at next level) \\u2026 Defensively, is able to block shots due to his size and long arms \\u2026 Excellent feel and timing as a help defender \\u2026 Quick to recover and rotate on defense \\u2026 Has improved every year at Wake Forest \\u2026 Has received great coaching from Hall of Famer Danny Manning \\u2026 Hard worker that leaves his all on the court  Appears to have a strong body frame to add weight and maintain a high level of mobility and athleticism    Aside from interior scoring and rebounds, doesn\\u2019t contribute much offensively \\u2026 No outside game at all, has attempted just one three-pointer in two seasons at Wake Forest. Has shown some semblence of a face up game but needs to add range and consistency \\u2026 Gets blocks but is also very foul prone \\u2026 Often leaves his feet when he doesn\\u2019t need too \\u2026 Plays defense standing too tall \\u2026 Allows players to beat him off the dribble too often \\u2026 Lazy in his pick-and-roll defense \\u2026 Will hedge too high and leave his man wide open on the roll \\u2026 Defensive awareness is lacking \\u2026 Needs a crash course in the fundamentals of defense \\u2026 With his form you would expect him to be better from the free throw line (currently at 73 % on the season) \\u2026 Not the most fluid player running the floor, has a short stride  Foot work in the post needs work  Needs to become a better passer as well \\u2026 Too often allows the defense to load up on him before trying to attack the basket or swing the ball to the open man \\u2026 Could stand to fill out his frame more if he remains an inside-only type of prospect \\u2026 ',\n",
       " u'johnathan motley': u'An extremely long, rangy big man with a versatile offensive game, Johnathan Motley has made the most of the opportunity as Baylor\\u2019s top dog after Taurean Prince has made the transition to the NBA. Measuring 6\\u20199\\u2019\\u2019 in shoes, Motley sports a massive 7\\u20193.5\\u2019\\u2019 wingspan and a 9\\u20193\\u2019\\u2019 standing reach, which are both elite measurements for a power forward. He\\u2019s filled out nicely over the yeas as well, and weighs in at a strong 232 pounds (up about 30 lbs since his high school days). Motley also possesses great end to end speed, and the ability to really get out on the break. Athletically, he\\u2019s a quick leaper as well, who can get off the ground nicely. Johnathan has also been able to transition into a number one option at the collegiate level (16.3 ppg). He\\u2019s done so by using a solid mid range game (42.5% on jump shots according to Hoop-Math.com) as well as the ability to post up on the block and use a nice hook over either shoulder. Motley\\u2019s has a high release on his jumper, and good touch, even on fade aways and turn arounds. He\\u2019s also a terrific offensive rebounder and has already tallied 19 put-backs as a part of hauling in 2.9 offensive rebounds per game (through 12-31-2016). He\\u2019s also shown a new part of his game this season, and that is passing out of the post. Motley is averaging a career high 2.2 assists per game, and has shown the smarts to make good passes out of double teams, now that he\\u2019s a larger focus of Baylor\\u2019s offense. Defensively, he\\u2019s solid and has shown the ability to move laterally and disrupt the passing lanes in Baylor\\u2019s zone defense. While zone is not a common set in the NBA, he has the athletic tools, and awareness to transition into at least a solid defender who can mop up defensive rebounds at a high rate.  Johnathan has a really good mid range game, but in the spacing heavy NBA landscape of today, you\\u2019d like your stretch 4 to have 3 point range. His percentage this season is a very good .385%, but it\\u2019s on limited attempts (5-13) so it\\u2019s difficult to know if that\\u2019s an accurate representation of his range. Motley is surprisingly not a high level shot blocker, despite his great length. He blocks just 1 shot per game at Baylor, and while Jo Lual-Acuil acts as the Bears\\u2019 primary rim protector, you\\u2019d still like to see more swats from a guy sporting a 9\\u20193\\u2019\\u2019 standing reach. Motley has shown the ability to block 3 or 4 shots in a game, though, so this could be improved upon as the year progresses. He\\u2019s also improved his FT shooting this season to a respectable 68%, but you\\u2019d like to see him get that over 70%, but I think that is not out of the question when looking at his continued growth. Motley is a red shirt, so he\\u2019ll turn 22 at the and of his junior season. ',\n",
       " u'jonathan isaac': u'6\\u201910 versatile forward \\u2026 Great size and length for the perimeter. Good athleticism. Very fluid and coordinated  Runs the floor like a guard and has great mobility  Good ball handling ability, can create off the dribble  Smooth shooting stroke with proper shot rotation, good from midrange and can extend to the three point line  Shoots well off the catch as well as off the dribble. Can score off of step backs and fade aways  Can put the ball on the floor and get to the rim  Can score inside and out \\u2026 Good defensive ability and versatility  Moves his feet well laterally \\u2026 Goes hard for loose balls and rebounds \\u2026 Solid passing ability and court vision \\u2026 Hit a six inch growth spurt and is a very late bloomer  Still learning the game and has great long term potential \\u2026  Lacks much strength in both the lower and upper body  Has a slight frame. Shows long term potential to defend multiple positions but struggles keeping position defending the post, causing him to pick up fouls. Struggles with physical play \\u2026 Improving his post-game would make him more dangerous around the basket especially when matched up with a smaller opponent \\u2026 Can improve his left hand \\u2026 May still be a year away from being \"ready\" to fully impact the college level ',\n",
       " u'jonathan jeanne': u'Amazing wingspan (measured at 7-6 feet) \\u2026 Great shot blocker \\u2026 Rim Protector \\u2026 Good weak side defender \\u2026 Active off the ball defender \\u2026 Denies passing lanes with his long reach and positions himself well \\u2026 His size, wingspan and reach make him a tough opponent to score over, because he can either block or alter shots \\u2026 If he continues working hard he can become a game changer on the defensive end of the floor due to his blocking ability \\u2026 Good athlete \\u2026 Great leaping ability \\u2026 Very mobile for someone his size \\u2026 Solid coordination for a big man \\u2026 Runs the floor extremely well \\u2026 Good lateral quickness \\u2026 Can defend the Pick and Roll at an acceptable rate \\u2026 Really energetic on the defensive end when motivated \\u2026 Can play above the rim \\u2026 An ideal lob target due to his size, reach and jumping ability \\u2026 Moves well without the ball \\u2026 Aggressive offensive rebounder\\u2026 Nice footwork with his back to the basket \\u2026 Has the ability to become really good on Pick and Roll situations on the offensive end\\u2026 Has a nice touch around the basket \\u2026 Improving mid-range game \\u2026 He is trying to expand his range to the 3-point line \\u2026 Above average passer \\u2026 Solid ball handling \\u2026  He barely weights 200 lbs \\u2026 He needs to bulk up his body to play at the next level \\u2026 Has narrow shoulders, so it remains to be seen whether he can really add considerable muscle to his frame nd not lose any of his speed and agility \\u2026 Has very little lower body strength, which creates balance issues \\u2026 Must become more physical\\u2026 Average post-defender\\u2026 Gets pushed around by stronger players \\u2026 Relies too much on his long reach\\u2026 Still adapting to his body \\u2026 Sometimes he needs time to gather before jumping \\u2026 He often puts his hand down when he tries to block a shoot, which leads to be called for fouls \\u2026 Jumps at pump-fakes and hesitations \\u2026 Has to learn to jump vertically when trying to block a shot to be even more effective \\u2026 He is marginally average defensive rebounder, mainly because either forgets to box out or gets pushed around \\u2026 Very raw offensively\\u2026 Doesn\\u2019t have a go-to post-move \\u2026 He mainly turns to his left shoulder when he posts up the defender, which makes him predictable\\u2026 Not a good finisher at the rim just yet\\u2026 Has problems finishing through contact \\u2026 His shooting form needs some work \\u2026 Shooting Mechanics aren\\u2019t always consistent \\u2026 Needs to cut down turnovers \\u2026 Has to learn to set harder screens \\u2026 Doesn\\u2019t always roll hard to the basket when he sets a screen on Pick and Roll situations \\u2026 Sometimes he struggles to catch the ball \\u2026 He still has to put a lot of work on his mid-range game \\u2026',\n",
       " u'jordan bell': u' Utility player that brings unbridled energy and explosive athleticism as an undersized big man \\u2026 Instincts as a shot blocker have been present at every level, has great timing, tries to keep it in play and covers a lot of space \\u2026 Great nose for the ball and gets off the floor really quickly, can rebound out of his area \\u2026 Has improved his body and skills greatly over his time at Oregon, his work ethic on and off the floor seems evident \\u2026 Great running the open floor, can finish above the rim and has been a true rim protector \\u2026 Threat to score near the basket on offensive rebounds, can finish strong jumping off of two feet \\u2026 Has worked on his post footwork and is effective on up-and-under, right hook over his left shoulder \\u2026 Very comfortable playing without the ball, sets good screens and willing to do work to try and open the floor for his teammates \\u2026 Showed ability as a passer, makes some good reads out of the low post and very willing to get others involved \\u2026 Adept in both the passing lanes and tips, did a very good job creating turnovers and had a high steal percentage \\u2026 Willing to get low and brings a good effort in defending the perimeter \\u2026 Is someone other teams need to be aware of around the basket, great at blocking shots from the weak side and was counted on as a last resort often on defense \\u2026 His FT shooting went from barely above 50% to 70.5% as a junior \\u2026 Has managed to cut down his fouls quite a bit, much more disciplined defender over time \\u2026 While he is still not relied upon or asked to shoot much, showed a much improved touch and can hit jump shots close to the hoop \\u2026 Shows solid hands on cutting to the basket with powerful finishes \\u2026 Plays with great confidence, never was shaken by going up against bigger or stronger players, uses speed to his advantage and is very good at fronting the post \\u2026 Willing to put his body on the line, consummate teammate \\u2026 Conditioning has been really strong, played 28.7 mpg at a high energy level \\u2026 Has gained a great deal of muscle since he has come to Oregon and also improved his skill level to go from a rotation big man to one of the better big men in the Pac-12 conference \\u2026 Manages to cover a lot of space as a defender, sprints on close outs and gives maximum effort \\u2026 Knows his role and does the things you want from your big man, rebounds, protects the paint and is up to the task to cover a number of different assignments on defense \\u2026 Very self aware and will do whatever it takes to help his team win \\n',\n",
       " u'josh jackson': u\" One of the main things that jumps out at you is JJ's versatility on both sides of the ball  From an offensive standpoint, he possesses a very high Basketball IQ that allows him to be aware of where his teammates are on the court  While he doesn\\u2019t play the role of a primary ball handler for Kansas, he\\u2019s averaging a very impressive 3.1 assists per game  He gets many of these due his natural knack of knowing where everyone is on the court, and having the touch and creativity to get the ball where it needs to go  His motor also jumps off the page, he\\u2019s an elite offensive rebounder for a 6\\u20198\\u2019\\u2019 wing and is extremely assertive when he\\u2019s on the hunt for a loose ball, or rebound  Jackson also has a very solid first step, and the ball handling ability to get past defenders at a level that looks to translate to the NBA  He also plays within himself with the ball in his hands  He\\u2019s shown takeover ability this season for the Jayhawks, but for a freshman averaging 15.3 ppg, he\\u2019s very controlled, and doesn\\u2019t have the tendency to get sloppy for the sake of getting a shot  He\\u2019s an extremely disruptive and explosive defender too, with a solid 6\\u20199.75\\u2019\\u2019 wingspan, which will aid him in his NBA translation  He\\u2019s not the type of defender that merely hinders his opponents ability to score, he\\u2019s deadly in the passing lanes, and is aggressive trying to steal the ball and deflecting passes  This results in a lot of fast breaks, and easy transition buckets  His shot blocking ability is also very impressive for a wing  Jackson blocks 1.5 shots per game (to go with 1.5 steals) and has the ability to get them in one on one situations, or coming over from the weak side  Jackson has also played 3 positions for Kansas this year ranging from the 2, to a small ball 4  He looks to only be able to play shooting guard and small forward in the NBA, but he can do so effectively on both sides of the ball  Athletically he\\u2019s explosive, quick, and has good lateral, as well as open court speed  His assertiveness, and aggressive tendencies pair with his athletic gifts making him a regular on highlight reels, and this is a valuable quality in regards to team momentum  Has a blue collar work ethic and willingness to do the dirty work, does not exhibit the prima donna attitude often associated with elite level prospects  An extremely competitive and passionate kid who brings a high level of intensity and desire to improve    Jackson\\u2019s biggest weakness right now is his shooting  While his athleticism, and his ability to play within himself leaves him with a .52% FG clip, he\\u2019s shooting just 28% from deep, and 54% from the charity stripe  His shot is not broken or beyond fixing, and he does have touch, but it does have a little hitch that will take time to correct  His aggressiveness is more often than not a good thing, but this can render him in foul trouble, which can frustrate him  He\\u2019s picked up 3 technical fouls, all due to frustration of foul calls, through Jan 7th of 2017  He\\u2019s picked up 4 or more fouls in 5 out of Kansas\\u2019 first 15 games, and fouled out of three, so cutting down on fouls early in games will be key  Jackson is a pretty good rhythm jump shooter, and has real potential shooting off the dribble, so the honing of his shot is key to him taking the step beyond a high level two way role player and an All-Star level player  \",\n",
       " u'justin jackson': u\" Long and fluid athlete  Solid length/wingspan for his position  A versatile player who plays and defends multiple positions  Brings a nice mix of scoring and court vision/passing  Has a polished and smooth offensive game  Great size for the small forward position at the next level  Uses his combination of size and soft touch to efficiently score in the paint and around the basket  Does a lot of his scoring from mid-range and in the painted area  Possesses an effective and quick floater  Shoots his floaters in a way that makes it difficult for defenders to anticipate  Can easily rise up and knock down contested shots off over smaller defenders  Effective scoring the ball from the paint/mid-range (due to his size)  Has a scorer's mentality/instinct  Can score in a variety of ways from all over the floor  Packs a consistent and deadly mid-range pull-up jumper and floater off the bounce  Consistently gets out into transition  An opportunistic scorer on the fast break  Like to run ahead of the pack  Handles the ball well in transition and moves the ball ahead to rim runners  Gets up and down the court in the hurry thanks to his long strides and sprinting ability  Fills the lanes correctly  Solid shooter  Good spot up shooter from the 3-point line  Has a smooth, quick release and nice hop on his jump shot  Sets his feet and gets squared up  Comfortable attacking the basket in the half court with his left or right hand  Fluid when driving the basketball in a straight line  Loves to attack closeouts from the perimeter  Quick first step and long strides gain him a step on his defenders  He likes to catch on the wing before taking a hard dribble or two towards the baseline and loft up a floater  Has great play making, attacking and shooting ability when coming off screens  Knows how to make plays from ball swings or kick outs When he gets to the basket he does a nice job of extending and using angles to find space for his shot  His soft touch combined with his ability to find space actually makes him a great finisher even though he relies on the mid-range game so much  He does a great job catching and finishing on the move near the hoop  Effective without the ball in his handsMoves fluidly  Finds gaps in defenses and makes timely/quick cuts  Excellent passing ability  Court vision and size allows him to make passes that smaller wings cannot  A good decision maker with the ball on dump-offs to big men and kick outs to shooters  Capable of seeing over the top of the defense  Distributes the ball well off the pick-and-roll  Plays with a good pace and can change speeds off the pick-and-roll  Effective passing to the roll man  Recovers well on defense and takes up space  Has a knack for cleaning up his teammates misses around the hoop  Unselfish player  Good feel for the game  Plays within himself and within the offense  Makes simple plays and doesn't try to do too much  Plays with poise and doesn't let the defense force him into bad decisions  His versatile skill set and unselfish approach to the game makes him a good fit for any team  High basketball IQ   Average run/jump athleticism  Needs to show that he can bring more toughness to the game on both ends  Thin body frame  Needs to continue to fill out his frame and get stronger  There's a question of how much mass can his frame hold  Not a physical player  Needs to work on gaining some explosiveness  Gets knocked out of position easily when he gets hit  He avoids contact when driving to the rim  Often loses concentration when he's crowded around the basket  Fails to get all the way to the basket or the free throw line because he lacks strength and explosiveness  Doesn\\u2019t have the type of bounce to jump into defenders, re-adjust and finish  Stops short and often turns down open lanes to the rim  Tends to take runners, long floaters, and short pull-up jumpers in the lane instead of shots at the rim  Capable of scoring at the rim when he does get there, but isn't as effective finishing in traffic vs. size/length  At times, he shoots too many fades or sideways jumpers when bigs meet him at the rim  Lack of strength stops him from being able to keep defenders on his hip  Can still show improvement with being able to get to his shot off the bounce  A good handle on the ball, but not overly advanced  Bigger and stronger wings can contain him on the perimeter and impede his driving ability  Lacks the ball-handling needed to thrive in isolation but he has enough control to probe in pick and roll  Has the height to play the four position but can be over-matched by stronger power forwards  Has good mechanics on his jumper, but he's a better shooter off the catch than he is off the bounce  Doesn't have the best rotation on the ball  Needs to extend his shooting range and make 3-pointers more consistently  Needs to work on 3-point shooting  Consistency with shot rotation needs improvement  Defensively, he may have some issues containing NBA-size small forwards  His defensive stance and body frame are both hunched  Needs to work on his lower body strength  Hips aren't flexible and his defensive stance is stiff and upright  Struggles when guarding quicker wings because he can't change speeds in short spaces  Has to work on his lateral quickness  Sometimes gets caught playing defense on his heels  Tends to get caught on a lot of off ball screens due to his thin frame and average defensive awareness  Not an awful defender but does have a lot to work on  Doesn't assert himself on the defensive boards  Can get pushed around on the glass  Age may be a concern for some scouts and pro teams (will turn 21 this school year as a sophomore)  \",\n",
       " u'justin patton': u' A legit seven-footer \\u2026 Has good agility and lateral quickness \\u2026 Plus athlete for a player his size \\u2026 Explosive off of the ground \\u2026 Quick leaper, second jump was faster than others\\u2019 first in college \\u2026 Can be a distraction at and around the rim defensively \\u2026 Played well vertically in the interior \\u2026 Also will be able to pluck away steals occasionally \\u2026 Can switch out and defend guards on the perimeter \\u2026 Doesn\\u2019t get out of his stance when faced against a guard and relies on his length and agility to smother smaller players \\u2026 Best suited as a dive big man in a pick-and-roll heavy offense \\u2026 Developed rapidly from a no-name recruit to up-and-coming college star \\u2026 Shown a comfort shooting on the perimeter, yet isn\\u2019t likely to develop that part of his game \\u2026 Needs to time to set his feet when shooting from outside \\u2026 Much more comfortable taking outside shots in catch-and-shoot situations \\u2026 Still raw, but has a refined set of moves when playing out of the post \\u2026 Very effective finisher at the hoop on offense \\u2026 Converts a lot of paint touches into points via above the rim play \\u2026 Great in transition will run straight to the paint and then seal off his defender under the rim \\u2026 Possesses the grace of a gazelle when he runs \\u2026 Will beat most big men down the court in transition \\u2026 Good hands, can catch tough passes or convert inaccurate passes into points \\u2026 Has nimble feet \\u2026 Late growth spurt means he has some guard abilities in his game \\u2026 Comfortable starting a break or making a few ball handling moves on the go with the ball \\u2026 Has tons of potential and upside \\u2026  \\n',\n",
       " u'kobi simmons': u' Simmons is a speedy combo guard that can really score the basketball  This past season at Arizona, he did not often have the opportunity to display his full offensive repertoire in a crowded backcourt  However, Simmons came out of a loaded freshman class, and is one of the best perimeter scorers in the crop  He has a variety of moves once he gets into the paint, where he can finish acrobatically with wither hand  Where he really stands out is that he can really knock down shots off the dribble  He has an excellent pull-up jumper in his arsenal, which is essential in the NBA for a point guard  He does a good job of using screens and moving well without the ball to get himself open looks, but he also excels at creating offense for himself  Simmons additionally has a very quick first step, which means defenders have to give up space to him in order to slow him down off the dribble  This is what makes him difficult to guard, as the defense has to respect his driving ability, but he also complements it well with his perimeter scoring off the dribble  Simmons is not a true point guard, but he has the size to play either backcourt position, whether that be the point man or a scoring 2 guard, at 6-5 with solid length  He is rhythm shooter who has the ability to catch fire at times from the outside. He also does a good job of absorbing contact at the rim and getting to the free throw line, where he does a nice job of converting (77.5% this season)  One of the most appealing aspects of Simmons\\u2019 game is that he is a gifted athlete  In his senior year of high school, his vertical leap was measured to be at 42\\u201d, and that could increase further as his frame fills out in the next couple of years  His combination of size and elite quickness and athleticism give him intriguing upside as a defensive player  Simmons is already a good on-ball defender, but he has the potential to be a lockdown defensive stopper at the next level if he applies himself and gets stronger, with his ability to guard multiple positions  He also has great instincts as an off-the-ball defender, leading Arizona with nine charges taken this season  There is a lot of upside for Simmons, and he could potentially become an excellent NBA player.   As good as Simmons is with the ball in his hands at creating offense, he isn\\'t enough of a facilitator  He does not look to pass very often when he gets into the lane, as he is constantly looking for his own shots when he\\'s on the floor  He is much more of an isolation player at this stage, and he struggles to operate out of the pick-and-roll as a playmaker, which is a vital tool for success in the NBA as a lead guard  Simmons played 23.5 minutes per game at Arizona this past season, but he only averaged two assists per contest, a sign that his playmaking instincts need to improve  He did not turn the ball over that frequently, coughing it up 1.2 times per game, but he has a tendency to over dribble and play out of control, which leads to bad turnovers  Maturity and attitude are points that scouts note that he must improve upon  His attitude came under fire after Trier returned to the team at midseason and he was visibly unhappy with coming off the bench. His play suffered as he stopped moving the ball as willingly, and Coach Miller was forced to cut his minutes futher  If he wants to make it as a point guard in the association, it is imperative that he improves his decision-making and starts getting his teammates more involved  Inefficiency is also a concern for Simmons right now  He shot just 39.5% from the field in his freshman season, which is largely the result of subpar shot selection  As good as he is off the dribble, he needs to improve his consistency as a spot-up shooter, as he made only 32% of his threes this season  In the NBA, it is so difficult to be a consistent scorer without a reliable jump shot, so this needs to be a priority  Maybe the biggest concern for now is adding strength to his slender frame. He weighs less than 200 pounds, which will be a problem at the next level when matched up with bigger guards in the NBA  However, he is still just 19 years old, so he should develop physically with time  A kid with a very high \"situational dependency\" at the next level for him to reach his potential  Could have used an additional season in college to improve his skill level, however he apparently was always of the mindset that he was a one and done player  ',\n",
       " u'lauri markkanen': u'Versatile player who can play as a power forward and center\\u2026 He has impressive mobility and coordination for a player his size\\u2026 Possesses a nice physique and has added considerable muscle the last couple of years with no effect on his mobility \\u2026 He runs the floor well and is actually really good in the open floor\\u2026 Good inside-outside player who can mix it up on offense, although at the moment his face up game is a lot better than his back to the basket game\\u2026 He can score in bunches and can \\u201ccatch fire\\u201d at any time\\u2026 He doesn\\u2019t force things on offense and lets the game come to him\\u2026 He is already considered a great shooter from the perimeter, thanks to his great mechanics and NBA 3-point range\\u2026 Very good in catch and shoot situations, especially from 45-degree angle\\u2026 Plays Excellent the Pick and Pop as a screener, thanks to his great touch around the basket\\u2026 Has improved on Pick and Roll Situations as the screener and has learned to cut faster to the basket after setting a screen\\u2026 Has the ability to attack closeouts thanks to his explosive first step\\u2026 Likes to finish strong at the basket and isn\\u2019t afraid of contact\\u2026 Can put the ball on the floor and can even start the break or complete a coast to coast if the right opportunity comes up\\u2026 He has even been used in Pick and Roll situations as the ball handler at times, with mixed results\\u2026 He gets at the free throw line at a high rate and he is a very good free throw shooter\\u2026 Above average rebounder who rarely forgets to box out\\u2026 Has good instincts on Defense, reads plays and as a result he makes a lot of steals\\u2026 He has solid lateral quickness \\u2026 Can defend the Pick and Roll at an acceptable rate when he is asked to hedge out\\u2026 Knows the law of verticality and has good enough timing to make some blocks\\u2026  His wingspan is average and that limits him on both ends of the floor\\u2026 He is a good but not an elite athlete\\u2026 He needs time to gather before jumping and that could hurt him at the next level\\u2026 He could add a little more weight to be able to stand the physicality of the next level\\u2026 His back to the basket game isn\\u2019t completely there yet\\u2026 He doesn\\u2019t always establish position in the post and has problems doing it against physical players\\u2026 He could improve his ball handling to be more effective on Isolation situations\\u2026 His shooting mechanics are excellent, but his shooting release is a little slow, which gives his opponents time to contest his shot\\u2026 Consistency is an issue, since he still has the tendency to disappear for long stretches of games \\u2026 At times he is a little passive on offense and doesn\\u2019t always ask for the ball\\u2026 Just an average passer for now\\u2026 Off ball Defense needs work, since at times he is too focused on the ball and loses sight of the player he is guarding\\u2026 He must improve on Post Defense, learn how to use his body and not get bullied by physical players\\u2026 Weak side defense is also an issue since at times he is just a step too slow to help\\u2026 It\\u2019s really difficult to imagine him becoming an elite shot blocker due to his average wingspan and inability to jump high from a standing position \\u2026 He has problems defending when he is asked to switch and has to guard an explosive perimeter player since his lateral quickness is just OK for now\\u2026',\n",
       " u'lonzo ball': u' 6\\u20196 point guard \\u2026 Great size and length for a point guard \\u2026 Tremendous court vision, passing, and playmaking ability. Makes one handed passes with either hand. Quick decision maker, knows where the plays going before receiving the ball. Can make flashy passes in transition or in the half court. Can pin point full court outlet passes to start breaks. Great timing and finds teammates when they\\u2019re in position to score \\u2026 Great ball handler and floor general. Gets where he wants with the ball. High basketball IQ and ideal point guard traits. Brings out the best in his teammates. Can play alongside other great players, isn\\u2019t hindered by others taking the shots  Plays even keeled and nonchalant and doesn\\u2019t get rattled. Doesn\\u2019t force his impact on the game. Can play with the ball in his hands as well as off the ball \\u2026 Has shooting range out to the three point line \\u2026 Standout athlete that can finish plays above the rim \\u2026 Great rebounder on both ends for a guard and impacts the game in multiple statistical categories. Averaged a triple-double for his senior year while going undefeated \\u2026 Good size and willingness as a defender  Possesses great quickness and shows excellent anticipation \\u2026 While he can make shots from outside, he has an extremely unorthodox, even ugly, shooting form  Tends to fling the ball from the left side of his face \\u2026 Has a lot of room to add strength \\u2026 Good athlete but not incredibly explosive \\u2026 Played a loose, up tempo style at Chino Hills, will need to work on valuing possessions and making the sound play moving forward \\u2026',\n",
       " u'luke kennard': u\"Crafty lefty with an ability to score from anywhere on the floor  Big time development from his freshman to sophomore campaign  Extremely fluid player on the offensive end  One of the best shooters in college basketball and can do so in both catch and shoot situations as well as coming off screens  Good pull up game as well  Not an overly quick first step but defenses must respect his ability to knock down shots with limited space so it helps him get defenders off balance  Moves extremely well off the ball and creates a lot of space with his ability to utilize screens  Extremely high basketball IQ with improving play making abilities. Good vision in both the half court and open court settings. Limits turnovers for a guy with the ball in his hand as much as he did last season with Duke not having a true PG  Can finish at the rim and through some contact and has the ability to use both his left and right hands to get shots off once in the paint  Good size (6'6) for the two-guard position at the next level but lacks great length  6'5 wingspan and 8'4 standing reach, the same as Donovan Mitchell  Showed great leadership capabilities during his sophomore season at Duke as he was the glue that held the oft injured/suspended team together during the season's first two months  Not a bad athlete by any means but not the explosive type of guy that you would want out of a potential lottery pick  He's going to play on the wing at the next level and will be going up against the league's best when it comes to that category  His aforementioned wingspan would rank in the bottom third of the league at 6'5  Lacks explosiveness at the rim and is more of a crafty scorer than a guy that is going to get into the lane, absorb a ton of contact and get to the free throw line  Moves his feet well on defense but can get burned by quicker players on the perimeter  Will need to be in a good defensive scheme with better individual defenders around him to be effective on that end of the floor  Had an extremely poor showing in the NCAA Tournament as Duke fell short of expectations as they fell to South Carolina in the Round of 32 \",\n",
       " u'malik monk': u' Explosive guard who is one of the more adept scorers in his class \\u2026 Has great touch on his shot and has been deadly from long-range off the bounce and catch \\u2026 Great elevation while shooting, has ability to shoot off of screens while also being able to freeze the defense off a hesitation dribble \\u2026 Jumps really well off of both feet, though also a strong single foot jumper as well \\u2026 Dangerous in transition and the open floor, can score above the rim and is tough to stop if given space \\u2026 Has shot an highly efficient mark from short, mid and long-range jump shooting, currently making 3.1 3PT shots per game at 40% (61-153) \\u2026 Adept at the two, three dribble pull-up, has tools to create some of his own offense \\u2026 Has solid lateral quickness and good feet, gets most of his steals playing the passing lanes and can cover ground \\u2026 Even as a high volume scorer, plays within himself and has been a willing passer \\u2026 Plays bigger than his size, despite being undersized his athleticism does some things to make up for it \\u2026 Likely close to 200 lbs, is strong and has a chance to build body over time \\u2026 Really nice arc on his shot, most of his misses are pretty close and lead to better possibility of offensive rebound opportunities \\u2026 Conditioning is very good, shows solid energy throughout games \\u2026 Near 50% FG, 40% 3PT and shooting 83% FT, strong shooting indicators along with the speed and athleticism that lead to his immediate boost on the offensive end \\u2026 On a very talented team, has efficiently and comfortably taken on a major scoring role, talent seems to shine through even among the best \\u2026 Has to be taken into account past three-point line, will stretch the floor and should be incredibly confident shooting from NBA 3PT range \\u2026 While he has done his best job defensively off the ball, has tools to be a much better on-ball defender \\u2026 Gets low in stance and when he is focused he shows some defensive intensity \\u2026 He does play with two point guards, which could lead to questions of whether he could improve his assist rate if given a bit more of time on the ball offensively \\u2026 Looks to be a hard worker, strong communicator and solid teammate  Certainly best as a scoring guard, though at around 6\\u20193 with a 6\\u20196 wingspan, definitely would be considered undersized and could struggle defending bigger guards \\u2026 While some have referred to him as a combo guard, he is not particularly comfortable setting up the offense and does not really show the vision of a primary handler \\u2026 Can be a bit loose with his handle and decision making, not entirely comfortable beyond a few dribbles creating for himself \\u2026 Low FT rate, while he scores from all three levels does not get to the basket often enough and can be thrown off by contact \\u2026 Has struggled defending at the point of attack and on-ball, one might not be sure how versatile he is as a defender \\u2026 Low steal and block rates, as well as surprisingly low rebound rate given his explosive athleticism \\u2026 Has not shown much ability in the pick-and-roll, once again leading to questions about his translating to a lead guard \\u2026 Seems to be heavily reliant on his shooting at this point, which leads to questions about what he brings to the table if his shot is not falling \\u2026 Has not been asked to do much off of the cut, which one might think he would be more involved in given his athletic gifts \\u2026 Very little of his scoring has happened close to the basket off of the dribble, has needed someone to create those opportunities for him  As great as he has proven to be as a shooter in his freshman year, he was just an average shooter throughout his high school career, adding some skepticism about his incredible shooting accuracy at Kentucky  ',\n",
       " u'markelle fultz': u' A 6\\u20195 combo guard with elite level skills and athleticism \\u2026 Has ideal size and length for the position. Good athleticism and a solid body  Lightning quick first step and changes directions extremely well  Creativity is one of his trademarks  Solid leaping ability especially off of one foot. Extremely agile with standout body control  Attacks gaps in the defense and takes it hard to the rim with aggression. Finishes well through contact. Good slashing ability. Gets where he wants off the dribble and uses screens well \\u2026 Good court vision and passing ability  Can score for himself as well as make plays for others  Very streaky. Has the ability to heat up quickly and go on big runs  Good pull up jump shot from three \\u2026 Plays well in transition, using his imagination and creativity well \\u2026 Draws fouls and gets to the free throw line with ease \\u2026 Can fill up the stat sheet in all categories  Rebounds and blocks shots well for a guard \\u2026 Tough and willing defender; shows great potential with his size, length, and quickness  Anticipates and jumps passing lanes \\u2026 Plays with great confidence \\u2026 A competitor    Jump shot has improved and he can fill it up from outside but is a bit of a streaky shooter  For a guard with a scoring mentality, he has room to become more consistent \\u2026 Doesn\\u2019t score much from midrange at this point, usually all three pointers or getting all the way to the rim  Good at challenging the defense at the rim but doesn\\u2019t show much of a floater \\u2026 Hits difficult shots but should look to improve his shot selection at the next level \\u2026 Has added some strength to his body but his legs could still stand to add strength  Has a star quality and attitude but will need to continue to develop his leadership abilities  ',\n",
       " u'melo trimble': u\" At 6\\u20192, he has good height for a point guard  A strong athlete, who uses his body and physique to penetrate and gain the advantage, creating alot of opportunities at the free throw line by being aggressive  A season average of 86.3% FT shooting allows him to capitalize on his aggressiveness  He shows solid ability to finish with his strength as well as finding teammates on drive and dish  Creates shots well by using his body to create space  Good ball-handling skills  Very good composure and readiness considering his age, having just finished his freshman season  He instantly became a standout player, who leads by example  When the game is on the line, he usually steps up to the challenge and wants the ball  Great 3 point shooter (41.2%) and overall a good shooter  Even better at catch and shoot when receiving the ball and spotting up, playing as a shooting guard  Good rebounder as he is not afraid of contact or fighting for that missed shot under the basket  He finished with a season average of 3.9 rebounds per game and a few of games with double digit rebounds   Spent his freshman season with ups and downs and will need to become more consistent  Started the season strong but hit the freshman wall towards the end, and while his scoring might have stayed the same, his shooting percentages dropped as Maryland also struggled during that stretch  Needs to continue to build up his body and conditioning to excel at the next level  Although he averaged 33.5 mpg, later in the season you could see his athleticism fell off some, likely due to fatigue  Needs to improve on the defense end, not necessarily his skills but his focus and effort level  Needs to maintain his motivation level regardless of the level of the competition  Lacked vocal leadership for a point guard and that will be something he'll need to improve upon  Needs to improve his passing skills, being a facilitator and develop less of a scoring focus  Only blocked 2 shots all season long, so could be more aggressive in that aspect of the game  \",\n",
       " u'michael fusek': u'He is 7-foot-4 and actually has pretty good mobility  His best attributes are as a cutter and finisher because including his size he has good leaping ability, as he is able to jump 30 inches, and his maximum vertical reach must be one of the highest, among players of his size  Fusek is very well coordinated in all his movements  Fusek has height, wingspan, and mobility mean he has all the makings of being a potential defender in the NBA  Fusek is a natural in shot blocking. He is good at keeping the ball in bounds on his blocks, too, making them useful turnovers instead of flashy spikes   Fusek is still very skinny and his upper body is not strong enough, so he struggles when he faces contact  He has had problems in gaining weight, but slowly but surely he is showing improvements  Fusek is a rim protector and he could become a great defender if he gains weight to contain heavier, physical players  His attitude is good and grabs some rebounds thanks to his size but struggles due his light frame  He must continue to improve his overall skill set, strength, aggressiveness and confidence.',\n",
       " u'miles bridges': u' 6\\u20196 powerfully built combo forward \\u2026 Has great strength. freakishly explosive, dunks everything possible. Great body control and confidence  High energy player. Brings consistent aggression every possession of every game  A true competitor \\u2026 Shooting has shown improvement in the past year  Has the ability to make shots from a variety of spots on the floor \\u2026 Added an in-and-out crossover to beat the first line of defense \\u2026 Tremendous rebounder for a wing, gets boards in and out of his area. Great shot blocker for a wing, elevates quickly. Quick first step \\u2026 Very good ambidexterity as a finisher on layups and dunks. Has an array of floaters and layups off of spin moves in the paint \\u2026 Solid court vision and passing ability \\u2026 Has shown great improvement throughout high school career \\u2026 Good at drawing fouls. Plays well in traffic and through contact  Lateral quickness is good and gives hope of him transitioning to a full time SF   \"Classic tweener\"  His NBA position remains a big question mark as he is severely underzied for the post and doesn\\'t have polished perimeter skills at this point  His shooting has drastically improved in the past year but he still doesn\\u2019t shoot with consistency yet  Has a low release and doesn\\'t exhibit a fluid shooting form  He usually shoots from three or gets all the way to the rim, his midrange game will need to improve moving forward  Needs to improve ball handling ability and overall perimeter skills  More effective in catch and shoot than pulling up  Undersized for a player that spends a majority of time in the paint but shows potential to guard multiple positions \\u2026 Has some ball handling ability, but it\\'s a high dribble that must be tightened and proven against real competition  Relies on superior strength and athleticism \\u2026 Creating offense will be much more difficult at the next level ',\n",
       " u'moses kingsley': u'Kingsley is a player that looks the part of an NBA blue collar big man  Standing at 6\\'10\", with a 7\\'2\" wingspan, he possesses size that is not teachable  Physical tools give him intriguing potential  He is at his best in the paint on both ends of the floor  Explosive athlete, which he uses to finish around the basket  Highly efficient at scoring garbage baskets, or off plays that aren\\'t designed for him  Has even shown some ability to handle the ball and the body control to get through opponents and finish on the break  Likes physical contact and plays with toughness  Monster on the offensive boards  Rebounds very well, particularly outside of his area  Has a strong defensive presence  Combines length with great awareness and timing to block and change shots in the paint. 2.4 shot blocks per game in 30 minutes  Great feet. Excellent lateral speed  Can hold his own on the perimeter defending guards  Three years in college has given him a solid feel for where to be defensively and improved his skill level considerably  Shows a hunger to learn and plays with great energy and determination   Still somewhat new to the game (6 years of competitive ball) and his feel is affected slightly  Scoring ability and offensive skill set remains limited  Does not have much of a post game  Questionable touch on his shot  Misses too many easy put backs and shots close to the rim  Has an unnecessary hitch in his form that causes inconsistency in his shot. Also should focus on better follow through  Poor free throw shooter, who has never shot better than 65 percent in a season  Not particularly fluid running, sort of lumbers up and down the court with an uncoordinated looking gait, though not slow  Can be mistake prone for stretches of play  Has had a knack for picking up early and unnecessary fouls throughout his career  Plays with high intensity and a high motor, but can at times seem reckless or rushed  Definitely more of a developmental type of draft pick at the moment, though he is showing flashes of proficiency  ',\n",
       " u'nigel williams goss': u\" An extremely competitive and intelligent floor general  Consummate leader at the point guard position showing innate vocal leadership skills  Very tough minded and brings a high level of intensity every time out on the floor  Developed a reputation in high school AAU for never letting his teams lose, which has apparently carried over to college  Adept at facilitating the pick and roll  A very good playmaker for others, making those around him better  Plays very under control. A calming influence , attention to detail  A plus 2 to 1 A/TO ratio at 4.7 AST to 2.2 TO  Good ball handler, capable of dribbling in traffic, breaking the press, and able to scan the floor with his handle being second nature  Has an excellent jumpshot with very good form and shooting touch  Improved upon his shooting considerably in his year off, raising his FT% to 90% and his 3P% to 37%, (from 76% and 26% as a sophomore) hitting roughly 1/3 three point attempts every game  Improvement in his shooting is a testament to his work ethic and desire  Gets good elevation on his shot, has a quick release with good mechanics and follow through  Good at pulling up and utilizes the step back jumper well to create space off the dribble  Strong family background. Father is a strong positive influence on his basketball career  Has the make up to be a quality role player in the NBA a la Matthew Dellavadova  Bigtime rebounder at 6 per game His good size at 6'3 will give him added ability to see the floor and pass over smaller NBA PGs  Solid length with a near 6'7 wingspan  NBA readiness very good after two seasons at Washington and a redshirt transfer year before his breakout Junior year    Most of his weaknesses stem from his lack of run/jump athleticism  Below average athlete lacking great foot speed and overall quickness  Although his size helps to make up for it, his lack of speed probably keeps him from becoming a starter at the NBA level  Lateral speed will make it tough for him to contain NBA point guards  Figures to struggle to gain separation offensively  Struggles to finish on the break due to lack of explosiveness, although is crafty at using his body to shield defenders  Lack of quality competition in WCC through much of the season could be an obstacle  Already the age of a senior and while his maturity and readiness work in his favor, lack of upside at his age (will turn 23 in September) works against him  Not a speed merchant that pushes the tempo out in the open floor  \",\n",
       " u'omer yurtseven': u\"Has a well rounded set of attributes, with touch, intensity and length to be a defensive factor  He has soft hands which makes him a good finisher  His post game is polished for such a young player  He shows the ability to use both hands around the basket  His favorite move is going over his right shoulder  Combine his soft touch with very good footwork, and he becomes a handful for defenders  He goes hard for rebounds, understanding positioning and has exceptional anticipation  In his short career, he has played against some very physical guys but has acquitted ahimself  He is a mobile center with quick feet  He is very useful in PnR with great feel  He is a good mid range shooter and very good three point shooter for this position  He is showing that he is not just a pick and roll player, but also effective in pick and pop  He doesn\\u2019t have perfect shooting mechanics, however he hits at a very good percentage. 2 years ago, those three point shot wasn't a part of his repertoire  He has been showing great improvement with his consistency  Having the ability to score from inside and out gives him an excellent base for such a young player  Has an advanced basketball IQ  His experience level is very high for a young player  Good composure. Understands how to deal with double teams well  His main priority is not himself but the team system. Very composed for 17. He doesn\\u2019t lose focus or down on himself when things aren't going his way  Good athlete with solid leaping ability  On the defense side, his IQ stands out  He rarely responds to fakes. Defensive positioning is high level  He is very useful in defending screens thanks to his quick feet  Also shows good rim protection potential due to his long arms and leaping   He is still skinny, although he's gained good strength since last season. He has improved his body, but still needs to add some muscle to his body  On the senior level, he struggles to hold position against the athletic and physical opponents  His lack of strength casuses problems with balance and finishing through contact  The most important variable in his development will be his body and putting on the right amount of strength without inhibiting any of his speed and mobility  Even though he is always seeking the right passing channels, due to the lack of vision and anticipation, he doesn\\u2019t always succeed at giving good passes  His passes can be a little bit lazy. He is slow to react to teammates on cuts  In practice he shows better comfort level, but it hasn;t translated to games thus far  Not a reliable free throw shooter at this point  He is roughly a 50% free throw shooter at this point, so practice and repition will be important  \",\n",
       " u'rawle alkins': u' 6\\u20194 scoring guard with great explosiveness \\u2026 Good athlete with tremendous natural body strength  Impressive combination of power and finesse \\u2026 Very gifted scorer. High level instincts and feel for the game  Scores well off the dribble or catch  Creates offense in the half court set  Can create a scoring opportunity from scratch  Good ball handling ability  Doesn\\u2019t waste dribbles when making a move  Shoots well, has range out to the NBA three \\u2026 Physical NYC \"power\" guard  Likes to use his strength and bully opponents  Gets to the rim and finishes well with contact  Draws a lot of fouls \\u2026 Very good in transition \\u2026 Good defender; good strength, lateral speed, and length \\u2026 Plays under control. Strong willed. Doesn\\u2019t panic or get rattled  Plays with great confidence. A true competitor \\u2026 Solid court vision and passing ability \\u2026 Strong rebounder for a guard \\u2026 Needs to improve his midrange shooting. Has room to become a more consistent free throw shooter \\u2026 Won\\u2019t be able to finish through defenders the same way at the next levels, will need to expand finishing moves and technique \\u2026 Doesn\\u2019t move well enough without the ball  Isn\\u2019t too involved with the offense until the ball is in his hands  Most of his scoring comes from creating himself with the defense set; will improve as a scorer coming off of curls, backdoor cuts, etc. \\u2026 Has room to improve his body. He still carries some baby fat, has room to tighten up \\u2026 Fluidity isn\\'t always great. Movement and footwork appear choppy  ',\n",
       " u'robert williams': u\" Huge upside  Has tremendous physical attributes with elite level length (7-foot-5.5 wingspan) and high level run/jump athleticism  Shows excellent rebounding ability, utilizing his length for rebounds  A dominant shot blocker showing the timing and aggressiveness to be a rim protector (2.5 blocks per game in 24 mpg)  Offensive game has a lot of promise as he shows the ability to legitimately create offense for himself at an early stage  Post moves, while raw are beginning to show promise as his footwork and touch around the rim continue to improve  Excellent in the open floor as he has elite level fluidity and run/jump athleticism  An explosive athlete that has begun to become comfortable attacking the rim off the face up, dribble drive  Has the length and athleticism to go right up and dunk over a lot of college opponents when he gets the ball in around the basket  Displays very good body control, and amazing explosiveness  Great hands give him the ability to catch errant passes and corral rebounds out of his area  Shows an aggressive nature, competes hard, doesn't back down and will let his opponent know that he's not afraid  A surprising mid-range shooter who has gained confidence in his ability to spot up or post up for 12-15 foot shots  Already close to 240 lbs and has the size to play both post positions at the next level  Should be able to comfortably add another 20-25 pounds without compromising any agility or mobility  Adept at absorbing contact and finishing and has no problem seeking out contact to draw fouls and in playing physical  Shows a tremendous amount of upside if he gets the proper coaching and develops dedication to honing his skillset  Has a jump hook over his left shoulder that he is beginning to gain confidence in  A very good passer for a bigman, which makes him difficult to double, even showing the vision and imagination to find teammates and create shots for them  Very coachable kid who has shown the ability to pick up things quickly  Charismatic, likable kid who can be unselfish to a fault    At times can be too unselfish, must continue to develop confidence in his abilities  A late bloomer who still seems to be picking up the nuances of the game  Still raw, lacking a great feel for playing in the post though his foot work and post moves are improving steadily  Must gain better timing in sealing his man and setting a wide base for post passes  Physical attributes are so elite that he is able to get by without utilizing a high skill level, for instance blocking out on rebounds, which will have to change against higher level athletes  For a quality shooter, he needs to improve upon his 59% FT, repetition over time should allow him to shoot at higher rate in the future  Still prone to making mental mistakes, lazy passes and unnecessary turnovers  Like any late bloomer, still has bouts of inconsistency within games, or games where he struggles to play with a high level of focus and energy throughout  Should look to square up to the basket on jump shots a little better as he currently has a tendency to square his body too far to the left on his release  Impressionable kid who still has a long ways to go to fulfill his vast potential. His ability to realize it figures to be contigent upon landing with the right organization/coaching staff/surrounding clubhouse  Struggled some against high level opponents, creating some questions whether he can have the same success against similar level athletes. Also has had the benefit of playing alongside a dominant college big in Tyler Davis, making teams unable to focus their top defenders on him a lot of the time  \",\n",
       " u'rodions kurucs': u\" Great size and length for a wing  Verstatile player, who has been used by his coaches in both forward positions and even as a shooting guard  Very good athlete  Possesses an above average first step that helps him blow by oppenents  Has a thin frame, but he has wide shoulders that suggest that he can add considerable weight with no problem in the future  Great leaping ability  Can jump equally well with either foot  Has the ability to play above the rim thanks to his athleticism and length  Has long strides and covers a lot of ground while moving on both ends of the floor  Plays with a lot of passion and energy and isn't afraid of the big stage  Can score from inside and outside  Has a short memory on offense and even if he has missed a few shots in a row he will continue shooting, which is a good sign for his level of confidence  Good basketball I.Q Has a nice feel for the game  He is not really vocal, but he is a good teammate  He is a scorer Has nice touch around the basket  His shooting mechanics are excellent  Good shooter, with NBA range  Very good in Catch and Shoot situations and also shooting coming out of sceens Best as spot up shooter Has a solid in-between-game on offense  Attacks closeouts and goes hard to the basket  He is not afraid of contact while driving Can shoot of the drible and is able to create distance while dribbling for a step back shot  Has the ability to start the fast break and even make some coast to coasts His ball handling is improving  Creates problems with his size when he tries to post up smaller defenders, forcing the defense to adjust on him Fills the lanes beautifully while running on the fastbreak  Knows how to make the extra pass in the halfcourt, finding the open man  Has shown potential as a passer when concentrated, since he can see different angles  Has active hands on defense and can make a lot of steals because of it  His length helps him contest shooters even when he is out of balance or a step behind  He is not afraid to bang bodies on defense and tries to hold his ground against stronger players Has all the necessary tools to become a solid defender in the future and a solid two way player   He already had two major injuries and he is really close to be labeled as injury prone  Hasn't really be tested against elite competition  He really needs to add some muscle, since he barely weights 200 lbs  He might not afraid of contact, but he can't really absorb it at the moment  His ball handling is improving, but stills needs work, especially on his left hand  His average ball handling limits him on ISO situations against good defenders  He goes almost exclusively right when driving to the basket and is easy to read  Drives to the basket only on straight lines  He falls in love with his shot at times and doesn't try to mix it up  Has the tendency to force things on offense and take some shoots really early on the clock  He tries to post up smaller defenders but he doesn't have the strength or the footwork to be a threat, since almost all the time turns on his left shoulder  There are times he plays too fast and out of control  Streaky shooter for now  Occasionaly suffers from tunnel vision while driving to the basket and doesn't make the correct play  He can't really create for his temmates because he is an average passer for now, having problems passing on the move or while being double-teamed  Hasn't really been used in Pick and Roll situations as the ball handler, but when he wass the results were mixed, since he prefers to look for his shoot in these situations  Moving without the ball is an issue at times, since he has the tendency to go where the ball is, putting pressure on his team and creating spacing problems  He is just an average rebounder  He depends too much on his physical tools on defense and should work on technique and fundamentals  His lateral quickness is average and he doesn't always have a good low stance  Has problems against explosive wings, because he can get out of balance while trying to defend them  He gets caught behind screens away from the ball and loses his opponent  At times he is standing in no man's land on defense, looking lost  His help defense is mediorce, since he either over helps or doesn't help at all Stronger players can bully him in the post \",\n",
       " u'sviatoslav mykhailiuk': u'A body built for basketball with big hands, a tremendous athlete who can finish above the rim, very explosive and quick with hand-eye coordination that is off the charts  The best way to describe his body is a young Ginobili, similar kind of smoothness and control of his body  He had at least one steal per game showing excellent ability to anticipate passes and the closing speed to get to the ball for steals  But what really makes him special is his creativity and skill level  Mykhaliuk is equally confortable with the ball in his hands or without, which is highly unusual for a 16 year old  He played for large minutes as a combo guard (at U16) running pick and rolls for Ukraine and he showed that he can shoot from behind screens from 3pts land or attack the rim but also read the defense to make great passes  Mykhaliuk can read the screen to take advantage of what the defense gives him  He often attacks players in isolation, taking smaller opponents into the post  When he doesn\\u2019t have the ball, he cuts to try to find a spot where he is open  When he struggles shooting, he attacks the basket to get fouls. The variety of ways in which he scored was absolutely amazing for a player his age  Despite being doubled or tripled teamed every game, he always stays composed, making the right decision most of the time  On defense he has everything to be great, quick feet and good lateral speed and he uses his length to create steals and get out on the break  Sometimes when he is of the ball he tends to lose his defenders, but nevertheless he relentlessly hits the boards and when he gets the rebound push it himself in Lebronian way   Mostly related to a lack of potential development. He can do everything so well right now that it\\u2019s hard to think he will actually add a great deal to his game. So the challenge will be finding ways to improve  Obviously he can improve his left hand, and the ball handling (although it is amazing right now) needs some improvements to be efficient in the NBA as a point guard  Mostly for him it will be important to adapt himself to playing within a good team where he is forced to share the spotlight  Ironically I think his talent could shine even more because he is a very underrated passer who had some amazing assists you can\\u2019t teach in a gym, but moving to a good team could still be difficult for him  While he has to become stronger to be able to guard NBA guards, he will have to be carefully with his body development in order not to lose some of his unique athletic skills  He is basically an Adetokumbo who should be considered until proven differently, a future top 10 NBA pick ',\n",
       " u'terrance ferguson': u' 6\\u20197 high flying and sharp shooting guard \\u2026 Good size for a wing \\u2026 Knock down three point shooter. Gets great elevation on his shot and can shoot from NBA range  Very effective in catch and shoot situations  Gets his feet set quickly and doesn\\u2019t have any wasted motion in his shot \\u2026 Tremendous one foot leaper \\u2026 Strong on ball defender  Very active and shows great commitment to the defensive end  Takes pride in guarding the opposing team\\u2019s best perimeter player \\u2026 Very good team player  Highly unselfish, takes smart shots  Plays within the flow of the offense  Plays within himself, doesn\\u2019t force his offense or get discouraged if he\\u2019s not the one taking the shots. Buys into the game plan and understands how the game should be played \\u2026 Likable personality. Enjoys being on the court with his team \\u2026  Although he has incredible athleticism, he rarely shows it in a game especially in a half court set. Needs to get a lot stronger to make plays through contact  Lacks much in the way of a midrange game \\u2026 Needs to improve as a ball handler and his playmaking ability  Doesn\\u2019t have much wiggle or creativity on offense  He\\u2019s a straight line driver and doesn\\u2019t break down the defense  Doesn\\u2019t have a wide variety to his scoring arsenal  Doesn\\u2019t provide much offensively if his shot isn\\u2019t falling \\u2026 He plays well within the offense, but isn\\u2019t the type to put the team on his back and score in bunches in times of desperation \\u2026 Can be passive at times. While the majority of the time (in high school) he\\u2019s been both the best athlete and best shooter on the floor, he doesn\\u2019t always assert himself as the best player on the floor ',\n",
       " u'thomas bryant': u\"Possesses great length with a 7'5 wingspan, a 9'3.5 standing reach and solid athleticism \\u2026 Competitor. Plays with great intensity, passion, and aggression \\u2026 Hustles hard, runs the floor well  Great finisher around the basket \\u2026 Finishes well in transition but also knows how to play in a half court setting \\u2026 Great rebounder. Crashes the glass on offense. Does an excellent job of keeping the ball high on offensive rebounds and not letting smaller defenders get a hand on it \\u2026 Can face up and shoot, all the way out to the three if the defender is sagging off \\u2026 Reliable, good teammate who has the ability to put his team on his back  Active, doesn\\u2019t take plays off. Isn\\u2019t the type to stand around and wait for something to happen \\u2026 Good defender. Active hands. Protects the paint, blocks shots, good help defender \\u2026 Isn\\u2019t afraid to bang in the paint \\u2026 His intensity and desire gives him a lot of promise as these are qualities you don't often find in a talented young bigman    Not the most fluid or athletic player, but his great intensity helps combat this  His great length gives him shot blocking potential, however he lacks explosive leaping ability  Feet appear somewhat anchored to the floor as he isn't good at moving laterally  Still needs to develop his low post game  While he makes a high percentage of his shots in the paint, he needs to develop his footwork and back to the basket game moving forward  He has made strides in filling out his frame over the past few years but still has room to get stronger \",\n",
       " u'tj leaf': u\" A versatile offensive player who shows the ability to play both inside and out  He has a European-like skillset and does a great job of exploiting mismatches on offense  Although he is not an advanced post player at this stage in his career, he has shown flashes of good footwork and a variety of post moves from the block  He has nice touch around the basket and effectively utilizes jump hooks, turnaround jumpers, and even an occasional dream shake  As a shooter, Leaf has good mechanics and is more than capable stretching the floor as a three-point shooter  He also demonstrates a solid mid-range pull up game, particularly from the elbows  He excels at taking bigger defenders off the dribble and does a great job of utilizing ball fakes from the perimeter  Leaf is not an elite athlete, but he is a good jumper off two feet and can finish above the rim consistently  Even though he isn\\u2019t the quickest laterally, he does a good job of moving his feet and using his size to stay in front of quicker guards  He also has solid defensive instincts and is a capable shot blocker  Two of Leaf\\u2019s strongest attributes are his high basketball I.Q. and his motor  He has also proven to be a clutch player who doesn't get phased by a big moment or crowd (Rupp Arena)  Leaf moves well without the ball allowing him to get high quality shots  He\\u2019s also an excellent and willing passer for his size  Rarely does he force the issue, and he is almost always under control  He plays with consistent effort and regularly makes hustle plays, particularly on the offensive glass  Leaf is a terrific rebounder, which has a lot to do with how relentlessly he pursues the ball on both ends of the court  Leaf\\u2019s size, versatility, feel for the game, and motor make him a prospect with a high floor    The biggest area of concern for Leaf at this point is his lack of strength  He needs to add leg and core strength to better absorb contact and maintain balance  The good news is that he is only 19 years old and that there\\u2019s plenty of time for his frame to fill out  However, this hurts his ability to defend in the post where he can sometimes get pushed around  Although he is a capable finisher at the rim, he also struggles to finish through contact and does not have great body control when attacking the basket  As skilled as he is, rarely does he finish around the basket with his left hand  Leaf will need to improve in this area at the next level, or it will be much more difficult for him to score consistently  Right now he projects as more of a stretch four than a reliable go to option on the block  Leaf also doesn\\u2019t have great length and doesn\\u2019t really project as a rim protector at the next level  Although he has good instincts, he struggles defensively at times with longer and more athletic forwards  \",\n",
       " u'tony bradley': u' 6\\u201910\\u201d big man with an impressive 7\\u20194\\u201d wingspan \\u2026 Finishes well in the paint \\u2026 Solid mobility and plays on balance  Good composure for a freshman. Mature  Can score with either hand \\u2026 Has an above average right-handed jump hook for his age \\u2026 Not afraid to move people around in the post \\u2026 Always finds a body first before going up for a rebound \\u2026 Solid fundamentals  Keeps the ball high and away from guards when possessing the ball \\u2026 Well-built at close to 250 lbs \\u2026 Solid base, legs like tree trunks \\u2026 Very hard to move him off his spot when he\\u2019s planted \\u2026 Plays within himself \\u2026 Doesn\\u2019t try to do too many things that he isn\\u2019t comfortable doing \\u2026 Has been a productive player in a limited role (15 minutes per game) \\u2026 Length helps him finish contested shots \\u2026 Seeks out contact on offense \\u2026 Does a good job of using his length to defend \\u2026 Plays defense inside with arms up and will remain flat-footed as opponent goes vertical \\u2026 Has a nice looking shot that could potentially develop into a reliable outside weapon \\u2026 Very coachable player \\u2026 Tough-minded kid \\u2026 Has a good feel for the game \\u2026 Plays with a high basketball IQ for such a young prospect \\u2026 Should be able to log time at both center and power forward  Despite not being an big leaper, shows very good rebounding ability, using toughness and good box out tchniques    Not much of an athlete, lacks great explosiveness and run/jump athleticism \\u2026 Can sometimes get lost in the flow of games \\u2026 Isn\\u2019t the most assertive of players at this point \\u2026 Doesn\\u2019t appear to have the shoulders to support much more bulking up \\u2026 Might have dropped too much weight in his transition from high school to college \\u2026 Not great from the free throw line (currently shooting 62.3 % from the free throw line) \\u2026 When matched against like-sized players he struggles to have an impact \\u2026 Could lose out on rebounds to more athletic players at the next level \\u2026 Overly aggressive as a defender at times \\u2026 Is not ready to contribute to an NBA team at this stage in his development \\u2026 Too predictable offensively. Must develop more post moves and variety  Despite his great length, lacks rim protecteion ability (less than one block per game)  ',\n",
       " u'vlatko cancar': u'Standing 6-8 he has a body made for basketball, remarkable wingspan and solid explosiveness and quickness  He has worked a lot on his body over the last couple of years, putting on some pounds of muscles  His evolution into a SF is almost complete, since he\\u2019s already confident with his shot and handle  He\\u2019s really smooth, with solid shooting skills, combined with a good size for the position  He has shown the ability to create his own shot from the dribble, with the use of fakes to create space  He has great instincts and feel for the game, with a solid jumper, especially in catch and shoot situations  He also has three point range (more than 50% from three points so far this year)   Even if he has worked hard on his body, he will likely need even more strength to handle NBA level athleticism  He\\u2019s not the kind of player you\\u2019ll see slashing to the rim, since it\\u2019s not part of his style of game  Furthermore he struggles when facing physicality from opponents, and tends to lose balance too easily  He needs to work on his mechanics, plus the use of his left hand needs improvement  He still has to work on the confidence in his skills  Seems mild tempered, lacking elite level of competitive fire  ',\n",
       " u'wesley iwundu': u'After spending four seasons at Kansas State, Wes Iwundu has developed into a very versatile, two way wing capable of playing both the two and three spot in the NBA  Wes stands about 6\\u20197\\u2019\\u2019, and possesses an excellent 7\\u2019 wingspan, and an equally impressive 8\\u20198.5\\u2019\\u2019 standing reach  He came into college extremely lanky, and while still not a bruiser, he\\u2019s filled out nicely, and weighs in at a defined 205 pounds  In addition, he\\u2019s a high level athlete with both quickness, and leaping ability at his disposal  These physical traits, and playing in a defensive oriented system has allowed him to develop and excel as a defender  At the next level, he looks to have what it takes to be quite effective defending the 2, and while perhaps overmatched physically at the 3, he will have the versatility to switch and at least be capable defending a good portion of NBA small forwards  Iwundu is also a good positional defensive rebounder (5.3 defensive per game, and 6.4 total) and paired with his ball handling ability, he\\u2019s quite effective cleaning up defensive misses and pushing the ball in transition  Regarding his ball handling, he\\u2019s very good, especially at changing pace, and utilizing a quick first step  Wes often plays the role of a primary distributor for the Wildcats, and dishes out an impressive 3.5 assists per game  From a scoring standpoint, he\\u2019s definitely a drive and transition threat first, but has improved as a shooter over the years  He was once a poor free throw shooter, but has risen his clip at the charity stripe to a respectable .758%  While he projects as a complimentary offensive player in the NBA, he\\u2019s carried a large offensive burden for K-State and is currently averaging 12.9 points per game in a low scoring system  Iwundu does a little bit of everything, and has often come up big when his team needs him most  His versatility has allowed him to consistently flirt with triple double lines while playing excellent defense  This ability gives him appeal as a role player in the NBA because he can effect the game in many ways without being a primary focus on offense  While Wes has improved a shooter, he\\u2019s still not particularly a good jump shooter  He\\u2019s always been a low volume three point shooter, and while sporting a nice 36% split as a senior, he\\u2019s attempting just 2.4 attempts per game (the first time in his career he\\u2019s averaged more than .9 attempts per contest.)  While this shows improvement, the longer line projects as an adjustment that will likely take Iwundu time to become adept shooting from that distance  He\\u2019s also just a 36.7% shooter on his two point jumpers (hoop-math.com) which is barely better than he is from beyond the arc  His damage is primary done in transition and driving to the hoop, so this may limit his offensive effectiveness in the NBA  He\\u2019ll likely not be a focal point on offense at the next level, but for a player like him, the corner three will be a necessary part of his game to improve  At this point his upside is fairly limited as well  Even four year players improve when they make the jump to the professional ranks, but Wes doesn\\u2019t have a major NBA calling card  He\\u2019s projects to be a plus defender at the two spot, but he\\u2019s still going to be overmatched by many NBA small forwards, and he doesn\\u2019t fill the role of a player who can fill it up off the bench in the scoring column  He\\u2019s good at everything, but not great at one thing  That can often be the difference between a long term NBA career, or one that results in playing overseas after a year or two as a low minute reserve  ',\n",
       " u'zach collins': u\" Young center with excellent size and coordination  Runs the floor well possessing very good mobility  Has a great frame, showing the ability to carry a lot of weight and remain fast and athletic  Strength shouldn't be much of an issue for him at the next level after a season or two  A stellar defender with good lateral quickness, especially for his size  Has a versatile offensive game with solid post skills as well as the ability to face up and hit midrange and outside shots  a fiery competitor, he gets agitated when he's beaten or challenged, and generally channels it in a positive way  Possesses a very nice shooting stroke with the form to extend his range to the NBA 3 point line  Showed the ability to knock down the college three, having hit 10/21 on the season (47.6%)  Solid rim protector and shot blocker averaging 1.7 boards per game in limited minutes  Plays on balance, and doesn't rush things  Not afraid to mix it up and seems to enjoy contact  Does a good job of forcing contact and getting to the free throw line  Has good hands, with good control of the ball on post entries and rebounds  A very effective socrer, with a 67.8% eFG% according to Hoop-Math.com  Gutsy player. Showed the ability to be a clutch shooter hitting a huge three in the closing minutes against South Carolina in the Final Four   Remains somewhat unproven having played sparse (17.3 mpg) minutes as a back up to Przemek Karnowski in his freshman season at Gonzaga  Hit 74% from the FT line and while solid, with his form and touch he should be in the 80s  Can improve upon his overall feel for the game and decision making  Lacks great vision and passing ability, had just 16 assists on the season, and can be forced into mistakes with double teams  The majority of his season was against the WCC, meaning that he didn't play a ton of NBA caliber bigs  Being a freshman that played limited minutes in a smaller conference will mean he has a sharper adjustment curve upon entering the league  May need to be careful with fouls at the next level as he fouled out of the Xavier game in the tournament in just 13 minutes \"}"
      ]
     },
     "execution_count": 24,
     "metadata": {},
     "output_type": "execute_result"
    }
   ],
   "source": [
    "nba_draftnet_prospects_joined = {}\n",
    "for playername in nbadraftnet_prospects_strengths.keys():\n",
    "    strength_text = nbadraftnet_prospects_strengths[playername]\n",
    "    weakness_text = nbadraftnet_prospects_weaknesses[playername]\n",
    "    nba_draftnet_prospects_joined[playername] = strength_text + \" \" + weakness_text\n",
    "nba_draftnet_prospects_joined"
   ]
  },
  {
   "cell_type": "code",
   "execution_count": null,
   "metadata": {
    "collapsed": true
   },
   "outputs": [],
   "source": []
  },
  {
   "cell_type": "code",
   "execution_count": null,
   "metadata": {
    "collapsed": true
   },
   "outputs": [],
   "source": []
  },
  {
   "cell_type": "code",
   "execution_count": null,
   "metadata": {
    "collapsed": true
   },
   "outputs": [],
   "source": []
  },
  {
   "cell_type": "code",
   "execution_count": null,
   "metadata": {
    "collapsed": false
   },
   "outputs": [],
   "source": [
    "print(\"\\xc2\")\n",
    "print(\"\\xbc\")\n",
    "# print('\\xc2\\xbc'.encode(\"utf-8\"))\n",
    "text = \"Shows the potential to guard multiple positionsWeaknesses-Only measured 6'6 ¼ in shoes by USA Basketball.\"\n",
    "# print(u\"Shows the potential to guard multiple positionsWeaknesses-Only measured 6'6 ¼ in shoes by USA Basketball.\".split(r\" \"))\n",
    "printable = set(string.printable)\n",
    "filtered_text = filter(lambda x: x in printable, text)\n",
    "print(nltk.word_tokenize(filtered_text))"
   ]
  },
  {
   "cell_type": "code",
   "execution_count": null,
   "metadata": {
    "collapsed": false
   },
   "outputs": [],
   "source": [
    "tokens = [u'Shows', u'the', u'potential', u'to', u'guard', u'multiple', u'positionsWeaknesses-Only', u'measured', u\"6'6\", u'\\xbc', u'in', u'shoes', u'by', u'USA', u'Basketball', u'.']\n",
    "regex = re.compile(r\"[^[[:ascii:]]]\")\n",
    "filtered = [token for token in tokens if not regex.search(token)]\n",
    "filtered"
   ]
  },
  {
   "cell_type": "code",
   "execution_count": null,
   "metadata": {
    "collapsed": true
   },
   "outputs": [],
   "source": []
  },
  {
   "cell_type": "code",
   "execution_count": null,
   "metadata": {
    "collapsed": true
   },
   "outputs": [],
   "source": []
  },
  {
   "cell_type": "code",
   "execution_count": null,
   "metadata": {
    "collapsed": true
   },
   "outputs": [],
   "source": []
  },
  {
   "cell_type": "code",
   "execution_count": 5,
   "metadata": {
    "collapsed": true
   },
   "outputs": [],
   "source": [
    "def get_tfidf_matrix(player_dict):\n",
    "    text_list = []\n",
    "    playername_list = []\n",
    "    for player, text in player_dict.items():\n",
    "        text_list.append(text)\n",
    "        playername_list.append(player)\n",
    "\n",
    "    tfidf_vectorizer = TfidfVectorizer(input=text_list, lowercase=True, stop_words=\"english\", max_df=0.9, min_df=2)\n",
    "    tfidf_text = tfidf_vectorizer.fit_transform(text_list)\n",
    "    tfidf_feature_names = tfidf_vectorizer.get_feature_names()\n",
    "    return tfidf_text, tfidf_feature_names"
   ]
  },
  {
   "cell_type": "code",
   "execution_count": 10,
   "metadata": {
    "collapsed": false
   },
   "outputs": [
    {
     "name": "stdout",
     "output_type": "stream",
     "text": [
      "(100, 2830)\n"
     ]
    }
   ],
   "source": [
    "tfidf_prospects_matrix, tfidf_prospects_feature_names = get_tfidf_matrix(prospects)\n",
    "print(tfidf_prospects_matrix.shape)\n"
   ]
  },
  {
   "cell_type": "code",
   "execution_count": 11,
   "metadata": {
    "collapsed": false
   },
   "outputs": [
    {
     "name": "stdout",
     "output_type": "stream",
     "text": [
      "(719, 9991)\n"
     ]
    }
   ],
   "source": [
    "tfidf_curr_players_matrix, tfidf_curr_players_feature_names = get_tfidf_matrix(curr_players)\n",
    "print(tfidf_curr_players_matrix.shape)"
   ]
  },
  {
   "cell_type": "code",
   "execution_count": 14,
   "metadata": {
    "collapsed": false
   },
   "outputs": [
    {
     "name": "stdout",
     "output_type": "stream",
     "text": [
      "(45, 692)\n"
     ]
    }
   ],
   "source": [
    "tfidf_nbadraftnet_prospects_strengths, tfidf_nbadraftnet_prospects_strengths_features = get_tfidf_matrix(nbadraftnet_prospects_strengths)\n",
    "print(tfidf_nbadraftnet_prospects_strengths.shape)"
   ]
  },
  {
   "cell_type": "code",
   "execution_count": 25,
   "metadata": {
    "collapsed": false
   },
   "outputs": [
    {
     "name": "stdout",
     "output_type": "stream",
     "text": [
      "(45, 1000)\n"
     ]
    }
   ],
   "source": [
    "tfidf_nbadraftnet_prospects_joined, tfidf_nbadraftnet_prospects_joined_features = get_tfidf_matrix(nba_draftnet_prospects_joined)\n",
    "print(tfidf_nbadraftnet_prospects_joined.shape)\n"
   ]
  },
  {
   "cell_type": "code",
   "execution_count": null,
   "metadata": {
    "collapsed": true
   },
   "outputs": [],
   "source": []
  },
  {
   "cell_type": "code",
   "execution_count": null,
   "metadata": {
    "collapsed": true
   },
   "outputs": [],
   "source": []
  },
  {
   "cell_type": "code",
   "execution_count": null,
   "metadata": {
    "collapsed": true
   },
   "outputs": [],
   "source": []
  },
  {
   "cell_type": "code",
   "execution_count": null,
   "metadata": {
    "collapsed": false
   },
   "outputs": [],
   "source": []
  },
  {
   "cell_type": "code",
   "execution_count": 15,
   "metadata": {
    "collapsed": true
   },
   "outputs": [],
   "source": [
    "def get_tf_matrix(player_dict):\n",
    "    text_list = []\n",
    "    playername_list = []\n",
    "    for player, text in player_dict.items():\n",
    "        text_list.append(text)\n",
    "        playername_list.append(player)\n",
    "\n",
    "    tf_vectorizer = CountVectorizer(input=text_list, lowercase=True, stop_words=\"english\", max_df=0.9, min_df=2)\n",
    "    tf_text = tf_vectorizer.fit_transform(text_list)\n",
    "    tf_feature_names = tf_vectorizer.get_feature_names()\n",
    "    return tf_text, tf_feature_names"
   ]
  },
  {
   "cell_type": "code",
   "execution_count": null,
   "metadata": {
    "collapsed": false
   },
   "outputs": [],
   "source": [
    "tf_prospects_matrix, tf_prospects_feature_names = get_tf_matrix(prospects)\n",
    "print(tf_prospects_matrix.shape)\n"
   ]
  },
  {
   "cell_type": "code",
   "execution_count": null,
   "metadata": {
    "collapsed": true
   },
   "outputs": [],
   "source": [
    "tf_curr_players_matrix, tf_curr_players_feature_names = get_tf_matrix(curr_players)\n",
    "print(tf_curr_players_matrix.shape)"
   ]
  },
  {
   "cell_type": "code",
   "execution_count": 16,
   "metadata": {
    "collapsed": false
   },
   "outputs": [
    {
     "name": "stdout",
     "output_type": "stream",
     "text": [
      "(45, 692)\n"
     ]
    }
   ],
   "source": [
    "tf_nbadraftnet_prospects_strengths, tf_nbadraftnet_prospects_strengths_features = get_tf_matrix(nbadraftnet_prospects_strengths)\n",
    "print(tf_nbadraftnet_prospects_strengths.shape)"
   ]
  },
  {
   "cell_type": "code",
   "execution_count": 26,
   "metadata": {
    "collapsed": false
   },
   "outputs": [
    {
     "name": "stdout",
     "output_type": "stream",
     "text": [
      "(45, 1000)\n"
     ]
    }
   ],
   "source": [
    "tf_nbadraftnet_prospects_joined, tf_nbadraftnet_prospects_joined_features = get_tf_matrix(nba_draftnet_prospects_joined)\n",
    "print(tf_nbadraftnet_prospects_joined.shape)"
   ]
  },
  {
   "cell_type": "code",
   "execution_count": null,
   "metadata": {
    "collapsed": true
   },
   "outputs": [],
   "source": []
  },
  {
   "cell_type": "code",
   "execution_count": null,
   "metadata": {
    "collapsed": true
   },
   "outputs": [],
   "source": []
  },
  {
   "cell_type": "code",
   "execution_count": 17,
   "metadata": {
    "collapsed": true
   },
   "outputs": [],
   "source": [
    "def display_topics(model, feature_names, no_top_words):\n",
    "    for topic_idx, topic in enumerate(model.components_):\n",
    "        print \"Topic %d:\" % (topic_idx)\n",
    "        print \" \".join([feature_names[i]\n",
    "                        for i in topic.argsort()[:-no_top_words - 1:-1]])\n",
    "    "
   ]
  },
  {
   "cell_type": "code",
   "execution_count": 18,
   "metadata": {
    "collapsed": true
   },
   "outputs": [],
   "source": [
    "def nmf_topic_model(tfidf_matrix, tfidf_feature_names, num_topics=10):\n",
    "    nmf_model = NMF(n_components=num_topics, random_state=1,alpha=.1, l1_ratio=.5).fit(tfidf_matrix)\n",
    "    display_topics(nmf_model, tfidf_feature_names, no_top_words=15)"
   ]
  },
  {
   "cell_type": "code",
   "execution_count": 19,
   "metadata": {
    "collapsed": true
   },
   "outputs": [],
   "source": [
    "def lda_topic_model(tf_matrix, tf_feature_names, num_topics=10):\n",
    "    lda_model = LatentDirichletAllocation(n_topics=num_topics).fit(tf_matrix)\n",
    "    display_topics(lda_model, tf_feature_names, no_top_words=15)"
   ]
  },
  {
   "cell_type": "code",
   "execution_count": 11,
   "metadata": {
    "collapsed": false
   },
   "outputs": [
    {
     "name": "stdout",
     "output_type": "stream",
     "text": [
      "Topic 0:\n",
      "ball season game level ability does rim shot year size good high draft point forward\n",
      "Topic 1:\n",
      "draft prospects video schmitz 12 conference big express pac scouting previews east report section dx\n",
      "Topic 2:\n",
      "interview summit hoop nike practice drills day recap usa international measurements select tai wynyard team\n",
      "Topic 3:\n",
      "vs breakdown analysis video matchup strengths weaknesses european cal french kansas kentucky evolution u18 louisville\n",
      "Topic 4:\n",
      "zone eurocamp facet faces faced face eyes eye eyblweaknesses eybl extremely extreme extraordinary extraordinarily extra\n",
      "Topic 5:\n",
      "guard point lead ball self zone extreme face eyes eye eyblweaknesses eybl extremely extraordinarily extraordinary\n",
      "Topic 6:\n",
      "thomson draft arizona video colorado express archive matchup closer takes check look digital format twitter\n",
      "Topic 7:\n",
      "kansas 12 given season catch nations 63 valuable ball professional extended facet faces faced face\n",
      "Topic 8:\n",
      "redshirt ranked applebome producing revelation eyes sitting rhode tested undefeated revolves keeps outrageous villanova highly\n",
      "Topic 9:\n",
      "carolina south saturday north frontcourt concerns gonzaga tar heels stakes memorable react men productivity string\n",
      "Topic 10:\n",
      "1995 forward born better power max vert 3rd emotions shocking believe mention appearances spanish acb\n",
      "Topic 11:\n",
      "zone eurocamp facet faces faced face eyes eye eyblweaknesses eybl extremely extreme extraordinary extraordinarily extra\n",
      "Topic 12:\n",
      "workout interview video french angelo zone extremely faced face eyes eye eyblweaknesses eybl extraordinary extreme\n",
      "Topic 13:\n",
      "select terrific number day french york team impressed new leaping points today adidas roster scoring\n",
      "Topic 14:\n",
      "burst approach bit wings terms island given passive projectable flat offensive physical translates eurocamp 19\n",
      "Topic 15:\n",
      "wisconsin badgers role possessions jump country using extend extreme eyes explosiveness eye eyblweaknesses express eybl\n",
      "Topic 16:\n",
      "impossible withdraw competition ll seen stay overwhelmed greek guarantee hamper relegated decide rumors 15th unless\n",
      "Topic 17:\n",
      "zone eurocamp facet faces faced face eyes eye eyblweaknesses eybl extremely extreme extraordinary extraordinarily extra\n",
      "Topic 18:\n",
      "rhode island tip cincinnati host 25 71 established outing monitor evaluators progresses 44 budding regular\n",
      "Topic 19:\n",
      "senior analyzing exactly eventually prospects school lesser hometown underclassmen buzz beating shedding truly transferred dive\n"
     ]
    }
   ],
   "source": [
    "nmf_topic_model(tfidf_prospects_matrix, tfidf_prospects_feature_names, num_topics=20)"
   ]
  },
  {
   "cell_type": "code",
   "execution_count": 12,
   "metadata": {
    "collapsed": false
   },
   "outputs": [
    {
     "name": "stderr",
     "output_type": "stream",
     "text": [
      "C:\\Users\\Eric\\Anaconda2\\envs\\cs4300\\lib\\site-packages\\sklearn\\decomposition\\online_lda.py:508: DeprecationWarning: The default value for 'learning_method' will be changed from 'online' to 'batch' in the release 0.20. This warning was introduced in 0.18.\n",
      "  DeprecationWarning)\n"
     ]
    },
    {
     "name": "stdout",
     "output_type": "stream",
     "text": [
      "Topic 0:\n",
      "season big post minutes 40 game year does shots rim ball shooting offensive level perimeter\n",
      "Topic 1:\n",
      "interview team nike summit hoop shooting ball level guard practice draft wingspan drills usa hands\n",
      "Topic 2:\n",
      "season ball shooting ability game draft end points year rim jump offensively scouts defensive level\n",
      "Topic 3:\n",
      "draft forward ball big power floor long does great feet career size make points impressive\n",
      "Topic 4:\n",
      "vs video breakdown big game strengths weaknesses analysis man year level good size strong shot\n",
      "Topic 5:\n",
      "ball draft game potential size frame floor long wing court season prospect play good make\n",
      "Topic 6:\n",
      "point game season ability ball level make just freshman minutes carolina south great strength high\n",
      "Topic 7:\n",
      "point draft interview guard video long vs game strengths size breakdown year team weaknesses analysis\n",
      "Topic 8:\n",
      "ball team interview good shooting wingspan year season game level court shooter make draft shot\n",
      "Topic 9:\n",
      "draft minutes play video point express 40 good shot ability ball high schmitz freshman improve\n",
      "Topic 10:\n",
      "season draft ball level year shooting team rim game forward 40 shot make ability minutes\n",
      "Topic 11:\n",
      "draft prospects video big game year ball level high 12 weaknesses interview express guard does\n",
      "Topic 12:\n",
      "ball player draft court frame ability does wing high shot body half shooting long great\n",
      "Topic 13:\n",
      "level game season ball draft does team high shooter good shot time player video ability\n",
      "Topic 14:\n",
      "game season year level floor high big shooting offensive ball ability strong college team points\n",
      "Topic 15:\n",
      "draft game basketball camp video long usa guard point prospects good interview mini ball express\n",
      "Topic 16:\n",
      "rim floor length center offensive touch 10 frame does long hands game post times draft\n",
      "Topic 17:\n",
      "draft ball level game guard size point ability shot high times frame dribble team play\n",
      "Topic 18:\n",
      "season guard ball year kansas point draft big size shot game senior 12 dribble time\n",
      "Topic 19:\n",
      "ball game level guard draft year play season freshman long rim shooting just way playing\n"
     ]
    }
   ],
   "source": [
    "lda_topic_model(tf_prospects_matrix, tf_prospects_feature_names, num_topics=20)"
   ]
  },
  {
   "cell_type": "code",
   "execution_count": null,
   "metadata": {
    "collapsed": true
   },
   "outputs": [],
   "source": []
  },
  {
   "cell_type": "code",
   "execution_count": null,
   "metadata": {
    "collapsed": true
   },
   "outputs": [],
   "source": []
  },
  {
   "cell_type": "code",
   "execution_count": null,
   "metadata": {
    "collapsed": true
   },
   "outputs": [],
   "source": []
  },
  {
   "cell_type": "code",
   "execution_count": null,
   "metadata": {
    "collapsed": true
   },
   "outputs": [],
   "source": []
  },
  {
   "cell_type": "code",
   "execution_count": null,
   "metadata": {
    "collapsed": true
   },
   "outputs": [],
   "source": []
  },
  {
   "cell_type": "code",
   "execution_count": null,
   "metadata": {
    "collapsed": true
   },
   "outputs": [],
   "source": []
  },
  {
   "cell_type": "code",
   "execution_count": 13,
   "metadata": {
    "collapsed": true
   },
   "outputs": [
    {
     "name": "stdout",
     "output_type": "stream",
     "text": [
      "Topic 0:\n",
      "season shot ability level post basket time does floor shots team just offensive man draft\n",
      "Topic 1:\n",
      "interview workout video angelo draft pre alan videos upshaw interviews connell christmasn chasson outtakes footage\n",
      "Topic 2:\n",
      "guard point guards shooting team court dribble assists offense vision teammates lane half making roll\n",
      "Topic 3:\n",
      "adjusted pace 40 minutes level season does jump 100 post defensive attempts offensive junior synergy\n",
      "Topic 4:\n",
      "video scouting report schmitz reports givony subscribe tube valleyofthe network breakdowns page twitter writer suns\n",
      "Topic 5:\n",
      "vs analysis video videos schmitz matchup kentucky arizona compilation angelo section barcelona produced situational wood\n",
      "Topic 6:\n",
      "euroleague european turkish europe team league international age championships competition national adriatic guy playing young\n",
      "Topic 7:\n",
      "think going just like know givony guys ve really lot people reporter don got kind\n",
      "Topic 8:\n",
      "application embed initialize complex 2014 dermott reports videos clicking view group draft vine scouting possessions\n",
      "Topic 9:\n",
      "zydrunas executes exemplifying exemplifies exemplified executives executive execution executing executed exercises execute execs excuses excuse\n",
      "Topic 10:\n",
      "summit interview nike hoop practice 2015 international recap usa select 2016 dx draft world prospects\n",
      "Topic 11:\n",
      "ucla howland bruins jh pac did half florida dx executives executive execution executing executes executed\n",
      "Topic 12:\n",
      "mc collum guire caw gee rae dermott clemson lemore detroit duke lehigh scoring donald roberts\n",
      "Topic 13:\n",
      "clinton ppp miami mc executes exemplifying exemplifies exemplified executives executive execution executing zydrunas executed exercise\n",
      "Topic 14:\n",
      "breakdown report scouting video dermott lavine artem klimenko inventory group possessions mc season vine prospect\n",
      "Topic 15:\n",
      "partizan serbian adriatic mega belgrade league serbia leks european season fmp vujosevic euro se u19\n",
      "Topic 16:\n",
      "syracuse orange boeheim zone jim going shot express areas east reebok exemplifies exemplified executives executive\n",
      "Topic 17:\n",
      "ohio state matta buckeyes thad stoudemire comparable express buckeye jr invitational greek oden nelson portsmouth\n",
      "Topic 18:\n",
      "michigan vert le state baylor florida oakland dx dorian finney estudiantes cibona schmitz marquette unlv\n",
      "Topic 19:\n",
      "acb spanish madrid joventut real spain sevilla barcelona leb dkv season fernández montenegrin team euro\n"
     ]
    }
   ],
   "source": [
    "nmf_topic_model(tfidf_curr_players_matrix, tfidf_curr_players_feature_names, num_topics=20)"
   ]
  },
  {
   "cell_type": "code",
   "execution_count": 14,
   "metadata": {
    "collapsed": true
   },
   "outputs": [
    {
     "name": "stderr",
     "output_type": "stream",
     "text": [
      "C:\\Users\\Eric\\Anaconda2\\envs\\cs4300\\lib\\site-packages\\sklearn\\decomposition\\online_lda.py:508: DeprecationWarning: The default value for 'learning_method' will be changed from 'online' to 'batch' in the release 0.20. This warning was introduced in 0.18.\n",
      "  DeprecationWarning)\n"
     ]
    },
    {
     "name": "stdout",
     "output_type": "stream",
     "text": [
      "Topic 0:\n",
      "season ppp oregon video breakdown pretty does exploiting interview ability high writing ended talents syracuse\n",
      "Topic 1:\n",
      "doesn end 235 fans senior ohio shot bit wing nice state hits defense intensity size\n",
      "Topic 2:\n",
      "season shot point ability level video team post draft does guard just time shooting basket\n",
      "Topic 3:\n",
      "point guard tywon ability team season level offensive perceived incredibly tougher given report players non\n",
      "Topic 4:\n",
      "uconn ability season level make shot memphis end perimeter shooting ncaa allows guard just temple\n",
      "Topic 5:\n",
      "purdue draft twaun spain think kid does prospect like says award decent nenad coveted sept\n",
      "Topic 6:\n",
      "georgetown work dx tying 16 terrific small offense lot direction season unc definitively jazz students\n",
      "Topic 7:\n",
      "bryant level forward showing greek solid hofstra european play team time perimeter season pop rim\n",
      "Topic 8:\n",
      "season video point guard shot vs team ability draft time level shooting breakdown shots play\n",
      "Topic 9:\n",
      "stoudemire acb database portsmouth comparable assists intimidator perspective dyshawn fgs chance roleplayer bone reference underachieved\n",
      "Topic 10:\n",
      "kn did team post just season play today forward draft guard tech acb georgia mistakes\n",
      "Topic 11:\n",
      "vs kansas point ap guard video virginia staying 50 players versatile scrutiny court 79 stripes\n",
      "Topic 12:\n",
      "interview video workout egos funneling poking players waco choices 96th coached include outing padgett data\n",
      "Topic 13:\n",
      "breakdown video scouting report season notre dame post career grizzlies shot team defensive conditioned revamped\n",
      "Topic 14:\n",
      "video interview workout season just draft does level post shot vs high analysis point team\n",
      "Topic 15:\n",
      "russian season team guard kentucky triumph workout teams french interview madrid point minutes guards 94\n",
      "Topic 16:\n",
      "vs interview video workout ilk does yield monstrous forbes magically bumps lockout arizona maccabi length\n",
      "Topic 17:\n",
      "ability season turkish forward feel does intriguing matched solid minutes stanford ranks junior getting pace\n",
      "Topic 18:\n",
      "point season uconn floor shot experience play guard stashing spanish guards price team bradley serbian\n",
      "Topic 19:\n",
      "point shooter threat think michigan situations relative going prepared possessions adjustments zags lofty best october\n"
     ]
    }
   ],
   "source": [
    "lda_topic_model(tfidf_curr_players_matrix, tfidf_curr_players_feature_names, num_topics=20)"
   ]
  },
  {
   "cell_type": "code",
   "execution_count": null,
   "metadata": {
    "collapsed": true
   },
   "outputs": [],
   "source": []
  },
  {
   "cell_type": "code",
   "execution_count": null,
   "metadata": {
    "collapsed": true
   },
   "outputs": [],
   "source": []
  },
  {
   "cell_type": "code",
   "execution_count": null,
   "metadata": {
    "collapsed": true
   },
   "outputs": [],
   "source": []
  },
  {
   "cell_type": "code",
   "execution_count": null,
   "metadata": {
    "collapsed": true
   },
   "outputs": [],
   "source": []
  },
  {
   "cell_type": "code",
   "execution_count": null,
   "metadata": {
    "collapsed": true
   },
   "outputs": [],
   "source": []
  },
  {
   "cell_type": "code",
   "execution_count": null,
   "metadata": {
    "collapsed": true
   },
   "outputs": [],
   "source": []
  },
  {
   "cell_type": "code",
   "execution_count": 31,
   "metadata": {
    "collapsed": false
   },
   "outputs": [
    {
     "name": "stdout",
     "output_type": "stream",
     "text": [
      "Topic 0:\n",
      "ball game ability great solid player plays high size rim level shooting nba point offensive\n",
      "Topic 1:\n",
      "guard great plays ball passing gets quick draws aggression quickness fouls creativity body court competitor\n",
      "Topic 2:\n",
      "pick thanks roll screener basket situations coast rate great start used mobility free throw power\n",
      "Topic 3:\n",
      "help block defenders feet catches got big chance dunk aware doesn overall deep let large\n",
      "Topic 4:\n",
      "senior strength shooting year frame hard athleticism highlight 45 focused competes garbage junior utilizes explosive\n",
      "Topic 5:\n",
      "mobility coordinated height flashy keeping useful maximum turnovers 30 actually vertical pretty attributes natural blocking\n",
      "Topic 6:\n",
      "hit minutes showed season post remain positive closing hitting form clutch issue ability contact line\n",
      "Topic 7:\n",
      "dribble proper loose coordinated growth rotation late spurt score great extend stroke fade aways backs\n",
      "Topic 8:\n",
      "wing defenders multiple uses position surprising major begun fluidity self high extend forcing aways backs\n",
      "Topic 9:\n",
      "ball uses open impact creative areas deep finishing court guard traits times spots dribbles contested\n"
     ]
    }
   ],
   "source": [
    "nmf_topic_model(tfidf_nbadraftnet_prospects_strengths, tfidf_nbadraftnet_prospects_strengths_features, num_topics=10)"
   ]
  },
  {
   "cell_type": "code",
   "execution_count": 23,
   "metadata": {
    "collapsed": false
   },
   "outputs": [
    {
     "name": "stderr",
     "output_type": "stream",
     "text": [
      "C:\\Users\\Eric\\Anaconda2\\envs\\cs4300\\lib\\site-packages\\sklearn\\decomposition\\online_lda.py:508: DeprecationWarning: The default value for 'learning_method' will be changed from 'online' to 'batch' in the release 0.20. This warning was introduced in 0.18.\n",
      "  DeprecationWarning)\n"
     ]
    },
    {
     "name": "stdout",
     "output_type": "stream",
     "text": [
      "Topic 0:\n",
      "great ball guard game quick plays reacts handles incredibly draws opposing rim blocks aggression high\n",
      "Topic 1:\n",
      "player toughness weapon using arms composure away young base keeps game solid potentially remain possessing\n",
      "Topic 2:\n",
      "game ability nba solid high offensive player allen level transition size defensive season wingspan rebounds\n",
      "Topic 3:\n",
      "season average digit rebounds height aggressiveness steps creating games missed line drive receiving composure overall\n",
      "Topic 4:\n",
      "mobility size blocks physical ball jump ability floor pick basket timing wingspan shot nba shows\n",
      "Topic 5:\n",
      "ball plays player shows offense great right gets rim polished mid effective pick high strong\n",
      "Topic 6:\n",
      "rim agility points ball moves outside passes college set big feet comfortable game defend perimeter\n",
      "Topic 7:\n",
      "ball great ability game plays solid size high floor shooting guard player length court level\n",
      "Topic 8:\n",
      "rim season guard dribble point did scoring shots extremely great increase ability really upside ball\n",
      "Topic 9:\n",
      "man big floor help rim effort comes block high low aware post frame feet doesn\n"
     ]
    }
   ],
   "source": [
    "lda_topic_model(tf_nbadraftnet_prospects_strengths, tf_nbadraftnet_prospects_strengths_features, num_topics=10)"
   ]
  },
  {
   "cell_type": "code",
   "execution_count": 32,
   "metadata": {
    "collapsed": false
   },
   "outputs": [
    {
     "name": "stderr",
     "output_type": "stream",
     "text": [
      "C:\\Users\\Eric\\Anaconda2\\envs\\cs4300\\lib\\site-packages\\sklearn\\decomposition\\online_lda.py:508: DeprecationWarning: The default value for 'learning_method' will be changed from 'online' to 'batch' in the release 0.20. This warning was introduced in 0.18.\n",
      "  DeprecationWarning)\n"
     ]
    },
    {
     "name": "stdout",
     "output_type": "stream",
     "text": [
      "Topic 0:\n",
      "10 minutes break backcourt playing reads sophomore conference season coming lead lob perimeter hit mobile\n",
      "Topic 1:\n",
      "season rim games aggressiveness ball extremely dunks having versatility point rebounds aggressive double digit game\n",
      "Topic 2:\n",
      "solid position mobile pounds game plays hands terrific catches fakes mentality arms larger create number\n",
      "Topic 3:\n",
      "wingspan unselfish great roll cover acceptable size opponent ability feet floor man standing doesn chance\n",
      "Topic 4:\n",
      "knows average improving lead nba creating physical work different assists creates arc frame area hitting\n",
      "Topic 5:\n",
      "great game takes perimeter set offense break high post nba transition ability situations outside pick\n",
      "Topic 6:\n",
      "30 wants long overall foot coordination defenders plus backcourt level ability missed center filled smart\n",
      "Topic 7:\n",
      "mobility turnovers 30 coordinated ability ball size vertical flashy useful potential keeping height great foot\n",
      "Topic 8:\n",
      "great ball ability game plays guard solid high floor rim player size shooting court point\n",
      "Topic 9:\n",
      "guard great plays dribble maker point scoring combination ability true assists standpoint gifted decision maximum\n"
     ]
    }
   ],
   "source": [
    "lda_topic_model(tfidf_nbadraftnet_prospects_strengths, tfidf_nbadraftnet_prospects_strengths_features, num_topics=10)"
   ]
  },
  {
   "cell_type": "code",
   "execution_count": null,
   "metadata": {
    "collapsed": true
   },
   "outputs": [],
   "source": []
  },
  {
   "cell_type": "code",
   "execution_count": null,
   "metadata": {
    "collapsed": true
   },
   "outputs": [],
   "source": []
  },
  {
   "cell_type": "code",
   "execution_count": null,
   "metadata": {
    "collapsed": true
   },
   "outputs": [],
   "source": []
  },
  {
   "cell_type": "code",
   "execution_count": null,
   "metadata": {
    "collapsed": true
   },
   "outputs": [],
   "source": []
  },
  {
   "cell_type": "code",
   "execution_count": null,
   "metadata": {
    "collapsed": true
   },
   "outputs": [],
   "source": []
  },
  {
   "cell_type": "code",
   "execution_count": 27,
   "metadata": {
    "collapsed": false
   },
   "outputs": [
    {
     "name": "stdout",
     "output_type": "stream",
     "text": [
      "Topic 0:\n",
      "ball doesn guard high shooting plays level rim player point shooter court floor shot improve\n",
      "Topic 1:\n",
      "tends injury overall nonchalant improve patience immense led rip reacts personality lightning tempo plays reads\n",
      "Topic 2:\n",
      "problems situations really pick times roll average basket defense thanks ball handler afraid add little\n",
      "Topic 3:\n",
      "worked handle use skills solid create body work facing kind combined physicality complete slashing style\n",
      "Topic 4:\n",
      "term struggles long coordinated dangerous ready spurt bloomer potential stroke proper rotation growth slight fade\n",
      "Topic 5:\n",
      "season minutes hit freshman having showed limited line league played skills mpg form just south\n",
      "Topic 6:\n",
      "willing cover aware big showed improved man effort floor close energy brings space basket post\n",
      "Topic 7:\n",
      "mobility weight struggles size coordinated light gains mean improvements skinny useful players 30 maximum contain\n",
      "Topic 8:\n",
      "amazing read development think lose ways right steals attacks body way passes nba important ball\n",
      "Topic 9:\n",
      "unnecessary particularly plays skill years shot feel paint scoring affected flashes hitch considerably 65 follow\n"
     ]
    }
   ],
   "source": [
    "nmf_topic_model(tfidf_nbadraftnet_prospects_joined, tfidf_nbadraftnet_prospects_joined_features, num_topics=10)"
   ]
  },
  {
   "cell_type": "code",
   "execution_count": 28,
   "metadata": {
    "collapsed": false
   },
   "outputs": [
    {
     "name": "stderr",
     "output_type": "stream",
     "text": [
      "C:\\Users\\Eric\\Anaconda2\\envs\\cs4300\\lib\\site-packages\\sklearn\\decomposition\\online_lda.py:508: DeprecationWarning: The default value for 'learning_method' will be changed from 'online' to 'batch' in the release 0.20. This warning was introduced in 0.18.\n",
      "  DeprecationWarning)\n"
     ]
    },
    {
     "name": "stdout",
     "output_type": "stream",
     "text": [
      "Topic 0:\n",
      "season guard ball point gets needs does using dribble shooter scoring just shooting level knock\n",
      "Topic 1:\n",
      "ball level floor length body guard times defense contact court quickness pick lot range passing\n",
      "Topic 2:\n",
      "rim nba level allen shot size rebounds games low player double big improved physical forward\n",
      "Topic 3:\n",
      "high ball shot does post really solid point rim plays doesn offensive block defender player\n",
      "Topic 4:\n",
      "ball doesn shooting pick lot scoring power roll shot strong guard point does defense improve\n",
      "Topic 5:\n",
      "tough despite arc strongest nba easy high ncaa end effort athletic math larger slightly plenty\n",
      "Topic 6:\n",
      "ball level doesn shooting guard body player defense plays needs high rim point size shot\n",
      "Topic 7:\n",
      "floor ball doesn level shooting high nba season shots plays player shot lack guard speed\n",
      "Topic 8:\n",
      "season nba minutes level improve doesn ball shooting point hit player line year frame offensive\n",
      "Topic 9:\n",
      "post high level ball rim player dribble improve size defenders length athleticism play physical position\n"
     ]
    }
   ],
   "source": [
    "lda_topic_model(tf_nbadraftnet_prospects_joined, tf_nbadraftnet_prospects_joined_features, num_topics=10)"
   ]
  },
  {
   "cell_type": "code",
   "execution_count": null,
   "metadata": {
    "collapsed": true
   },
   "outputs": [],
   "source": []
  }
 ],
 "metadata": {
  "anaconda-cloud": {},
  "kernelspec": {
   "display_name": "Python [conda env:cs4300]",
   "language": "python",
   "name": "conda-env-cs4300-py"
  },
  "language_info": {
   "codemirror_mode": {
    "name": "ipython",
    "version": 2
   },
   "file_extension": ".py",
   "mimetype": "text/x-python",
   "name": "python",
   "nbconvert_exporter": "python",
   "pygments_lexer": "ipython2",
   "version": "2.7.13"
  }
 },
 "nbformat": 4,
 "nbformat_minor": 1
}
