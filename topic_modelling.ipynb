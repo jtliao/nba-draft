{
 "cells": [
  {
   "cell_type": "code",
   "execution_count": 1,
   "metadata": {
    "collapsed": false,
    "scrolled": true
   },
   "outputs": [],
   "source": [
    "from sklearn.feature_extraction.text import TfidfVectorizer, CountVectorizer\n",
    "from sklearn.decomposition import LatentDirichletAllocation, NMF\n",
    "import nltk\n",
    "import json\n",
    "import re \n",
    "import string\n",
    "\n",
    "from nltk.tag.stanford import StanfordNERTagger\n",
    "ner_tagger = StanfordNERTagger(\"C:/Users/Eric/stanford-ner-2014-06-16/classifiers/english.all.3class.distsim.crf.ser.gz\",\n",
    "                               \"C:/Users/Eric/stanford-ner-2014-06-16/stanford-ner-3.4.jar\",\n",
    "                                encoding=\"utf\")\n",
    "\n"
   ]
  },
  {
   "cell_type": "code",
   "execution_count": null,
   "metadata": {
    "collapsed": true
   },
   "outputs": [],
   "source": [
    "text = 'While in France, Christine Lagarde discussed short-term stimulus efforts in a recent interview with the Wall Street Journal.'\n",
    "\n",
    "tokenized_text = nltk.word_tokenize(text)\n",
    "classified_text = ner_tagger.tag(tokenized_text)\n"
   ]
  },
  {
   "cell_type": "code",
   "execution_count": null,
   "metadata": {
    "collapsed": false
   },
   "outputs": [],
   "source": [
    "classified_text"
   ]
  },
  {
   "cell_type": "code",
   "execution_count": null,
   "metadata": {
    "collapsed": false
   },
   "outputs": [],
   "source": []
  },
  {
   "cell_type": "code",
   "execution_count": null,
   "metadata": {
    "collapsed": true
   },
   "outputs": [],
   "source": []
  },
  {
   "cell_type": "code",
   "execution_count": null,
   "metadata": {
    "collapsed": false
   },
   "outputs": [],
   "source": [
    "print((\"\\xc2\"))"
   ]
  },
  {
   "cell_type": "code",
   "execution_count": null,
   "metadata": {
    "collapsed": false
   },
   "outputs": [],
   "source": [
    "text = \"\\nPlease enable Javascript to watch this video (Video may not load with Internet Explorer. Use Chrome or Firefox)\\n \\n\\t\\t\\t\\t\\t\\t\\t\\tGeorgia native Kobi Simmons is the highest ranked high school player on the US Select Team, and while he flashes tremendous potential, he has not been particularly dominant here in Treviso.  Making poor decisions with the ball trying to be too flashy, settling for floaters while avoiding contact, and not making the simple play at times this week, Simmons was better on day three, scoring 13 points while dishing out 4 assists.  His lack of strength has limited him a bit against the more mature, organized defenses he's faced.  His quickness is an obvious asset, especially when he asserts himself defending on the ball, as is his ability to play above the rim and knock down shots off the bounce, but it appears that he's still learning how to consistently exploit those tools against quality competition.  This isn't the easiest setting for a player like Simmons to excel in, as his best days are clearly ahead of him, so it was nice to see him find a rhythm in his last game in Italy.\\n\\t\\t\\t\\t\\t\\t\\t \\nJonathan GivonyRecruiting Rankings: Scout #7, 24/7 #25, Rivals #15, ESPN #29Strengths:-Great size for his position-Smooth, fluid athlete-Quick in transition -Very good first step driving left -Puts pressure on the defense with his probing, aggressive style of ball-handling -Can make an outside shot-Shot 81% from the free throw line at the adidas Gauntlet (87 attempts)-Quick hands for steals -Anticipates in passing lanes -Very good potential defensively thanks to his sizeWeaknesses:-Still learning the nuances of how to run a team efficiently-Somewhat wild in his approach to the game-More of a scorer than a facilitator at this stage (-1.7 PPR in Gauntlet)-Shows average vision in the half-court-Lack of strength makes it difficult to finish around the rim effectively in half-court settings-Not a consistent 3-point shooter-Very low release point on his jumper-Has an average wingspan relative to his heightOutlook: Talented guard who's reputation revolves more around his potential as a big point than it does around his actual production. Still learning how to maximize his tools on both ends of the floor and play efficient basketball. Only 17 so still has plenty of time.\\n\\t\\t\\t\\t\\t\\t\\t \\nComplexEmbed.Application.initialize({cId: \\\"xxZ29pbzqoqlrnVxQb4kZvfiRx-B7tTx\\\",adSetCode: \\\"d4063ffb5eea4665ac55cd9182bbb23e\\\",site: \\\"draftexpress\\\",kw: \\\"\\\"});Please enable Javascript to watch this video\\n\"\n",
    "sents = nltk.sent_tokenize(text)\n",
    "for sent in sents:\n",
    "    tokens = nltk.word_tokenize(sent)\n",
    "    classified = ner_tagger.tag(tokens)\n",
    "    print(classified)"
   ]
  },
  {
   "cell_type": "code",
   "execution_count": null,
   "metadata": {
    "collapsed": true
   },
   "outputs": [],
   "source": []
  },
  {
   "cell_type": "code",
   "execution_count": null,
   "metadata": {
    "collapsed": true
   },
   "outputs": [],
   "source": []
  },
  {
   "cell_type": "code",
   "execution_count": null,
   "metadata": {
    "collapsed": false
   },
   "outputs": [],
   "source": [
    "printable = set(string.printable)\n",
    "def clean_player_jsons(player_dict, output_filename):\n",
    "    new_player_dict = {}\n",
    "    for k, v in player_dict.items():\n",
    "#         v = unicode(v, errors=\"ignore\")\n",
    "        sents = nltk.sent_tokenize(v)\n",
    "        new_text = []\n",
    "        for sent in sents:\n",
    "            if \"Javascript\" not in sent and \"Chrome\" not in sent and \"Firefox\" not in sent:\n",
    "#             if \"Weaknesses-Only\" in sent and \"Javascript\" not in sent and \"Chrome\" not in sent and \"Firefox\" not in sent:\n",
    "#                 sent = sent.encode('utf-8').strip()\n",
    "#                 print(sent)\n",
    "    \n",
    "                filtered_sent = filter(lambda x: x in printable, sent)\n",
    "#                 print(filtered_sent)\n",
    "        \n",
    "                tokens = nltk.word_tokenize(filtered_sent)\n",
    "#                 tokens = sent.split(r\"[\\s|-]\")\n",
    "#                 tokens = [token for token in tokens if \"\\\\\" not in token]\n",
    "                print(tokens)\n",
    "                classified_text = ner_tagger.tag(tokens)\n",
    "                new_text.append(\" \".join([word for (word, classification) in classified_text if classification != u\"PERSON\"]))\n",
    "        new_player_dict[k] = \" \".join(new_text)\n",
    "    with open(output_filename, \"w\") as f:\n",
    "        json.dump(new_player_dict, f)\n",
    "    "
   ]
  },
  {
   "cell_type": "code",
   "execution_count": null,
   "metadata": {
    "collapsed": true
   },
   "outputs": [],
   "source": []
  },
  {
   "cell_type": "code",
   "execution_count": null,
   "metadata": {
    "collapsed": true
   },
   "outputs": [],
   "source": []
  },
  {
   "cell_type": "code",
   "execution_count": 2,
   "metadata": {
    "collapsed": false
   },
   "outputs": [],
   "source": [
    "with open(\"cleaned_prospects_to_docs.json\", \"r\") as f:\n",
    "    prospects = json.load(f)"
   ]
  },
  {
   "cell_type": "code",
   "execution_count": 3,
   "metadata": {
    "collapsed": false
   },
   "outputs": [],
   "source": [
    "with open(\"cleaned_curr_players_to_docs.json\", \"r\") as f:\n",
    "    curr_players = json.load(f)"
   ]
  },
  {
   "cell_type": "code",
   "execution_count": null,
   "metadata": {
    "collapsed": true
   },
   "outputs": [],
   "source": []
  },
  {
   "cell_type": "code",
   "execution_count": null,
   "metadata": {
    "collapsed": true
   },
   "outputs": [],
   "source": []
  },
  {
   "cell_type": "code",
   "execution_count": null,
   "metadata": {
    "collapsed": false
   },
   "outputs": [],
   "source": [
    "print(\"\\xc2\")\n",
    "print(\"\\xbc\")\n",
    "# print('\\xc2\\xbc'.encode(\"utf-8\"))\n",
    "text = \"Shows the potential to guard multiple positionsWeaknesses-Only measured 6'6 ¼ in shoes by USA Basketball.\"\n",
    "# print(u\"Shows the potential to guard multiple positionsWeaknesses-Only measured 6'6 ¼ in shoes by USA Basketball.\".split(r\" \"))\n",
    "printable = set(string.printable)\n",
    "filtered_text = filter(lambda x: x in printable, text)\n",
    "print(nltk.word_tokenize(filtered_text))"
   ]
  },
  {
   "cell_type": "code",
   "execution_count": null,
   "metadata": {
    "collapsed": false
   },
   "outputs": [],
   "source": [
    "tokens = [u'Shows', u'the', u'potential', u'to', u'guard', u'multiple', u'positionsWeaknesses-Only', u'measured', u\"6'6\", u'\\xbc', u'in', u'shoes', u'by', u'USA', u'Basketball', u'.']\n",
    "regex = re.compile(r\"[^[[:ascii:]]]\")\n",
    "filtered = [token for token in tokens if not regex.search(token)]\n",
    "filtered"
   ]
  },
  {
   "cell_type": "code",
   "execution_count": null,
   "metadata": {
    "collapsed": true
   },
   "outputs": [],
   "source": []
  },
  {
   "cell_type": "code",
   "execution_count": null,
   "metadata": {
    "collapsed": true
   },
   "outputs": [],
   "source": []
  },
  {
   "cell_type": "code",
   "execution_count": null,
   "metadata": {
    "collapsed": true
   },
   "outputs": [],
   "source": []
  },
  {
   "cell_type": "code",
   "execution_count": 4,
   "metadata": {
    "collapsed": true
   },
   "outputs": [],
   "source": [
    "def get_tfidf_matrix(player_dict):\n",
    "    text_list = []\n",
    "    playername_list = []\n",
    "    for player, text in player_dict.items():\n",
    "        text_list.append(text)\n",
    "        playername_list.append(player)\n",
    "\n",
    "    tfidf_vectorizer = TfidfVectorizer(input=text_list, lowercase=True, stop_words=\"english\", max_df=0.9, min_df=2)\n",
    "    tfidf_text = tfidf_vectorizer.fit_transform(text_list)\n",
    "    tfidf_feature_names = tfidf_vectorizer.get_feature_names()\n",
    "    return tfidf_text, tfidf_feature_names"
   ]
  },
  {
   "cell_type": "code",
   "execution_count": 5,
   "metadata": {
    "collapsed": false
   },
   "outputs": [
    {
     "name": "stdout",
     "output_type": "stream",
     "text": [
      "(100, 2830)\n",
      "(719, 9991)\n"
     ]
    }
   ],
   "source": [
    "tfidf_prospects_matrix, tfidf_prospects_feature_names = get_tfidf_matrix(prospects)\n",
    "print(tfidf_prospects_matrix.shape)\n",
    "\n",
    "tfidf_curr_players_matrix, tfidf_curr_players_feature_names = get_tfidf_matrix(curr_players)\n",
    "print(tfidf_curr_players_matrix.shape)\n"
   ]
  },
  {
   "cell_type": "code",
   "execution_count": null,
   "metadata": {
    "collapsed": true
   },
   "outputs": [],
   "source": []
  },
  {
   "cell_type": "code",
   "execution_count": null,
   "metadata": {
    "collapsed": false
   },
   "outputs": [],
   "source": []
  },
  {
   "cell_type": "code",
   "execution_count": 6,
   "metadata": {
    "collapsed": true
   },
   "outputs": [],
   "source": [
    "def get_tf_matrix(player_dict):\n",
    "    text_list = []\n",
    "    playername_list = []\n",
    "    for player, text in player_dict.items():\n",
    "        text_list.append(text)\n",
    "        playername_list.append(player)\n",
    "\n",
    "    tf_vectorizer = CountVectorizer(input=text_list, lowercase=True, stop_words=\"english\", max_df=0.9, min_df=2)\n",
    "    tf_text = tf_vectorizer.fit_transform(text_list)\n",
    "    tf_feature_names = tf_vectorizer.get_feature_names()\n",
    "    return tf_text, tf_feature_names"
   ]
  },
  {
   "cell_type": "code",
   "execution_count": 7,
   "metadata": {
    "collapsed": false
   },
   "outputs": [
    {
     "name": "stdout",
     "output_type": "stream",
     "text": [
      "(100, 2830)\n",
      "(719, 9991)\n"
     ]
    }
   ],
   "source": [
    "tf_prospects_matrix, tf_prospects_feature_names = get_tf_matrix(prospects)\n",
    "print(tf_prospects_matrix.shape)\n",
    "\n",
    "tf_curr_players_matrix, tf_curr_players_feature_names = get_tf_matrix(curr_players)\n",
    "print(tf_curr_players_matrix.shape)"
   ]
  },
  {
   "cell_type": "code",
   "execution_count": null,
   "metadata": {
    "collapsed": true
   },
   "outputs": [],
   "source": []
  },
  {
   "cell_type": "code",
   "execution_count": null,
   "metadata": {
    "collapsed": true
   },
   "outputs": [],
   "source": []
  },
  {
   "cell_type": "code",
   "execution_count": 8,
   "metadata": {
    "collapsed": true
   },
   "outputs": [],
   "source": [
    "def display_topics(model, feature_names, no_top_words):\n",
    "    for topic_idx, topic in enumerate(model.components_):\n",
    "        print \"Topic %d:\" % (topic_idx)\n",
    "        print \" \".join([feature_names[i]\n",
    "                        for i in topic.argsort()[:-no_top_words - 1:-1]])\n",
    "    "
   ]
  },
  {
   "cell_type": "code",
   "execution_count": 9,
   "metadata": {
    "collapsed": true
   },
   "outputs": [],
   "source": [
    "def nmf_topic_model(tfidf_matrix, tfidf_feature_names, num_topics=10):\n",
    "    nmf_model = NMF(n_components=num_topics, random_state=1,alpha=.1, l1_ratio=.5).fit(tfidf_matrix)\n",
    "    display_topics(nmf_model, tfidf_feature_names, no_top_words=15)"
   ]
  },
  {
   "cell_type": "code",
   "execution_count": 10,
   "metadata": {
    "collapsed": true
   },
   "outputs": [],
   "source": [
    "def lda_topic_model(tf_matrix, tf_feature_names, num_topics=10):\n",
    "    lda_model = LatentDirichletAllocation(n_topics=num_topics).fit(tf_matrix)\n",
    "    display_topics(lda_model, tf_feature_names, no_top_words=15)"
   ]
  },
  {
   "cell_type": "code",
   "execution_count": 11,
   "metadata": {
    "collapsed": false
   },
   "outputs": [
    {
     "name": "stdout",
     "output_type": "stream",
     "text": [
      "Topic 0:\n",
      "ball season game level ability does rim shot year size good high draft point forward\n",
      "Topic 1:\n",
      "draft prospects video schmitz 12 conference big express pac scouting previews east report section dx\n",
      "Topic 2:\n",
      "interview summit hoop nike practice drills day recap usa international measurements select tai wynyard team\n",
      "Topic 3:\n",
      "vs breakdown analysis video matchup strengths weaknesses european cal french kansas kentucky evolution u18 louisville\n",
      "Topic 4:\n",
      "zone eurocamp facet faces faced face eyes eye eyblweaknesses eybl extremely extreme extraordinary extraordinarily extra\n",
      "Topic 5:\n",
      "guard point lead ball self zone extreme face eyes eye eyblweaknesses eybl extremely extraordinarily extraordinary\n",
      "Topic 6:\n",
      "thomson draft arizona video colorado express archive matchup closer takes check look digital format twitter\n",
      "Topic 7:\n",
      "kansas 12 given season catch nations 63 valuable ball professional extended facet faces faced face\n",
      "Topic 8:\n",
      "redshirt ranked applebome producing revelation eyes sitting rhode tested undefeated revolves keeps outrageous villanova highly\n",
      "Topic 9:\n",
      "carolina south saturday north frontcourt concerns gonzaga tar heels stakes memorable react men productivity string\n",
      "Topic 10:\n",
      "1995 forward born better power max vert 3rd emotions shocking believe mention appearances spanish acb\n",
      "Topic 11:\n",
      "zone eurocamp facet faces faced face eyes eye eyblweaknesses eybl extremely extreme extraordinary extraordinarily extra\n",
      "Topic 12:\n",
      "workout interview video french angelo zone extremely faced face eyes eye eyblweaknesses eybl extraordinary extreme\n",
      "Topic 13:\n",
      "select terrific number day french york team impressed new leaping points today adidas roster scoring\n",
      "Topic 14:\n",
      "burst approach bit wings terms island given passive projectable flat offensive physical translates eurocamp 19\n",
      "Topic 15:\n",
      "wisconsin badgers role possessions jump country using extend extreme eyes explosiveness eye eyblweaknesses express eybl\n",
      "Topic 16:\n",
      "impossible withdraw competition ll seen stay overwhelmed greek guarantee hamper relegated decide rumors 15th unless\n",
      "Topic 17:\n",
      "zone eurocamp facet faces faced face eyes eye eyblweaknesses eybl extremely extreme extraordinary extraordinarily extra\n",
      "Topic 18:\n",
      "rhode island tip cincinnati host 25 71 established outing monitor evaluators progresses 44 budding regular\n",
      "Topic 19:\n",
      "senior analyzing exactly eventually prospects school lesser hometown underclassmen buzz beating shedding truly transferred dive\n"
     ]
    }
   ],
   "source": [
    "nmf_topic_model(tfidf_prospects_matrix, tfidf_prospects_feature_names, num_topics=20)"
   ]
  },
  {
   "cell_type": "code",
   "execution_count": 12,
   "metadata": {
    "collapsed": false
   },
   "outputs": [
    {
     "name": "stderr",
     "output_type": "stream",
     "text": [
      "C:\\Users\\Eric\\Anaconda2\\envs\\cs4300\\lib\\site-packages\\sklearn\\decomposition\\online_lda.py:508: DeprecationWarning: The default value for 'learning_method' will be changed from 'online' to 'batch' in the release 0.20. This warning was introduced in 0.18.\n",
      "  DeprecationWarning)\n"
     ]
    },
    {
     "name": "stdout",
     "output_type": "stream",
     "text": [
      "Topic 0:\n",
      "post minutes 40 season game level big does rim shot perimeter ball ability point size\n",
      "Topic 1:\n",
      "draft season ball game size year able forward shooting play length high make just shot\n",
      "Topic 2:\n",
      "interview ball guard season draft year team video point size game floor kansas shooting long\n",
      "Topic 3:\n",
      "point carolina season south make ball line strength just attempts frame forward making game minutes\n",
      "Topic 4:\n",
      "interview guard team ball draft point nike wingspan summit hoop shooting frame game usa level\n",
      "Topic 5:\n",
      "draft ball year season video level team big game play wingspan point body floor does\n",
      "Topic 6:\n",
      "level draft high ball player ability times game shot forward frame shots point perimeter 40\n",
      "Topic 7:\n",
      "size draft high ball forward game does 10 level big perimeter time frame times make\n",
      "Topic 8:\n",
      "point season game guard year ability video shooting draft ball level long vs points team\n",
      "Topic 9:\n",
      "level shot season draft video game good big team ball shots long year scouts court\n",
      "Topic 10:\n",
      "offensive year season forward ball big times does players game post rim shot minutes level\n",
      "Topic 11:\n",
      "rim floor length offensive center 10 frame touch does long hands times game post draft\n",
      "Topic 12:\n",
      "ball draft guard game play point size shot excellent video level ability shooter schmitz year\n",
      "Topic 13:\n",
      "video vs breakdown big draft game strengths year weaknesses prospects man analysis forward strong basket\n",
      "Topic 14:\n",
      "ball game long size forward point good great draft shooter floor strong time team level\n",
      "Topic 15:\n",
      "season draft year ball shots prospects sophomore team game big ability rim shooting role minutes\n",
      "Topic 16:\n",
      "draft season ball point ability prospects level rim guard minutes game make times team 40\n",
      "Topic 17:\n",
      "ball good shooting court level player shooter season frame ability game shot does interview half\n",
      "Topic 18:\n",
      "draft prospects video game big ball year long shooting express season good prospect weaknesses follow\n",
      "Topic 19:\n",
      "draft prospects big video basketball level time schmitz express forward usa long 12 high play\n"
     ]
    }
   ],
   "source": [
    "lda_topic_model(tf_prospects_matrix, tf_prospects_feature_names, num_topics=20)"
   ]
  },
  {
   "cell_type": "code",
   "execution_count": null,
   "metadata": {
    "collapsed": true
   },
   "outputs": [],
   "source": []
  },
  {
   "cell_type": "code",
   "execution_count": null,
   "metadata": {
    "collapsed": true
   },
   "outputs": [],
   "source": []
  },
  {
   "cell_type": "code",
   "execution_count": null,
   "metadata": {
    "collapsed": true
   },
   "outputs": [],
   "source": []
  },
  {
   "cell_type": "code",
   "execution_count": null,
   "metadata": {
    "collapsed": true
   },
   "outputs": [],
   "source": []
  },
  {
   "cell_type": "code",
   "execution_count": null,
   "metadata": {
    "collapsed": true
   },
   "outputs": [],
   "source": []
  },
  {
   "cell_type": "code",
   "execution_count": null,
   "metadata": {
    "collapsed": true
   },
   "outputs": [],
   "source": []
  },
  {
   "cell_type": "code",
   "execution_count": 13,
   "metadata": {
    "collapsed": false
   },
   "outputs": [
    {
     "name": "stdout",
     "output_type": "stream",
     "text": [
      "Topic 0:\n",
      "season shot ability post level basket time does floor shots team just man offensive draft\n",
      "Topic 1:\n",
      "interview workout video angelo draft pre alan videos upshaw interviews connell christmasn chasson footage outtakes\n",
      "Topic 2:\n",
      "guard point guards shooting team court assists dribble offense vision teammates lane half making roll\n",
      "Topic 3:\n",
      "adjusted pace 40 minutes level season does jump 100 post defensive attempts junior offensive synergy\n",
      "Topic 4:\n",
      "video scouting report breakdown schmitz group syracuse reports givony lavine dermott season possessions artem klimenko\n",
      "Topic 5:\n",
      "vs analysis video videos breakdown matchup arizona schmitz kentucky compilation angelo section barcelona produced situational\n",
      "Topic 6:\n",
      "european euroleague acb spanish team europe adriatic league partizan serbian madrid international turkish age championships\n",
      "Topic 7:\n",
      "think going just like know givony guys ve really lot people reporter don got kind\n",
      "Topic 8:\n",
      "application embed initialize mc complex dermott 2014 reports videos group draft vine possessions clicking view\n",
      "Topic 9:\n",
      "summit interview nike hoop practice breakdown 2015 recap international usa dx 2016 select draft world\n"
     ]
    }
   ],
   "source": [
    "nmf_topic_model(tfidf_curr_players_matrix, tfidf_curr_players_feature_names)"
   ]
  },
  {
   "cell_type": "code",
   "execution_count": 14,
   "metadata": {
    "collapsed": false
   },
   "outputs": [
    {
     "name": "stderr",
     "output_type": "stream",
     "text": [
      "C:\\Users\\Eric\\Anaconda2\\envs\\cs4300\\lib\\site-packages\\sklearn\\decomposition\\online_lda.py:508: DeprecationWarning: The default value for 'learning_method' will be changed from 'online' to 'batch' in the release 0.20. This warning was introduced in 0.18.\n",
      "  DeprecationWarning)\n"
     ]
    },
    {
     "name": "stdout",
     "output_type": "stream",
     "text": [
      "Topic 0:\n",
      "season shot point ability level video team post draft does guard just time shooting basket\n",
      "Topic 1:\n",
      "video scouting report breakdown season ability point team shot vs just level guard does draft\n",
      "Topic 2:\n",
      "season shot point kn team guard level state floor video did basketball ability draft best\n",
      "Topic 3:\n",
      "today team did season villanova didn point shot way lowry ucla shooting basket right wasn\n",
      "Topic 4:\n",
      "point just shot team guard time season like video interview half workout got really givony\n",
      "Topic 5:\n",
      "video interview vs analysis workout shooting point ability team shot draft level just does end\n",
      "Topic 6:\n",
      "season bryant post shooting ability point guard shot does level shots play big interview defense\n",
      "Topic 7:\n",
      "point guard ability season just shot greek size scoring play team does level end villanova\n",
      "Topic 8:\n",
      "memphis wall nice colorado raised ended leads post plausible telekom instead matures expending vitals reduced\n",
      "Topic 9:\n",
      "workout interview dribble bowling complacent brannen tempo post caw upcoming little senior clean discerning reebok\n"
     ]
    }
   ],
   "source": [
    "lda_topic_model(tfidf_curr_players_matrix, tfidf_curr_players_feature_names)"
   ]
  },
  {
   "cell_type": "code",
   "execution_count": null,
   "metadata": {
    "collapsed": true
   },
   "outputs": [],
   "source": []
  },
  {
   "cell_type": "code",
   "execution_count": null,
   "metadata": {
    "collapsed": true
   },
   "outputs": [],
   "source": []
  },
  {
   "cell_type": "code",
   "execution_count": null,
   "metadata": {
    "collapsed": true
   },
   "outputs": [],
   "source": []
  }
 ],
 "metadata": {
  "anaconda-cloud": {},
  "kernelspec": {
   "display_name": "Python [conda env:cs4300]",
   "language": "python",
   "name": "conda-env-cs4300-py"
  },
  "language_info": {
   "codemirror_mode": {
    "name": "ipython",
    "version": 2
   },
   "file_extension": ".py",
   "mimetype": "text/x-python",
   "name": "python",
   "nbconvert_exporter": "python",
   "pygments_lexer": "ipython2",
   "version": "2.7.13"
  }
 },
 "nbformat": 4,
 "nbformat_minor": 1
}
