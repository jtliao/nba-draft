{
 "cells": [
  {
   "cell_type": "code",
   "execution_count": 85,
   "metadata": {
    "collapsed": false,
    "scrolled": true
   },
   "outputs": [],
   "source": [
    "from sklearn.feature_extraction.text import TfidfVectorizer, CountVectorizer\n",
    "from sklearn.decomposition import LatentDirichletAllocation, NMF\n",
    "import nltk\n",
    "import json\n",
    "import re \n",
    "import string\n",
    "\n",
    "from nltk.tag.stanford import StanfordNERTagger\n",
    "ner_tagger = StanfordNERTagger(\"C:/Users/Eric/stanford-ner-2014-06-16/classifiers/english.all.3class.distsim.crf.ser.gz\",\n",
    "                               \"C:/Users/Eric/stanford-ner-2014-06-16/stanford-ner-3.4.jar\",\n",
    "                                encoding=\"utf\")\n",
    "\n"
   ]
  },
  {
   "cell_type": "code",
   "execution_count": 38,
   "metadata": {
    "collapsed": true
   },
   "outputs": [],
   "source": [
    "text = 'While in France, Christine Lagarde discussed short-term stimulus efforts in a recent interview with the Wall Street Journal.'\n",
    "\n",
    "tokenized_text = nltk.word_tokenize(text)\n",
    "classified_text = ner_tagger.tag(tokenized_text)\n"
   ]
  },
  {
   "cell_type": "code",
   "execution_count": 39,
   "metadata": {
    "collapsed": false
   },
   "outputs": [
    {
     "data": {
      "text/plain": [
       "[(u'While', u'O'),\n",
       " (u'in', u'O'),\n",
       " (u'France', u'LOCATION'),\n",
       " (u',', u'O'),\n",
       " (u'Christine', u'PERSON'),\n",
       " (u'Lagarde', u'PERSON'),\n",
       " (u'discussed', u'O'),\n",
       " (u'short-term', u'O'),\n",
       " (u'stimulus', u'O'),\n",
       " (u'efforts', u'O'),\n",
       " (u'in', u'O'),\n",
       " (u'a', u'O'),\n",
       " (u'recent', u'O'),\n",
       " (u'interview', u'O'),\n",
       " (u'with', u'O'),\n",
       " (u'the', u'O'),\n",
       " (u'Wall', u'O'),\n",
       " (u'Street', u'O'),\n",
       " (u'Journal', u'O'),\n",
       " (u'.', u'O')]"
      ]
     },
     "execution_count": 39,
     "metadata": {},
     "output_type": "execute_result"
    }
   ],
   "source": [
    "classified_text"
   ]
  },
  {
   "cell_type": "code",
   "execution_count": null,
   "metadata": {
    "collapsed": false
   },
   "outputs": [],
   "source": []
  },
  {
   "cell_type": "code",
   "execution_count": null,
   "metadata": {
    "collapsed": true
   },
   "outputs": [],
   "source": []
  },
  {
   "cell_type": "code",
   "execution_count": 63,
   "metadata": {
    "collapsed": false
   },
   "outputs": [
    {
     "name": "stdout",
     "output_type": "stream",
     "text": [
      "�\n"
     ]
    }
   ],
   "source": [
    "print((\"\\xc2\"))"
   ]
  },
  {
   "cell_type": "code",
   "execution_count": null,
   "metadata": {
    "collapsed": false
   },
   "outputs": [],
   "source": [
    "text = \"\\nPlease enable Javascript to watch this video (Video may not load with Internet Explorer. Use Chrome or Firefox)\\n \\n\\t\\t\\t\\t\\t\\t\\t\\tGeorgia native Kobi Simmons is the highest ranked high school player on the US Select Team, and while he flashes tremendous potential, he has not been particularly dominant here in Treviso.  Making poor decisions with the ball trying to be too flashy, settling for floaters while avoiding contact, and not making the simple play at times this week, Simmons was better on day three, scoring 13 points while dishing out 4 assists.  His lack of strength has limited him a bit against the more mature, organized defenses he's faced.  His quickness is an obvious asset, especially when he asserts himself defending on the ball, as is his ability to play above the rim and knock down shots off the bounce, but it appears that he's still learning how to consistently exploit those tools against quality competition.  This isn't the easiest setting for a player like Simmons to excel in, as his best days are clearly ahead of him, so it was nice to see him find a rhythm in his last game in Italy.\\n\\t\\t\\t\\t\\t\\t\\t \\nJonathan GivonyRecruiting Rankings: Scout #7, 24/7 #25, Rivals #15, ESPN #29Strengths:-Great size for his position-Smooth, fluid athlete-Quick in transition -Very good first step driving left -Puts pressure on the defense with his probing, aggressive style of ball-handling -Can make an outside shot-Shot 81% from the free throw line at the adidas Gauntlet (87 attempts)-Quick hands for steals -Anticipates in passing lanes -Very good potential defensively thanks to his sizeWeaknesses:-Still learning the nuances of how to run a team efficiently-Somewhat wild in his approach to the game-More of a scorer than a facilitator at this stage (-1.7 PPR in Gauntlet)-Shows average vision in the half-court-Lack of strength makes it difficult to finish around the rim effectively in half-court settings-Not a consistent 3-point shooter-Very low release point on his jumper-Has an average wingspan relative to his heightOutlook: Talented guard who's reputation revolves more around his potential as a big point than it does around his actual production. Still learning how to maximize his tools on both ends of the floor and play efficient basketball. Only 17 so still has plenty of time.\\n\\t\\t\\t\\t\\t\\t\\t \\nComplexEmbed.Application.initialize({cId: \\\"xxZ29pbzqoqlrnVxQb4kZvfiRx-B7tTx\\\",adSetCode: \\\"d4063ffb5eea4665ac55cd9182bbb23e\\\",site: \\\"draftexpress\\\",kw: \\\"\\\"});Please enable Javascript to watch this video\\n\"\n",
    "sents = nltk.sent_tokenize(text)\n",
    "for sent in sents:\n",
    "    tokens = nltk.word_tokenize(sent)\n",
    "    classified = ner_tagger.tag(tokens)\n",
    "    print(classified)"
   ]
  },
  {
   "cell_type": "code",
   "execution_count": null,
   "metadata": {
    "collapsed": true
   },
   "outputs": [],
   "source": []
  },
  {
   "cell_type": "code",
   "execution_count": null,
   "metadata": {
    "collapsed": true
   },
   "outputs": [],
   "source": []
  },
  {
   "cell_type": "code",
   "execution_count": 156,
   "metadata": {
    "collapsed": false
   },
   "outputs": [],
   "source": [
    "printable = set(string.printable)\n",
    "def clean_player_jsons(player_dict, output_filename):\n",
    "    new_player_dict = {}\n",
    "    for k, v in player_dict.items():\n",
    "#         v = unicode(v, errors=\"ignore\")\n",
    "        sents = nltk.sent_tokenize(v)\n",
    "        new_text = []\n",
    "        for sent in sents:\n",
    "            if \"Javascript\" not in sent and \"Chrome\" not in sent and \"Firefox\" not in sent:\n",
    "#             if \"Weaknesses-Only\" in sent and \"Javascript\" not in sent and \"Chrome\" not in sent and \"Firefox\" not in sent:\n",
    "#                 sent = sent.encode('utf-8').strip()\n",
    "#                 print(sent)\n",
    "    \n",
    "                filtered_sent = filter(lambda x: x in printable, sent)\n",
    "#                 print(filtered_sent)\n",
    "        \n",
    "                tokens = nltk.word_tokenize(filtered_sent)\n",
    "#                 tokens = sent.split(r\"[\\s|-]\")\n",
    "#                 tokens = [token for token in tokens if \"\\\\\" not in token]\n",
    "                print(tokens)\n",
    "                classified_text = ner_tagger.tag(tokens)\n",
    "                new_text.append(\" \".join([word for (word, classification) in classified_text if classification != u\"PERSON\"]))\n",
    "        new_player_dict[k] = \" \".join(new_text)\n",
    "    with open(output_filename, \"w\") as f:\n",
    "        json.dump(new_player_dict, f)\n",
    "    "
   ]
  },
  {
   "cell_type": "code",
   "execution_count": null,
   "metadata": {
    "collapsed": true
   },
   "outputs": [],
   "source": []
  },
  {
   "cell_type": "code",
   "execution_count": null,
   "metadata": {
    "collapsed": true
   },
   "outputs": [],
   "source": []
  },
  {
   "cell_type": "code",
   "execution_count": 171,
   "metadata": {
    "collapsed": false
   },
   "outputs": [],
   "source": [
    "with open(\"prospects_to_docs_no_names.json\", \"r\") as f:\n",
    "    prospects = json.load(f)"
   ]
  },
  {
   "cell_type": "code",
   "execution_count": 158,
   "metadata": {
    "collapsed": true
   },
   "outputs": [],
   "source": [
    "with open(\"curr_player_to_docs_unicode.json\", \"r\") as f:\n",
    "    curr_players = json.load(f)"
   ]
  },
  {
   "cell_type": "code",
   "execution_count": null,
   "metadata": {
    "collapsed": true
   },
   "outputs": [],
   "source": []
  },
  {
   "cell_type": "code",
   "execution_count": null,
   "metadata": {
    "collapsed": true
   },
   "outputs": [],
   "source": []
  },
  {
   "cell_type": "code",
   "execution_count": 143,
   "metadata": {
    "collapsed": false
   },
   "outputs": [
    {
     "name": "stdout",
     "output_type": "stream",
     "text": [
      "�\n",
      "�\n",
      "['Shows', 'the', 'potential', 'to', 'guard', 'multiple', 'positionsWeaknesses-Only', 'measured', \"6'6\", 'in', 'shoes', 'by', 'USA', 'Basketball', '.']\n"
     ]
    }
   ],
   "source": [
    "print(\"\\xc2\")\n",
    "print(\"\\xbc\")\n",
    "# print('\\xc2\\xbc'.encode(\"utf-8\"))\n",
    "text = \"Shows the potential to guard multiple positionsWeaknesses-Only measured 6'6 ¼ in shoes by USA Basketball.\"\n",
    "# print(u\"Shows the potential to guard multiple positionsWeaknesses-Only measured 6'6 ¼ in shoes by USA Basketball.\".split(r\" \"))\n",
    "printable = set(string.printable)\n",
    "filtered_text = filter(lambda x: x in printable, text)\n",
    "print(nltk.word_tokenize(filtered_text))"
   ]
  },
  {
   "cell_type": "code",
   "execution_count": 105,
   "metadata": {
    "collapsed": false
   },
   "outputs": [
    {
     "data": {
      "text/plain": [
       "[u'Shows',\n",
       " u'the',\n",
       " u'potential',\n",
       " u'to',\n",
       " u'guard',\n",
       " u'multiple',\n",
       " u'positionsWeaknesses-Only',\n",
       " u'measured',\n",
       " u\"6'6\",\n",
       " u'\\xbc',\n",
       " u'in',\n",
       " u'shoes',\n",
       " u'by',\n",
       " u'USA',\n",
       " u'Basketball',\n",
       " u'.']"
      ]
     },
     "execution_count": 105,
     "metadata": {},
     "output_type": "execute_result"
    }
   ],
   "source": [
    "tokens = [u'Shows', u'the', u'potential', u'to', u'guard', u'multiple', u'positionsWeaknesses-Only', u'measured', u\"6'6\", u'\\xbc', u'in', u'shoes', u'by', u'USA', u'Basketball', u'.']\n",
    "regex = re.compile(r\"[^[[:ascii:]]]\")\n",
    "filtered = [token for token in tokens if not regex.search(token)]\n",
    "filtered"
   ]
  },
  {
   "cell_type": "code",
   "execution_count": null,
   "metadata": {
    "collapsed": true
   },
   "outputs": [],
   "source": []
  },
  {
   "cell_type": "code",
   "execution_count": null,
   "metadata": {
    "collapsed": true
   },
   "outputs": [],
   "source": []
  },
  {
   "cell_type": "code",
   "execution_count": null,
   "metadata": {
    "collapsed": true
   },
   "outputs": [],
   "source": []
  },
  {
   "cell_type": "code",
   "execution_count": 172,
   "metadata": {
    "collapsed": true
   },
   "outputs": [],
   "source": [
    "def get_tfidf_matrix(player_dict):\n",
    "    text_list = []\n",
    "    playername_list = []\n",
    "    for player, text in player_dict.items():\n",
    "        text_list.append(text)\n",
    "        playername_list.append(player)\n",
    "\n",
    "    tfidf_vectorizer = TfidfVectorizer(input=text_list, lowercase=True, stop_words=\"english\", max_df=0.9, min_df=2)\n",
    "    tfidf_text = tfidf_vectorizer.fit_transform(text_list)\n",
    "    tfidf_feature_names = tfidf_vectorizer.get_feature_names()\n",
    "    return tfidf_text, tfidf_feature_names"
   ]
  },
  {
   "cell_type": "code",
   "execution_count": 173,
   "metadata": {
    "collapsed": false
   },
   "outputs": [
    {
     "name": "stdout",
     "output_type": "stream",
     "text": [
      "(100, 3051)\n",
      "(719, 12168)\n"
     ]
    }
   ],
   "source": [
    "tfidf_prospects_matrix, tfidf_prospects_feature_names = get_tfidf_matrix(prospects)\n",
    "print(tfidf_prospects_matrix.shape)\n",
    "\n",
    "tfidf_curr_players_matrix, tfidf_curr_players_feature_names = get_tfidf_matrix(curr_players)\n",
    "print(tfidf_curr_players_matrix.shape)\n"
   ]
  },
  {
   "cell_type": "code",
   "execution_count": null,
   "metadata": {
    "collapsed": true
   },
   "outputs": [],
   "source": []
  },
  {
   "cell_type": "code",
   "execution_count": null,
   "metadata": {
    "collapsed": false
   },
   "outputs": [],
   "source": []
  },
  {
   "cell_type": "code",
   "execution_count": 174,
   "metadata": {
    "collapsed": true
   },
   "outputs": [],
   "source": [
    "def get_tf_matrix(player_dict):\n",
    "    text_list = []\n",
    "    playername_list = []\n",
    "    for player, text in player_dict.items():\n",
    "        text_list.append(text)\n",
    "        playername_list.append(player)\n",
    "\n",
    "    tf_vectorizer = CountVectorizer(input=text_list, lowercase=True, stop_words=\"english\", max_df=0.9, min_df=2)\n",
    "    tf_text = tf_vectorizer.fit_transform(text_list)\n",
    "    tf_feature_names = tf_vectorizer.get_feature_names()\n",
    "    return tf_text, tf_feature_names"
   ]
  },
  {
   "cell_type": "code",
   "execution_count": 175,
   "metadata": {
    "collapsed": false
   },
   "outputs": [
    {
     "name": "stdout",
     "output_type": "stream",
     "text": [
      "(100, 3051)\n",
      "(719, 12168)\n"
     ]
    }
   ],
   "source": [
    "tf_prospects_matrix, tf_prospects_feature_names = get_tf_matrix(prospects)\n",
    "print(tf_prospects_matrix.shape)\n",
    "\n",
    "tf_curr_players_matrix, tf_curr_players_feature_names = get_tf_matrix(curr_players)\n",
    "print(tf_curr_players_matrix.shape)"
   ]
  },
  {
   "cell_type": "code",
   "execution_count": null,
   "metadata": {
    "collapsed": true
   },
   "outputs": [],
   "source": []
  },
  {
   "cell_type": "code",
   "execution_count": null,
   "metadata": {
    "collapsed": true
   },
   "outputs": [],
   "source": []
  },
  {
   "cell_type": "code",
   "execution_count": 176,
   "metadata": {
    "collapsed": true
   },
   "outputs": [],
   "source": [
    "def display_topics(model, feature_names, no_top_words):\n",
    "    for topic_idx, topic in enumerate(model.components_):\n",
    "        print \"Topic %d:\" % (topic_idx)\n",
    "        print \" \".join([feature_names[i]\n",
    "                        for i in topic.argsort()[:-no_top_words - 1:-1]])\n",
    "    "
   ]
  },
  {
   "cell_type": "code",
   "execution_count": 177,
   "metadata": {
    "collapsed": true
   },
   "outputs": [],
   "source": [
    "def nmf_topic_model(tfidf_matrix, tfidf_feature_names, num_topics=30):\n",
    "    nmf_model = NMF(n_components=num_topics, random_state=1,alpha=.1, l1_ratio=.5).fit(tfidf_matrix)\n",
    "    display_topics(nmf_model, tfidf_feature_names, no_top_words=15)"
   ]
  },
  {
   "cell_type": "code",
   "execution_count": 178,
   "metadata": {
    "collapsed": true
   },
   "outputs": [],
   "source": [
    "def lda_topic_model(tf_matrix, tf_feature_names, num_topics=30):\n",
    "    lda_model = LatentDirichletAllocation(n_topics=num_topics).fit(tf_matrix)\n",
    "    display_topics(lda_model, tf_feature_names, no_top_words=15)"
   ]
  },
  {
   "cell_type": "code",
   "execution_count": 181,
   "metadata": {
    "collapsed": false
   },
   "outputs": [
    {
     "name": "stdout",
     "output_type": "stream",
     "text": [
      "Topic 0:\n",
      "ball draft guard shot video ability play size excellent point floor frame make length javascript\n",
      "Topic 1:\n",
      "rim floor length center offensive touch frame 10 long hands does video post times impressive\n",
      "Topic 2:\n",
      "video vs breakdown big size u18s man shot weaknesses strengths level times body good analysis\n",
      "Topic 3:\n",
      "ball player video court wing ability draft shot shooting half does javascript frame enable watch\n",
      "Topic 4:\n",
      "interview team nike summit hoop point guard shooting ball draft practice drills day wingspan measurements\n",
      "Topic 5:\n",
      "season forward 40 does ball need play minutes ability small freshman player big rim position\n",
      "Topic 6:\n",
      "level draft high video shots times point skill 40 perimeter forward size time shot frame\n",
      "Topic 7:\n",
      "video vs draft breakdown big prospects year old weaknesses strengths scouting center man analysis basket\n",
      "Topic 8:\n",
      "video point guard vs breakdown tournament french long strengths year weaknesses court draft analysis ball\n",
      "Topic 9:\n",
      "point guard quickness ball does good rim video great make court quick aaron long draft\n",
      "Topic 10:\n",
      "ball ability times guard draft point video court state shot season dribble watch floor rim\n",
      "Topic 11:\n",
      "forward size draft 10 video high ball big prospects perimeter times usa 2016 frame body\n",
      "Topic 12:\n",
      "draft season ball video make prospects year size does points ability dribble shooting career scoring\n",
      "Topic 13:\n",
      "floor 40 forward power does basket time career ball great impressive gets big shots long\n",
      "Topic 14:\n",
      "shooting level ball ability season team make nike summit hoop interview freshman good instincts college\n",
      "Topic 15:\n",
      "good ball year team line court basket shooter career shots strong season frame tournament video\n",
      "Topic 16:\n",
      "ball level high does shot role shooter video half shooting court line able transition far\n",
      "Topic 17:\n",
      "interview level ball team wingspan season video guard draft hands shooting guards nike strong usa\n",
      "Topic 18:\n",
      "forward shot year season ball times offensive 40 college average interview team shooting strong level\n",
      "Topic 19:\n",
      "season draft video level shot make minutes offensive shots jump shooting prospects rim 40 does\n",
      "Topic 20:\n",
      "point season ball line carolina attempts south make just strength great making frame floor does\n",
      "Topic 21:\n",
      "ball playing shooter strong forward european ability good team time level season play player size\n",
      "Topic 22:\n",
      "draft prospects year role wisconsin big season shots shooting video minutes ability sophomore just jump\n",
      "Topic 23:\n",
      "video vs analysis strengths season breakdown draft cal time watch enable javascript weaknesses need nike\n",
      "Topic 24:\n",
      "ball potential wing good basket play shots long court struggles shooter times strengths weaknesses lithuanian\n",
      "Topic 25:\n",
      "guard season ball point year kansas size seasons college dribble career senior extremely basketball play\n",
      "Topic 26:\n",
      "ball season team ability does point illinois basketball college times strong floor year perimeter court\n",
      "Topic 27:\n",
      "big post perimeter point struggles shooting basket 40 shot shots floor size potential minutes touch\n",
      "Topic 28:\n",
      "players big does oregon season minutes basket post floor year offensive freshman 40 sophomore defensive\n",
      "Topic 29:\n",
      "video draft prospects scouting watch javascript enable 12 express interview schmitz arizona prospect points shooting\n"
     ]
    }
   ],
   "source": [
    "nmf_topic_model(tf_prospects_matrix, tfidf_prospects_feature_names)"
   ]
  },
  {
   "cell_type": "code",
   "execution_count": 182,
   "metadata": {
    "collapsed": false
   },
   "outputs": [
    {
     "name": "stderr",
     "output_type": "stream",
     "text": [
      "C:\\Users\\Eric\\Anaconda2\\envs\\cs4300\\lib\\site-packages\\sklearn\\decomposition\\online_lda.py:508: DeprecationWarning: The default value for 'learning_method' will be changed from 'online' to 'batch' in the release 0.20. This warning was introduced in 0.18.\n",
      "  DeprecationWarning)\n"
     ]
    },
    {
     "name": "stdout",
     "output_type": "stream",
     "text": [
      "Topic 0:\n",
      "level perimeter year season syracuse end minutes gets ability shooter play shot threat just player\n",
      "Topic 1:\n",
      "video vs breakdown draft big year strengths prospects weaknesses analysis old basket center man scouting\n",
      "Topic 2:\n",
      "ball level video season draft shot does point high times time team great size big\n",
      "Topic 3:\n",
      "ball draft guard video shot ability play size point floor excellent frame make javascript watch\n",
      "Topic 4:\n",
      "guard ball great does scoring potential frame dribble point shot court wingspan nice shows deep\n",
      "Topic 5:\n",
      "point ball ability freshman high strong season year guard great good make size team points\n",
      "Topic 6:\n",
      "season video year minutes time does level big just watch ground draft great rim floor\n",
      "Topic 7:\n",
      "ball player video ability shooting court shot draft floor wing does frame high season long\n",
      "Topic 8:\n",
      "season video draft big minutes does ball year 40 rim ability shooting point freshman prospects\n",
      "Topic 9:\n",
      "video ball draft guard point team interview level shooting does wingspan enable rim good season\n",
      "Topic 10:\n",
      "ball season forward ability strong level video good high shooting shooter shots size long player\n",
      "Topic 11:\n",
      "ball basket shots floor forward long career gets 40 time big impressive great size feet\n",
      "Topic 12:\n",
      "video point draft long guard vs year ball tournament strengths breakdown weaknesses javascript watch enable\n",
      "Topic 13:\n",
      "rim floor length center frame offensive touch 10 hands video does long post times impressive\n",
      "Topic 14:\n",
      "video ball draft level forward frame big point does year shots good enable play strong\n",
      "Topic 15:\n",
      "ball draft video season rim level minutes does interview scouting floor 40 ability high able\n",
      "Topic 16:\n",
      "video draft ball size ability shot frame does level prospects 40 season year shooting player\n",
      "Topic 17:\n",
      "ball level shooting season ability shot high shooter video make does good team role interview\n",
      "Topic 18:\n",
      "season ball does point forward shot floor 40 line ability make just big attempts play\n",
      "Topic 19:\n",
      "draft video level ball high prospects 40 size point forward make perimeter ability dribble season\n",
      "Topic 20:\n",
      "forward shot ball year season times offensive 40 college interview draft level strong shooting bit\n",
      "Topic 21:\n",
      "video vs breakdown big shot level size times weaknesses ball strengths man u18s strong good\n",
      "Topic 22:\n",
      "ball wingspan big team interview year defensive draft season nike summit hoop lack video shooting\n",
      "Topic 23:\n",
      "video draft prospects big interview scouting size forward 10 basketball watch ball prospect usa enable\n",
      "Topic 24:\n",
      "draft ball ability video season prospects times point rim year big court guard team state\n",
      "Topic 25:\n",
      "ball size shot player physical potential long solid rim length court season play good floor\n",
      "Topic 26:\n",
      "video draft year scouting ball prospects good big shooting point enable floor watch season ability\n",
      "Topic 27:\n",
      "season draft guard ball shot video level make year defensive point shots college does rim\n",
      "Topic 28:\n",
      "ball good team season year video level shooter minutes 40 great shots career does shot\n",
      "Topic 29:\n",
      "interview team point nike draft guard ball hoop summit shooting usa high practice does wingspan\n"
     ]
    }
   ],
   "source": [
    "lda_topic_model(tf_prospects_matrix, tf_prospects_feature_names)"
   ]
  },
  {
   "cell_type": "code",
   "execution_count": null,
   "metadata": {
    "collapsed": true
   },
   "outputs": [],
   "source": []
  }
 ],
 "metadata": {
  "anaconda-cloud": {},
  "kernelspec": {
   "display_name": "Python [conda env:cs4300]",
   "language": "python",
   "name": "conda-env-cs4300-py"
  },
  "language_info": {
   "codemirror_mode": {
    "name": "ipython",
    "version": 2
   },
   "file_extension": ".py",
   "mimetype": "text/x-python",
   "name": "python",
   "nbconvert_exporter": "python",
   "pygments_lexer": "ipython2",
   "version": "2.7.13"
  }
 },
 "nbformat": 4,
 "nbformat_minor": 1
}
