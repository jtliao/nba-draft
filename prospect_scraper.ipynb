{
 "cells": [
  {
   "cell_type": "code",
   "execution_count": null,
   "metadata": {
    "collapsed": true
   },
   "outputs": [],
   "source": [
    "from bs4 import BeautifulSoup\n",
    "import requests\n",
    "import re\n",
    "import json\n",
    "import numpy as np\n",
    "from nltk.corpus import stopwords\n",
    "import matplotlib.pyplot as plt"
   ]
  },
  {
   "cell_type": "code",
   "execution_count": null,
   "metadata": {
    "collapsed": false
   },
   "outputs": [],
   "source": [
    "prospect_to_docs = {}\n",
    "prospect_to_position = {}\n",
    "\n",
    "#page of the top 100 prospects\n",
    "profile_urls = set()\n",
    "url = \"http://www.draftexpress.com/rankings/Top-100-Prospects/#list\"\n",
    "    \n",
    "r = requests.get(url)\n",
    "data = r.text\n",
    "    \n",
    "soup = BeautifulSoup(data, \"html.parser\")\n",
    "    \n",
    "profile_urls = {tag[\"href\"] for tag in soup.find_all(name=\"a\", href=re.compile(r\"\\/profile\\/.+\")) \n",
    "                if \"/stats\" not in tag[\"href\"] and \"/videos\" not in tag[\"href\"]}\n",
    "\n",
    "for profile_url in profile_urls:\n",
    "    player_name = re.findall(r\"\\/profile\\/([^\\/]+)\", profile_url)[0]\n",
    "    player_name = \" \".join(re.split(r\"-\", player_name)[:-1])\n",
    "    print(player_name)\n",
    "\n",
    "    full_profile_url = \"http://www.draftexpress.com\" + str(profile_url)\n",
    "    profile_r = requests.get(full_profile_url)\n",
    "    profile_data = profile_r.text\n",
    "\n",
    "    profile_soup = BeautifulSoup(profile_data, \"html.parser\")\n",
    "    \n",
    "    m = re.search('Position:\\s(\\S+)', profile_soup.get_text())\n",
    "    prospect_to_position[player_name] = m.group(1)\n",
    "#     for div in profile_soup.find_all(class_=\"data small-12 medium-6 column\"):\n",
    "#         m = re.search('Position:\\s(\\S+)', div.get_text())\n",
    "#         if m:\n",
    "#             prospect_to_position[player_name] = m.group(1)\n",
    "#             break\n",
    "\n",
    "    text = \"\"\n",
    "    for a in profile_soup.find_all(class_=\"article-content\"):    \n",
    "        cleaned = re.sub(r'<.+>', '', a.get_text())\n",
    "        cleaned = re.sub(r'<div>.+<\\/div>', '', cleaned)\n",
    "        cleaned = re.sub(r\"\\([\\S\\s]+\\)\", \"\", cleaned)\n",
    "        cleaned = cleaned.replace(\"-\", \" \")\n",
    "        cleaned = cleaned.replace(\"#\", \"\")\n",
    "        cleaned = cleaned.replace(\"%\", \"\")\n",
    "        cleaned = cleaned.replace(\"Please enable Javascript to watch this video\", \"\")\n",
    "        text += cleaned\n",
    "        #if a.parent.name == \"div\" and \"item\" in p.parent[\"class\"]:\n",
    "        #    text.append(a.get_text())\n",
    "\n",
    "    prospect_to_docs[player_name] = text.encode(\"utf-8\")\n",
    "\n",
    "with open(\"prospect_to_docs.json\", \"w\") as f:\n",
    "    json.dump(prospect_to_docs, f)\n",
    "    \n",
    "with open(\"prospect_to_position.json\", \"w\") as f:\n",
    "    json.dump(prospect_to_position, f)"
   ]
  },
  {
   "cell_type": "code",
   "execution_count": null,
   "metadata": {
    "collapsed": false
   },
   "outputs": [],
   "source": []
  },
  {
   "cell_type": "code",
   "execution_count": null,
   "metadata": {
    "collapsed": false
   },
   "outputs": [],
   "source": [
    "sw = set(stopwords.words('english'))\n",
    "sw.add(\"he's\")\n",
    "\n",
    "prospect_words = {}\n",
    "prospect_lengths = []\n",
    "with open(\"prospect_to_docs.json\") as f:\n",
    "    for line in f:\n",
    "        json_line = json.loads(line)\n",
    "        all_texts = json_line.values()\n",
    "        for text in all_texts:\n",
    "            text = text.replace(\"Please enable Javascript to watch this video\", \"\")\n",
    "            tokens = text.split()\n",
    "            prospect_lengths.append(len(tokens))\n",
    "            for token in tokens:\n",
    "                token = token.lower()\n",
    "                if token not in sw:\n",
    "                    if token in prospect_words:\n",
    "                        prospect_words[token] += 1\n",
    "                    else:\n",
    "                        prospect_words[token] = 1\n",
    "print sorted(prospect_words.items(), key= lambda x:x[1], reverse=True)[:50]\n",
    "\n",
    "print np.mean(prospect_lengths)\n",
    "plt.hist(prospect_lengths, bins=20, rwidth=0.9)\n",
    "plt.title(\"Document Length Histogram for Prospect Articles\")\n",
    "plt.xlabel(\"Document Length (Number of Tokens)\")\n",
    "plt.ylabel(\"Number of Documents\")\n",
    "plt.show()"
   ]
  },
  {
   "cell_type": "code",
   "execution_count": null,
   "metadata": {
    "collapsed": false
   },
   "outputs": [],
   "source": [
    "plt.hist(prospect_words.values(), bins=30, rwidth=0.9, log=True)\n",
    "plt.title(\"Word Frequency Histogram for Prospect Articles\")\n",
    "plt.xlabel(\"Word Count\")\n",
    "plt.ylabel(\"Frequency\")\n",
    "plt.show()"
   ]
  },
  {
   "cell_type": "code",
   "execution_count": null,
   "metadata": {
    "collapsed": false
   },
   "outputs": [],
   "source": [
    "player_words = {}\n",
    "player_lengths = []\n",
    "with open(\"curr_player_to_docs.json\") as f:\n",
    "    for line in f:\n",
    "        json_line = json.loads(line)     \n",
    "        \n",
    "        all_texts = json_line.values()\n",
    "\n",
    "        for text in all_texts:\n",
    "            text = text.replace(\"Please enable Javascript to watch this video\", \"\")\n",
    "            tokens = text.split()\n",
    "            player_lengths.append(len(tokens))\n",
    "            for token in tokens:\n",
    "                token = token.lower()\n",
    "                if token not in sw:\n",
    "                    if token in player_words:\n",
    "                        player_words[token] += 1\n",
    "                    else:\n",
    "                        player_words[token] = 1\n",
    "print sorted(player_words.items(), key= lambda x:x[1], reverse=True)[:50]\n",
    "\n",
    "print np.mean(player_lengths)\n",
    "print len(player_lengths)\n",
    "plt.hist(player_lengths, bins=20, rwidth=0.9)\n",
    "plt.title(\"Document Length Histogram for Player Articles\")\n",
    "plt.xlabel(\"Document Length (Number of Tokens)\")\n",
    "plt.ylabel(\"Number of Documents\")\n",
    "plt.show()"
   ]
  },
  {
   "cell_type": "code",
   "execution_count": null,
   "metadata": {
    "collapsed": false
   },
   "outputs": [],
   "source": [
    "plt.hist(player_words.values(), bins=30, rwidth=0.9, log=True)\n",
    "plt.title(\"Word Frequency Histogram for Player Articles\")\n",
    "plt.xlabel(\"Word Count\")\n",
    "plt.ylabel(\"Frequency\")\n",
    "plt.show()"
   ]
  }
 ],
 "metadata": {
  "anaconda-cloud": {},
  "kernelspec": {
   "display_name": "Python [default]",
   "language": "python",
   "name": "python2"
  },
  "language_info": {
   "codemirror_mode": {
    "name": "ipython",
    "version": 2
   },
   "file_extension": ".py",
   "mimetype": "text/x-python",
   "name": "python",
   "nbconvert_exporter": "python",
   "pygments_lexer": "ipython2",
   "version": "2.7.12"
  }
 },
 "nbformat": 4,
 "nbformat_minor": 2
}
