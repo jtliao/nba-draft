{
 "cells": [
  {
   "cell_type": "code",
   "execution_count": 1,
   "metadata": {
    "collapsed": true
   },
   "outputs": [],
   "source": [
    "from bs4 import BeautifulSoup\n",
    "import requests\n",
    "import re\n",
    "import json\n",
    "import numpy as np\n",
    "from nltk.corpus import stopwords\n",
    "import matplotlib.pyplot as plt"
   ]
  },
  {
   "cell_type": "code",
   "execution_count": 2,
   "metadata": {
    "collapsed": false
   },
   "outputs": [
    {
     "name": "stdout",
     "output_type": "stream",
     "text": [
      "Jawun Evans\n",
      "Tacko Fall\n",
      "Malcolm Hill\n",
      "Johnathan Motley\n",
      "Viny Okouo\n",
      "Zach Collins\n",
      "Ivan Rabb\n",
      "John Collins\n",
      "P.J. Dozier\n",
      "Jayson Tatum\n",
      "Caleb Swanigan\n",
      "Bam Adebayo\n",
      "Markelle Fultz\n",
      "Drew Eubanks\n",
      "Frank Ntilikina\n",
      "Jonathan Jeanne\n",
      "Justin Patton\n",
      "Mathias Lessort\n",
      "Lauri Markkanen\n",
      "Devin Robinson\n",
      "Isaiah Hartenstein\n",
      "Kostja Mushidi\n",
      "Santiago Yusta\n",
      "Luke Kennard\n",
      "Antonius Cleveland\n",
      "Dedric Lawson\n",
      "Sindarius Thornwell\n",
      "Alpha Kaba\n",
      "Kyle Kuzma\n",
      "Frank Jackson\n",
      "Laurynas Birutis\n",
      "Melo Trimble\n",
      "Borisa Simanic\n",
      "Rodions Kurucs\n",
      "Mikal Bridges\n",
      "Rolands Smits\n",
      "Dwayne Bacon\n",
      "Rawle Alkins\n",
      "Grayson Allen\n",
      "Marques Bolden\n",
      "Luke Kornet\n",
      "Shake Milton\n",
      "Dennis Smith\n",
      "Nigel Williams Goss\n",
      "Malik Monk\n",
      "Arnoldas Kulboka\n",
      "Dillion Brooks\n",
      "Derrick White\n",
      "Tony Bradley\n",
      "Semi Ojeleye\n",
      "Cameron Oliver\n",
      "Aleksandar Vezenkov\n",
      "Tadas Sedekerskis\n",
      "Anzejs Pasecniks\n",
      "George De Paula\n",
      "Jordan Bell\n",
      "Chimezie Metu\n",
      "Josh Hart\n",
      "Jaron Blossomgame\n",
      "Frank Mason\n",
      "Devonte Graham\n",
      "Andrew White\n",
      "Nik Slavica\n",
      "Isaiah Briscoe\n",
      "D.J. Wilson\n",
      "Thomas Bryant\n",
      "Josh Jackson\n",
      "T.J. Leaf\n",
      "Omer Yurtseven\n",
      "Andrew Jones\n",
      "Felipe Dos Anjos\n",
      "Bruce Brown\n",
      "V.J. Beachem\n",
      "Vlatko Cancar\n",
      "Donovan Mitchell\n",
      "Jacob Evans\n",
      "OG Anunoby\n",
      "Kobi Simmons\n",
      "Tyler Lydon\n",
      "Alec Peters\n",
      "Wesley Iwundu\n",
      "Lonzo Ball\n",
      "Jarrett Allen\n",
      "Harry Giles\n",
      "Ike Anigbogu\n",
      "Jonathan Isaac\n",
      "Miles Bridges\n",
      "Sviatoslav Mykhailiuk\n",
      "Monte Morris\n",
      "Allonzo Trier\n",
      "Isaiah Hicks\n",
      "Ethan Happ\n",
      "Vince Edwards\n",
      "Nigel Hayes\n",
      "Joel Berry\n",
      "Justin Jackson\n",
      "De Aaron Fox\n",
      "Jonah Bolden\n",
      "Terrance Ferguson\n",
      "L.J. Peak\n"
     ]
    }
   ],
   "source": [
    "prospect_to_docs = {}\n",
    "prospect_to_position = {}\n",
    "\n",
    "#page of the top 100 prospects\n",
    "profile_urls = set()\n",
    "url = \"http://www.draftexpress.com/rankings/Top-100-Prospects/#list\"\n",
    "    \n",
    "r = requests.get(url)\n",
    "data = r.text\n",
    "    \n",
    "soup = BeautifulSoup(data, \"html.parser\")\n",
    "    \n",
    "profile_urls = {tag[\"href\"] for tag in soup.find_all(name=\"a\", href=re.compile(r\"\\/profile\\/.+\")) \n",
    "                if \"/stats\" not in tag[\"href\"] and \"/videos\" not in tag[\"href\"]}\n",
    "\n",
    "for profile_url in profile_urls:\n",
    "    player_name = re.findall(r\"\\/profile\\/([^\\/]+)\", profile_url)[0]\n",
    "    player_name = \" \".join(re.split(r\"-\", player_name)[:-1])\n",
    "    print(player_name)\n",
    "\n",
    "    full_profile_url = \"http://www.draftexpress.com\" + str(profile_url)\n",
    "    profile_r = requests.get(full_profile_url)\n",
    "    profile_data = profile_r.text\n",
    "\n",
    "    profile_soup = BeautifulSoup(profile_data, \"html.parser\")\n",
    "    \n",
    "    m = re.search('Position:\\s(\\S+)', profile_soup.get_text())\n",
    "    prospect_to_position[player_name] = m.group(1)\n",
    "#     for div in profile_soup.find_all(class_=\"data small-12 medium-6 column\"):\n",
    "#         m = re.search('Position:\\s(\\S+)', div.get_text())\n",
    "#         if m:\n",
    "#             prospect_to_position[player_name] = m.group(1)\n",
    "#             break\n",
    "\n",
    "    text = \"\"\n",
    "    for a in profile_soup.find_all(class_=\"article-content\"):    \n",
    "        cleaned = re.sub(r'<.+>', '', a.get_text())\n",
    "        cleaned = re.sub(r'<div>.+<\\/div>', '', cleaned)\n",
    "        cleaned = re.sub(r\"\\([\\S\\s]+\\)\", \"\", cleaned)\n",
    "        cleaned = cleaned.replace(\"-\", \" \")\n",
    "        cleaned = cleaned.replace(\"#\", \"\")\n",
    "        cleaned = cleaned.replace(\"%\", \"\")\n",
    "        cleaned = cleaned.replace(\"Please enable Javascript to watch this video\", \"\")\n",
    "        text += cleaned\n",
    "        #if a.parent.name == \"div\" and \"item\" in p.parent[\"class\"]:\n",
    "        #    text.append(a.get_text())\n",
    "\n",
    "    prospect_to_docs[player_name] = text.encode(\"utf-8\")\n",
    "\n",
    "with open(\"prospect_to_docs.json\", \"w\") as f:\n",
    "    json.dump(prospect_to_docs, f)\n",
    "    \n",
    "with open(\"prospect_to_position.json\", \"w\") as f:\n",
    "    json.dump(prospect_to_position, f)"
   ]
  },
  {
   "cell_type": "code",
   "execution_count": null,
   "metadata": {
    "collapsed": false
   },
   "outputs": [],
   "source": []
  },
  {
   "cell_type": "code",
   "execution_count": 3,
   "metadata": {
    "collapsed": false
   },
   "outputs": [
    {
     "name": "stdout",
     "output_type": "stream",
     "text": [
      "[(u'nba', 657), (u'draft', 382), (u'ball', 361), (u'video', 306), (u'top', 304), (u'big', 285), (u'per', 275), (u'one', 265), (u'game', 263), (u'prospects', 260), (u'year', 257), (u'shooting', 251), (u'point', 248), (u'interview', 235), (u'long', 231), (u'high', 219), (u'make', 215), (u'good', 209), (u'shot', 208), (u'team', 202), (u'get', 200), (u'around', 194), (u'ability', 194), (u'season', 193), (u'strong', 192), (u'level', 189), (u'guard', 181), (u'still', 178), (u'last', 176), (u'play', 171), (u'offensive', 170), (u'great', 163), (u'minutes', 162), (u'size', 161), (u\"doesn't\", 161), (u'40', 159), (u'also', 158), (u'rim', 158), (u'much', 157), (u'player', 155), (u'frame', 153), (u'3', 150), (u'first', 149), (u'shots', 149), (u'defensive', 148), (u'forward', 148), (u'two', 146), (u'impressive', 143), (u'physical', 142), (u'time', 140)]\n",
      "1070.06\n"
     ]
    },
    {
     "data": {
      "image/png": "[encoded data removed]",
      "text/plain": [
       "<matplotlib.figure.Figure at 0xdc8f0f0>"
      ]
     },
     "metadata": {},
     "output_type": "display_data"
    }
   ],
   "source": [
    "sw = set(stopwords.words('english'))\n",
    "sw.add(\"he's\")\n",
    "\n",
    "prospect_words = {}\n",
    "prospect_lengths = []\n",
    "with open(\"prospect_to_docs.json\") as f:\n",
    "    for line in f:\n",
    "        json_line = json.loads(line)\n",
    "        all_texts = json_line.values()\n",
    "        for text in all_texts:\n",
    "            text = text.replace(\"Please enable Javascript to watch this video\", \"\")\n",
    "            tokens = text.split()\n",
    "            prospect_lengths.append(len(tokens))\n",
    "            for token in tokens:\n",
    "                token = token.lower()\n",
    "                if token not in sw:\n",
    "                    if token in prospect_words:\n",
    "                        prospect_words[token] += 1\n",
    "                    else:\n",
    "                        prospect_words[token] = 1\n",
    "print sorted(prospect_words.items(), key= lambda x:x[1], reverse=True)[:50]\n",
    "\n",
    "print np.mean(prospect_lengths)\n",
    "plt.hist(prospect_lengths, bins=20, rwidth=0.9)\n",
    "plt.title(\"Document Length Histogram for Prospect Articles\")\n",
    "plt.xlabel(\"Document Length (Number of Tokens)\")\n",
    "plt.ylabel(\"Number of Documents\")\n",
    "plt.show()"
   ]
  },
  {
   "cell_type": "code",
   "execution_count": 4,
   "metadata": {
    "collapsed": false
   },
   "outputs": [
    {
     "data": {
      "image/png": "[encoded data removed]",
      "text/plain": [
       "<matplotlib.figure.Figure at 0xb518898>"
      ]
     },
     "metadata": {},
     "output_type": "display_data"
    }
   ],
   "source": [
    "plt.hist(prospect_words.values(), bins=30, rwidth=0.9, log=True)\n",
    "plt.title(\"Word Frequency Histogram for Prospect Articles\")\n",
    "plt.xlabel(\"Word Count\")\n",
    "plt.ylabel(\"Frequency\")\n",
    "plt.show()"
   ]
  },
  {
   "cell_type": "code",
   "execution_count": 5,
   "metadata": {
    "collapsed": false
   },
   "outputs": [
    {
     "ename": "IOError",
     "evalue": "[Errno 2] No such file or directory: 'curr_player_to_docs.json'",
     "output_type": "error",
     "traceback": [
      "\u001b[0;31m---------------------------------------------------------------------------\u001b[0m",
      "\u001b[0;31mIOError\u001b[0m                                   Traceback (most recent call last)",
      "\u001b[0;32m<ipython-input-5-642526c8e893>\u001b[0m in \u001b[0;36m<module>\u001b[0;34m()\u001b[0m\n\u001b[1;32m      1\u001b[0m \u001b[0mplayer_words\u001b[0m \u001b[1;33m=\u001b[0m \u001b[1;33m{\u001b[0m\u001b[1;33m}\u001b[0m\u001b[1;33m\u001b[0m\u001b[0m\n\u001b[1;32m      2\u001b[0m \u001b[0mplayer_lengths\u001b[0m \u001b[1;33m=\u001b[0m \u001b[1;33m[\u001b[0m\u001b[1;33m]\u001b[0m\u001b[1;33m\u001b[0m\u001b[0m\n\u001b[0;32m----> 3\u001b[0;31m \u001b[1;32mwith\u001b[0m \u001b[0mopen\u001b[0m\u001b[1;33m(\u001b[0m\u001b[1;34m\"curr_player_to_docs.json\"\u001b[0m\u001b[1;33m)\u001b[0m \u001b[1;32mas\u001b[0m \u001b[0mf\u001b[0m\u001b[1;33m:\u001b[0m\u001b[1;33m\u001b[0m\u001b[0m\n\u001b[0m\u001b[1;32m      4\u001b[0m     \u001b[1;32mfor\u001b[0m \u001b[0mline\u001b[0m \u001b[1;32min\u001b[0m \u001b[0mf\u001b[0m\u001b[1;33m:\u001b[0m\u001b[1;33m\u001b[0m\u001b[0m\n\u001b[1;32m      5\u001b[0m         \u001b[0mjson_line\u001b[0m \u001b[1;33m=\u001b[0m \u001b[0mjson\u001b[0m\u001b[1;33m.\u001b[0m\u001b[0mloads\u001b[0m\u001b[1;33m(\u001b[0m\u001b[0mline\u001b[0m\u001b[1;33m)\u001b[0m\u001b[1;33m\u001b[0m\u001b[0m\n",
      "\u001b[0;31mIOError\u001b[0m: [Errno 2] No such file or directory: 'curr_player_to_docs.json'"
     ]
    }
   ],
   "source": [
    "player_words = {}\n",
    "player_lengths = []\n",
    "with open(\"curr_player_to_docs.json\") as f:\n",
    "    for line in f:\n",
    "        json_line = json.loads(line)     \n",
    "        \n",
    "        all_texts = json_line.values()\n",
    "\n",
    "        for text in all_texts:\n",
    "            text = text.replace(\"Please enable Javascript to watch this video\", \"\")\n",
    "            tokens = text.split()\n",
    "            player_lengths.append(len(tokens))\n",
    "            for token in tokens:\n",
    "                token = token.lower()\n",
    "                if token not in sw:\n",
    "                    if token in player_words:\n",
    "                        player_words[token] += 1\n",
    "                    else:\n",
    "                        player_words[token] = 1\n",
    "print sorted(player_words.items(), key= lambda x:x[1], reverse=True)[:50]\n",
    "\n",
    "print np.mean(player_lengths)\n",
    "print len(player_lengths)\n",
    "plt.hist(player_lengths, bins=20, rwidth=0.9)\n",
    "plt.title(\"Document Length Histogram for Player Articles\")\n",
    "plt.xlabel(\"Document Length (Number of Tokens)\")\n",
    "plt.ylabel(\"Number of Documents\")\n",
    "plt.show()"
   ]
  },
  {
   "cell_type": "code",
   "execution_count": null,
   "metadata": {
    "collapsed": false
   },
   "outputs": [],
   "source": [
    "plt.hist(player_words.values(), bins=30, rwidth=0.9, log=True)\n",
    "plt.title(\"Word Frequency Histogram for Player Articles\")\n",
    "plt.xlabel(\"Word Count\")\n",
    "plt.ylabel(\"Frequency\")\n",
    "plt.show()"
   ]
  }
 ],
 "metadata": {
  "kernelspec": {
   "display_name": "Python [default]",
   "language": "python",
   "name": "python2"
  },
  "language_info": {
   "codemirror_mode": {
    "name": "ipython",
    "version": 2
   },
   "file_extension": ".py",
   "mimetype": "text/x-python",
   "name": "python",
   "nbconvert_exporter": "python",
   "pygments_lexer": "ipython2",
   "version": "2.7.12"
  }
 },
 "nbformat": 4,
 "nbformat_minor": 2
}
