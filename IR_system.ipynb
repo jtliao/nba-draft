{
 "cells": [
  {
   "cell_type": "markdown",
   "metadata": {},
   "source": [
    "figure out how to filter similar nba players by position\n",
    "\n",
    "try to make good/great amplify the next word"
   ]
  },
  {
   "cell_type": "code",
   "execution_count": 1,
   "metadata": {
    "collapsed": false
   },
   "outputs": [],
   "source": [
    "import json\n",
    "import re\n",
    "from sklearn.feature_extraction.text import TfidfVectorizer\n",
    "import numpy as np\n",
    "from nltk.stem.porter import PorterStemmer\n",
    "from nltk import word_tokenize\n",
    "from num2words import num2words"
   ]
  },
  {
   "cell_type": "code",
   "execution_count": 23,
   "metadata": {
    "collapsed": false
   },
   "outputs": [],
   "source": [
    "ind_to_prospect = {}\n",
    "prospect_to_ind = {}\n",
    "prospects = []\n",
    "with open(\"prospect_to_docs.json\") as f:\n",
    "    for l in f:\n",
    "        line = json.loads(l)\n",
    "        for ind, (prospect, text) in enumerate(line.items()):\n",
    "            ind_to_prospect[ind] = prospect\n",
    "            prospect_to_ind[prospect] = ind\n",
    "            prospects.append(text)\n",
    "with open(\"prospect_to_position.json\") as f:\n",
    "    for l in f:\n",
    "        prospect_to_position = json.loads(l)\n",
    "        \n",
    "            \n",
    "ind_to_player = {}\n",
    "player_to_ind = {}\n",
    "players = []\n",
    "with open(\"curr_player_to_docs.json\") as f:\n",
    "    for l in f:\n",
    "        line = json.loads(l)\n",
    "        for ind, (player, text) in enumerate(line.items()):\n",
    "            ind_to_player[ind] = player\n",
    "            player_to_ind[player] = ind\n",
    "            players.append(text)\n",
    "with open(\"curr_player_to_position.json\") as f:\n",
    "    for l in f:\n",
    "        player_to_position = json.loads(l)"
   ]
  },
  {
   "cell_type": "code",
   "execution_count": 13,
   "metadata": {
    "collapsed": false
   },
   "outputs": [],
   "source": [
    "def tokenize(text):\n",
    "    tokens = word_tokenize(text)\n",
    "    stemmer = PorterStemmer()\n",
    "    stems = []\n",
    "    for tok in tokens:\n",
    "        try:\n",
    "            i = int(tok)\n",
    "            stems.append(num2words(i))\n",
    "        except ValueError:\n",
    "            stems.append(stemmer.stem(tok))\n",
    "    #stems = [stemmer.stem(token) for token in tokens]\n",
    "    return stems\n",
    "tfidf = TfidfVectorizer(stop_words=\"english\", tokenizer=tokenize, ngram_range=(1, 3), norm=None)\n",
    "docs = tfidf.fit(players+prospects)\n",
    "prospect_docs = tfidf.transform(prospects).toarray()\n",
    "player_docs = tfidf.transform(players).toarray()"
   ]
  },
  {
   "cell_type": "code",
   "execution_count": 4,
   "metadata": {
    "collapsed": false
   },
   "outputs": [],
   "source": [
    "def find_similarity(query, topk=10):\n",
    "    transformed = tfidf.transform([query]).toarray().flatten()\n",
    "    sims = []\n",
    "    for ind, row in enumerate(prospect_docs):\n",
    "        doc = row.flatten()\n",
    "        if not np.all(doc == 0.0):\n",
    "            dotted = np.dot(doc, transformed)\n",
    "            sim = dotted/(np.linalg.norm(doc)*np.linalg.norm(transformed))\n",
    "            sims.append((sim, ind_to_prospect[ind]))\n",
    "    sorted_sims = sorted(sims, key=lambda x:x[0], reverse=True)\n",
    "    for i in range(1, topk + 1):\n",
    "        out = sorted_sims[i-1]\n",
    "        print(\"Rank {}: {}, Similarity: {}\".format(i, out[1], out[0]))"
   ]
  },
  {
   "cell_type": "code",
   "execution_count": 16,
   "metadata": {
    "collapsed": false
   },
   "outputs": [
    {
     "name": "stdout",
     "output_type": "stream",
     "text": [
      "Rank 1: Jarrett Allen, Similarity: 0.0365620408138\n",
      "Rank 2: Ike Anigbogu, Similarity: 0.0147625275128\n",
      "Rank 3: Omer Yurtseven, Similarity: 0.0145358353667\n",
      "Rank 4: Tacko Fall, Similarity: 0.0139476044011\n",
      "Rank 5: Laurynas Birutis, Similarity: 0.0125170344411\n",
      "Rank 6: Marques Bolden, Similarity: 0.00973460396599\n",
      "Rank 7: Isaiah Hartenstein, Similarity: 0.00873534153633\n",
      "Rank 8: Chimezie Metu, Similarity: 0.00831078864989\n",
      "Rank 9: Jordan Bell, Similarity: 0.00814097562955\n",
      "Rank 10: Thomas Bryant, Similarity: 0.00801542919298\n"
     ]
    }
   ],
   "source": [
    "find_similarity(\"shot blocking center\")"
   ]
  },
  {
   "cell_type": "code",
   "execution_count": 19,
   "metadata": {
    "collapsed": true
   },
   "outputs": [],
   "source": [
    "def find_similar_players(prospect, topk=10):\n",
    "    if prospect not in prospect_to_ind:\n",
    "        print \"Not a valid prospect\"\n",
    "        return\n",
    "    prospect_position = prospect_to_position[prospect]\n",
    "    prospect_ind = prospect_to_ind[prospect]\n",
    "    prospect_doc = prospect_docs[prospect_ind]\n",
    "    sims = []\n",
    "    for ind, row in enumerate(player_docs):\n",
    "        name = ind_to_player[ind]\n",
    "        position = player_to_position[name]\n",
    "        if position in prospect_position:\n",
    "            doc = row.flatten()\n",
    "            if not np.all(doc == 0.0):\n",
    "                dotted = np.dot(doc, prospect_doc)\n",
    "                sim = dotted/(np.linalg.norm(doc)*np.linalg.norm(prospect_doc))\n",
    "                sims.append((sim, name))\n",
    "    sorted_sims = sorted(sims, key=lambda x:x[0], reverse=True)\n",
    "    for i in range(1, topk + 1):\n",
    "        out = sorted_sims[i-1]\n",
    "        print(\"Rank {}: {}, Similarity: {}\".format(i, out[1], out[0]))"
   ]
  },
  {
   "cell_type": "code",
   "execution_count": 25,
   "metadata": {
    "collapsed": false
   },
   "outputs": [
    {
     "name": "stdout",
     "output_type": "stream",
     "text": [
      "Rank 1: Ricky Rubio, Similarity: 0.244465496014\n",
      "Rank 2: Derrick Rose, Similarity: 0.224699966666\n",
      "Rank 3: Brandon Jennings, Similarity: 0.220318984497\n",
      "Rank 4: Sergio Rodriguez, Similarity: 0.21498066484\n",
      "Rank 5: Greivis Vasquez, Similarity: 0.21166026024\n",
      "Rank 6: Marcus Williams %28UConn%29, Similarity: 0.209337499833\n",
      "Rank 7: Lorenzo Brown, Similarity: 0.207134659594\n",
      "Rank 8: Kemba Walker, Similarity: 0.205172956385\n",
      "Rank 9: Ty Lawson, Similarity: 0.204727886132\n",
      "Rank 10: Darren Collison, Similarity: 0.203820472302\n"
     ]
    }
   ],
   "source": [
    "find_similar_players(\"Markelle Fultz\")"
   ]
  }
 ],
 "metadata": {
  "kernelspec": {
   "display_name": "Python 2",
   "language": "python",
   "name": "python2"
  },
  "language_info": {
   "codemirror_mode": {
    "name": "ipython",
    "version": 2
   },
   "file_extension": ".py",
   "mimetype": "text/x-python",
   "name": "python",
   "nbconvert_exporter": "python",
   "pygments_lexer": "ipython2",
   "version": "2.7.13"
  }
 },
 "nbformat": 4,
 "nbformat_minor": 2
}
